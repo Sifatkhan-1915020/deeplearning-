{
  "metadata": {
    "kernelspec": {
      "language": "python",
      "display_name": "Python 3",
      "name": "python3"
    },
    "language_info": {
      "pygments_lexer": "ipython3",
      "nbconvert_exporter": "python",
      "version": "3.6.4",
      "file_extension": ".py",
      "codemirror_mode": {
        "name": "ipython",
        "version": 3
      },
      "name": "python",
      "mimetype": "text/x-python"
    },
    "colab": {
      "name": "SDI2P: OpenClip CoCa ViT | Simple Explanation ",
      "provenance": [],
      "include_colab_link": true
    }
  },
  "nbformat_minor": 0,
  "nbformat": 4,
  "cells": [
    {
      "cell_type": "markdown",
      "metadata": {
        "id": "view-in-github",
        "colab_type": "text"
      },
      "source": [
        "<a href=\"https://colab.research.google.com/github/Sifatkhan-1915020/deeplearning-/blob/main/Prompt%20to%20image%20generation%20.ipynb\" target=\"_parent\"><img src=\"https://colab.research.google.com/assets/colab-badge.svg\" alt=\"Open In Colab\"/></a>"
      ]
    },
    {
      "source": [
        "\n",
        "# IMPORTANT: RUN THIS CELL IN ORDER TO IMPORT YOUR KAGGLE DATA SOURCES\n",
        "# TO THE CORRECT LOCATION (/kaggle/input) IN YOUR NOTEBOOK,\n",
        "# THEN FEEL FREE TO DELETE THIS CELL.\n",
        "# NOTE: THIS NOTEBOOK ENVIRONMENT DIFFERS FROM KAGGLE'S PYTHON\n",
        "# ENVIRONMENT SO THERE MAY BE MISSING LIBRARIES USED BY YOUR\n",
        "# NOTEBOOK.\n",
        "\n",
        "import os\n",
        "import sys\n",
        "from tempfile import NamedTemporaryFile\n",
        "from urllib.request import urlopen\n",
        "from urllib.parse import unquote, urlparse\n",
        "from urllib.error import HTTPError\n",
        "from zipfile import ZipFile\n",
        "import tarfile\n",
        "import shutil\n",
        "\n",
        "CHUNK_SIZE = 40960\n",
        "DATA_SOURCE_MAPPING = 'sentence-transformers-222:https%3A%2F%2Fstorage.googleapis.com%2Fkaggle-data-sets%2F2893282%2F4988409%2Fbundle%2Farchive.zip%3FX-Goog-Algorithm%3DGOOG4-RSA-SHA256%26X-Goog-Credential%3Dgcp-kaggle-com%2540kaggle-161607.iam.gserviceaccount.com%252F20241012%252Fauto%252Fstorage%252Fgoog4_request%26X-Goog-Date%3D20241012T151433Z%26X-Goog-Expires%3D259200%26X-Goog-SignedHeaders%3Dhost%26X-Goog-Signature%3D25cedea2582627e453581e7a2fa1e8e1e108cca2ce70dcd2f9eea7859a5a1c94df1e8b4c2a06012badf1104075e514bf3db962badef2a4ac958708af6f4f0db10ac4ffa176860ad998d9169df1e4aaa64c095585a6e52206e047592aaf4325da4fb71969875ac9d728a1dc9c209907c438b373994f3c2de8063cad3f9bb418af7bc449c9f7726edc2752b37d4495f634640f9b9ace1c80366bc8f7fba84e290efbfac19d7270b9a26a75c3cda91cda6444ffbc5c83bdd4e79809186f18ce8a21a21a8ccf87bfd1958cd9ed1083365538b7f7caec5bd9d8a86e754a897de1f095ea4ec79688caeb96429963be9c57d7ba280472dbdd91ede4fe30542e865d9dfa,open-clip-wheels:https%3A%2F%2Fstorage.googleapis.com%2Fkaggle-data-sets%2F2908135%2F5011787%2Fbundle%2Farchive.zip%3FX-Goog-Algorithm%3DGOOG4-RSA-SHA256%26X-Goog-Credential%3Dgcp-kaggle-com%2540kaggle-161607.iam.gserviceaccount.com%252F20241012%252Fauto%252Fstorage%252Fgoog4_request%26X-Goog-Date%3D20241012T151433Z%26X-Goog-Expires%3D259200%26X-Goog-SignedHeaders%3Dhost%26X-Goog-Signature%3D3d6181e7494b7d06bad5e5b15c8ebacec3ce304237c03c5007349b5dd414065f7c392c0cdd75f9b2942d9ae663123f5460a7458b806978e9b862027b7525d8428a61b1c36b171aad92252c877a2a6b262398d156ce7e49b3e79e76c94a9859b61276435356cc350669e62b6bcaf78a6b5ee33c8981174018e81ceec9b0716df603d5be8cff1bd93c077b86a9c5c8efe9987ddd4fdb3c68bdce985cae7c861c07a883d2f08e3a75711138bd503c43ae36ac88926e1bfffa9f06297e88d8937f86d5a2827d09a073a61776d7c49b19c4049d28b5a109bc6d2e5f2c026996edcd692317eb4d3973124b23ddb126bcf2a98c9ff5dcb9b92c15cb1df6870cc59cfc38,open-clip-models:https%3A%2F%2Fstorage.googleapis.com%2Fkaggle-data-sets%2F2908357%2F5012196%2Fbundle%2Farchive.zip%3FX-Goog-Algorithm%3DGOOG4-RSA-SHA256%26X-Goog-Credential%3Dgcp-kaggle-com%2540kaggle-161607.iam.gserviceaccount.com%252F20241012%252Fauto%252Fstorage%252Fgoog4_request%26X-Goog-Date%3D20241012T151433Z%26X-Goog-Expires%3D259200%26X-Goog-SignedHeaders%3Dhost%26X-Goog-Signature%3D325de25c86b89bd17864c7c31613ccf8c29a865a3e3d3cc852c192e86d8ca88367d72acdc96e1ec2ee254e29b1a75f399d78e0ee90c3c5f8dc457329b8d16b1f8a89829cf1e3e21c19bda9307d8d2455cd45a94f3bbda74cceedda6c86a446b72377bd6b3a02e42bc63b2ceff203a319b571d98c0198213ca84976d9c457e6b4c4fc4e1d7290debbff2401d81bd4b3eac48693ee25d8f9d43c32ce1d662e2c13f96fc56e3f39463a593ef3e3c25172788a81ecb07fa26022a7916db5eb5110bf77c6469452c570873736f14d616d5fc23bb5655dc090b818e95a61463477822a41b354347a8636f18d3f55afbeb72923f6719771e25a24672d65929992f44f02,clip-interrogator-wheels-x:https%3A%2F%2Fstorage.googleapis.com%2Fkaggle-data-sets%2F2910036%2F5014911%2Fbundle%2Farchive.zip%3FX-Goog-Algorithm%3DGOOG4-RSA-SHA256%26X-Goog-Credential%3Dgcp-kaggle-com%2540kaggle-161607.iam.gserviceaccount.com%252F20241012%252Fauto%252Fstorage%252Fgoog4_request%26X-Goog-Date%3D20241012T151433Z%26X-Goog-Expires%3D259200%26X-Goog-SignedHeaders%3Dhost%26X-Goog-Signature%3D911a8cb9e727193f337da212b2993bf9d5848878fd1ff101a578a68659a6bba69c267c0d5e30cb2f431911831763f29f39dc726414a37437041790394ca963a9aa670e50fe15937695af979c5144168d31b4a2bda0a1baf5fd63f53b3788033f5716b11824eaee7e482004abf24860534280b7a3f198dd2b0d4e2f25e996115d39f8061005f02324370636b97da691a6bde47d41f93adf5a8ce1bf192732e27111ceae1ab2c562bb1b84cb1b76cf19d59819e4a080102c4b65c479485c93dc7486b5bf954a382d864bbdda417ce338f0e13e7e7ce0c7265889e0603b4e4566ae7634037276dfd4f69929c176d172795fc0b58b90d8c6a2064cc968fc8b8e511a,clip-interrogator-models-x:https%3A%2F%2Fstorage.googleapis.com%2Fkaggle-data-sets%2F2910127%2F5023272%2Fbundle%2Farchive.zip%3FX-Goog-Algorithm%3DGOOG4-RSA-SHA256%26X-Goog-Credential%3Dgcp-kaggle-com%2540kaggle-161607.iam.gserviceaccount.com%252F20241012%252Fauto%252Fstorage%252Fgoog4_request%26X-Goog-Date%3D20241012T151433Z%26X-Goog-Expires%3D259200%26X-Goog-SignedHeaders%3Dhost%26X-Goog-Signature%3D4e9c54cf7af17d5eb91078875fb6861f9056115e9d2c2577a14ed0c0f3e71c1c848797c05765077d21b144926293ca741f19d8e6a9fc2f31912d30b3f548a0dfd2a27d5da6bed0a1d1876a18f911a612abcf57531de0399bf812130e11f5134955d813a3638aa800d165e449604ea82e729bbed1b3d7fb78ee11078baa00ada31182aee07018c013d130166f0e7dbe4babca7098d2b25ba3b6a37ef9a1e8ef05c65afae118aaa6f3af0958e068f92efdcfc8eeb3945961b19b0ced19a0442ec617db209aabbb6063a61515fba0174002581e38fe6d577715d5e088f68885d664c342b38e56e9426db14a6e6e94614ea08529069689e96cdb84a2e09533e8e253,prompt2image:https%3A%2F%2Fstorage.googleapis.com%2Fkaggle-data-sets%2F2896761%2F5090396%2Fbundle%2Farchive.zip%3FX-Goog-Algorithm%3DGOOG4-RSA-SHA256%26X-Goog-Credential%3Dgcp-kaggle-com%2540kaggle-161607.iam.gserviceaccount.com%252F20241012%252Fauto%252Fstorage%252Fgoog4_request%26X-Goog-Date%3D20241012T151433Z%26X-Goog-Expires%3D259200%26X-Goog-SignedHeaders%3Dhost%26X-Goog-Signature%3D3b3f30e04041ba7f24a5bf64bfefdde949e751ae6383cfdf8a5d1885801cd5d8726be075e9dd53774c0631164d846fa0d85b82b9c03023e90f115f4e6e23a1cf9521e91fac705663f5b92f9604ce4843bf94725b85f55d96378308ac1281ac511063504f0f9022f084fa4cd66fdc65cfca97b954be8e8015cfb5425d09fb8349308dcfddd7c009a6dda991a035ed1cb5d654a946594cd6a774ee297dd49deac86b25d1eefa9a9f7801d39e393380d3cbb52caa75f0f582c4341a2e530c5b4e218e55522c76181a651db861ef6fff6aef61fc49fa229016b3a51bc70094cbdf2f840f3fc92bb8799c85961605c1e3ea85077124bae30eb721e1aa6988ffc3da12,saved-vit-model:https%3A%2F%2Fstorage.googleapis.com%2Fkaggle-data-sets%2F3190170%2F5534730%2Fbundle%2Farchive.zip%3FX-Goog-Algorithm%3DGOOG4-RSA-SHA256%26X-Goog-Credential%3Dgcp-kaggle-com%2540kaggle-161607.iam.gserviceaccount.com%252F20241012%252Fauto%252Fstorage%252Fgoog4_request%26X-Goog-Date%3D20241012T151434Z%26X-Goog-Expires%3D259200%26X-Goog-SignedHeaders%3Dhost%26X-Goog-Signature%3D323032e9c494dceb8ade06350e85d15f32b5c41634f84c00121551808f7df0a72ed0b30ff402ca0b06c1a0a4ce3b8804573af7197d50f3e8e8932ede3f46aa7dd950e72dd4eb9f4a6a4be4ea25eb406703fa1e1249be564fadb00c1a2fe6cb75974ee4fc9c20e5ad2f1c6a8c1e647919f1d477fc1ec0af8982c4241da1a1053287d11751773cd4fd4c076eef2cdea14fb358f9ff5b79e1e832b4716c658f7c9e9e9de3deafb069da92185481c3a67c3d90c49ed43290ccc20fb1c534ee3c11f9043a0fd69f81c3e6b86c4d3241182f044f19b591f75e2640a6f6ec41f5e62ec968087a31b64e43f71e2d8020e234590dd984648b91ff57f5936d8ee29d807a1d'\n",
        "\n",
        "KAGGLE_INPUT_PATH='/kaggle/input'\n",
        "KAGGLE_WORKING_PATH='/kaggle/working'\n",
        "KAGGLE_SYMLINK='kaggle'\n",
        "\n",
        "!umount /kaggle/input/ 2> /dev/null\n",
        "shutil.rmtree('/kaggle/input', ignore_errors=True)\n",
        "os.makedirs(KAGGLE_INPUT_PATH, 0o777, exist_ok=True)\n",
        "os.makedirs(KAGGLE_WORKING_PATH, 0o777, exist_ok=True)\n",
        "\n",
        "try:\n",
        "  os.symlink(KAGGLE_INPUT_PATH, os.path.join(\"..\", 'input'), target_is_directory=True)\n",
        "except FileExistsError:\n",
        "  pass\n",
        "try:\n",
        "  os.symlink(KAGGLE_WORKING_PATH, os.path.join(\"..\", 'working'), target_is_directory=True)\n",
        "except FileExistsError:\n",
        "  pass\n",
        "\n",
        "for data_source_mapping in DATA_SOURCE_MAPPING.split(','):\n",
        "    directory, download_url_encoded = data_source_mapping.split(':')\n",
        "    download_url = unquote(download_url_encoded)\n",
        "    filename = urlparse(download_url).path\n",
        "    destination_path = os.path.join(KAGGLE_INPUT_PATH, directory)\n",
        "    try:\n",
        "        with urlopen(download_url) as fileres, NamedTemporaryFile() as tfile:\n",
        "            total_length = fileres.headers['content-length']\n",
        "            print(f'Downloading {directory}, {total_length} bytes compressed')\n",
        "            dl = 0\n",
        "            data = fileres.read(CHUNK_SIZE)\n",
        "            while len(data) > 0:\n",
        "                dl += len(data)\n",
        "                tfile.write(data)\n",
        "                done = int(50 * dl / int(total_length))\n",
        "                sys.stdout.write(f\"\\r[{'=' * done}{' ' * (50-done)}] {dl} bytes downloaded\")\n",
        "                sys.stdout.flush()\n",
        "                data = fileres.read(CHUNK_SIZE)\n",
        "            if filename.endswith('.zip'):\n",
        "              with ZipFile(tfile) as zfile:\n",
        "                zfile.extractall(destination_path)\n",
        "            else:\n",
        "              with tarfile.open(tfile.name) as tarfile:\n",
        "                tarfile.extractall(destination_path)\n",
        "            print(f'\\nDownloaded and uncompressed: {directory}')\n",
        "    except HTTPError as e:\n",
        "        print(f'Failed to load (likely expired) {download_url} to path {destination_path}')\n",
        "        continue\n",
        "    except OSError as e:\n",
        "        print(f'Failed to load {download_url} to path {destination_path}')\n",
        "        continue\n",
        "\n",
        "print('Data source import complete.')\n"
      ],
      "metadata": {
        "id": "bKNs63qeS-gE"
      },
      "cell_type": "code",
      "outputs": [],
      "execution_count": null
    },
    {
      "cell_type": "markdown",
      "source": [
        "![image.png](attachment:ecd05abc-43d9-47cc-aa7d-ff382b3268ca.png)"
      ],
      "metadata": {
        "id": "82jxh4iIS-gH"
      }
    },
    {
      "cell_type": "markdown",
      "source": [
        "* Your task in the competition is to extract text out of images\n",
        "\n",
        "* In order to properly generate embeddings of your predicted prompts, it is crucial that you include the [sentence-transformers-2.2.2](https://www.kaggle.com/datasets/inversion/sentence-transformers-222) dataset\n",
        "\n",
        "* In this example, the [CoСa OpenClip](https://github.com/mlfoundations/open_clip) model is used to extract text.\n",
        "\n",
        "* The new stable diffusion model (Stable Diffusion 2.0-v) at 768x768 resolution has the same number of parameters in the U-Net as 1.5, but uses OpenCLIP-ViT/H as the text encoder and is trained from scratch. SD 2.0-v is a so-called v-prediction model. Using this knowledge, subsequent models for extracting text from images can be significantly improved."
      ],
      "metadata": {
        "id": "T5qvfajKS-gH"
      }
    },
    {
      "cell_type": "markdown",
      "source": [
        "# Quick Navigation\n",
        "\n",
        "* [Imports](#section-one)\n",
        "* [EDA](#s2)\n",
        "* [Dataset Used](#s3)\n",
        "* [Import All Dependencies](#s4)\n",
        "* [Define Configurations](#s5)\n",
        "* [Define imt2text CoCa OpenCLIP model](#s6)\n",
        "* [Extract Prompt From Images](#s7)\n",
        "* [Evaluation](#s8)\n",
        "* [Submission](#s9)"
      ],
      "metadata": {
        "id": "MMcSsxj-S-gI"
      }
    },
    {
      "cell_type": "markdown",
      "source": [
        "<a id=\"section-one\"></a>\n",
        "# Imports"
      ],
      "metadata": {
        "id": "LcIzRTEFS-gI"
      }
    },
    {
      "cell_type": "code",
      "source": [
        "import numpy as np\n",
        "import pandas as pd\n",
        "import matplotlib.pyplot as plt\n",
        "import seaborn as sns\n",
        "import os\n",
        "import sys\n",
        "import glob\n",
        "import math\n",
        "import random\n",
        "import numpy as np\n",
        "import pandas as pd\n",
        "from sklearn.metrics.pairwise import cosine_similarity\n",
        "import cv2\n",
        "import matplotlib.pyplot as plt\n",
        "from PIL import Image\n",
        "from pathlib import Path\n",
        "import torch"
      ],
      "metadata": {
        "_uuid": "8f2839f25d086af736a60e9eeb907d3b93b6e0e5",
        "_cell_guid": "b1076dfc-b9ad-4769-8c92-a6c4dae69d19",
        "execution": {
          "iopub.status.busy": "2023-05-17T16:58:13.10146Z",
          "iopub.execute_input": "2023-05-17T16:58:13.101904Z",
          "iopub.status.idle": "2023-05-17T16:58:13.111139Z",
          "shell.execute_reply.started": "2023-05-17T16:58:13.101872Z",
          "shell.execute_reply": "2023-05-17T16:58:13.109497Z"
        },
        "trusted": true,
        "id": "ileJbhsRS-gJ"
      },
      "execution_count": null,
      "outputs": []
    },
    {
      "cell_type": "code",
      "source": [
        "df_submission = pd.read_csv('/kaggle/input/stable-diffusion-image-to-prompts/sample_submission.csv', index_col='imgId_eId')\n",
        "df_submission.head()"
      ],
      "metadata": {
        "execution": {
          "iopub.status.busy": "2023-05-17T16:58:13.113514Z",
          "iopub.execute_input": "2023-05-17T16:58:13.113901Z",
          "iopub.status.idle": "2023-05-17T16:58:13.141628Z",
          "shell.execute_reply.started": "2023-05-17T16:58:13.113869Z",
          "shell.execute_reply": "2023-05-17T16:58:13.140644Z"
        },
        "trusted": true,
        "id": "Osk6XH-ES-gJ"
      },
      "execution_count": null,
      "outputs": []
    },
    {
      "cell_type": "markdown",
      "source": [
        "<a id=\"s2\"></a>\n",
        "# EDA"
      ],
      "metadata": {
        "id": "ExLVBqa_S-gJ"
      }
    },
    {
      "cell_type": "code",
      "source": [
        "prompts_df = pd.read_csv(\"../input/stable-diffusion-image-to-prompts/prompts.csv\")\n",
        "prompts_df"
      ],
      "metadata": {
        "execution": {
          "iopub.status.busy": "2023-05-17T16:58:13.143298Z",
          "iopub.execute_input": "2023-05-17T16:58:13.1437Z",
          "iopub.status.idle": "2023-05-17T16:58:13.160028Z",
          "shell.execute_reply.started": "2023-05-17T16:58:13.143668Z",
          "shell.execute_reply": "2023-05-17T16:58:13.158261Z"
        },
        "trusted": true,
        "id": "5wMIYmA8S-gK"
      },
      "execution_count": null,
      "outputs": []
    },
    {
      "cell_type": "code",
      "source": [
        "prompts_df.shape"
      ],
      "metadata": {
        "execution": {
          "iopub.status.busy": "2023-05-17T16:58:13.163687Z",
          "iopub.execute_input": "2023-05-17T16:58:13.164081Z",
          "iopub.status.idle": "2023-05-17T16:58:13.172055Z",
          "shell.execute_reply.started": "2023-05-17T16:58:13.164049Z",
          "shell.execute_reply": "2023-05-17T16:58:13.170534Z"
        },
        "trusted": true,
        "id": "QxiPmprfS-gK"
      },
      "execution_count": null,
      "outputs": []
    },
    {
      "cell_type": "code",
      "source": [
        "# Get the length of each prompt\n",
        "prompt_lengths = prompts_df[\"prompt\"].apply(lambda x: len(x.split()))\n",
        "\n",
        "# Plot the distribution of prompt lengths\n",
        "plt.figure(figsize=(10, 6))\n",
        "sns.histplot(prompt_lengths, kde=True, color=\"green\")\n",
        "plt.title(\"Distribution of Prompt Lengths\")\n",
        "plt.xlabel(\"Prompt Length\")\n",
        "plt.show()"
      ],
      "metadata": {
        "execution": {
          "iopub.status.busy": "2023-05-17T16:58:13.174187Z",
          "iopub.execute_input": "2023-05-17T16:58:13.174702Z",
          "iopub.status.idle": "2023-05-17T16:58:13.52464Z",
          "shell.execute_reply.started": "2023-05-17T16:58:13.174658Z",
          "shell.execute_reply": "2023-05-17T16:58:13.523481Z"
        },
        "trusted": true,
        "id": "AhJG8Y78S-gK"
      },
      "execution_count": null,
      "outputs": []
    },
    {
      "cell_type": "code",
      "source": [
        "from wordcloud import WordCloud\n",
        "\n",
        "# Join all the prompts together into a single string\n",
        "text = \" \".join(prompt for prompt in prompts_df.prompt)\n",
        "\n",
        "# Generate a word cloud\n",
        "wordcloud = WordCloud(width=800, height=500, random_state=42, max_font_size=110).generate(text)\n",
        "\n",
        "# Plot the word cloud\n",
        "plt.figure(figsize=(10, 7))\n",
        "plt.imshow(wordcloud, interpolation=\"bilinear\")\n",
        "plt.axis(\"off\")\n",
        "plt.show()"
      ],
      "metadata": {
        "execution": {
          "iopub.status.busy": "2023-05-17T16:58:13.526021Z",
          "iopub.execute_input": "2023-05-17T16:58:13.526363Z",
          "iopub.status.idle": "2023-05-17T16:58:14.042264Z",
          "shell.execute_reply.started": "2023-05-17T16:58:13.526334Z",
          "shell.execute_reply": "2023-05-17T16:58:14.041102Z"
        },
        "trusted": true,
        "id": "D-Gswj1cS-gL"
      },
      "execution_count": null,
      "outputs": []
    },
    {
      "cell_type": "markdown",
      "source": [
        "Unnecessary but just for observations 👆"
      ],
      "metadata": {
        "id": "_vcEnl40S-gL"
      }
    },
    {
      "cell_type": "code",
      "source": [
        "def image_id2path(\n",
        "    img_id: str,\n",
        "    folder: str = \"stable-diffusion-image-to-prompts\"\n",
        ") -> str:\n",
        "    return f\"../input/{folder}/images/{img_id}.png\""
      ],
      "metadata": {
        "execution": {
          "iopub.status.busy": "2023-05-17T16:58:14.043934Z",
          "iopub.execute_input": "2023-05-17T16:58:14.044279Z",
          "iopub.status.idle": "2023-05-17T16:58:14.049703Z",
          "shell.execute_reply.started": "2023-05-17T16:58:14.044249Z",
          "shell.execute_reply": "2023-05-17T16:58:14.048502Z"
        },
        "trusted": true,
        "id": "bgtOqS_jS-gL"
      },
      "execution_count": null,
      "outputs": []
    },
    {
      "cell_type": "code",
      "source": [
        "df_prompts = prompts_df.copy"
      ],
      "metadata": {
        "execution": {
          "iopub.status.busy": "2023-05-17T16:58:14.051422Z",
          "iopub.execute_input": "2023-05-17T16:58:14.052142Z",
          "iopub.status.idle": "2023-05-17T16:58:14.064011Z",
          "shell.execute_reply.started": "2023-05-17T16:58:14.052111Z",
          "shell.execute_reply": "2023-05-17T16:58:14.062834Z"
        },
        "trusted": true,
        "id": "9BSiYwwFS-gL"
      },
      "execution_count": null,
      "outputs": []
    },
    {
      "cell_type": "markdown",
      "source": [
        "**Function to show images and prompts provided,** we will be using this quite often"
      ],
      "metadata": {
        "id": "G1aXJ-uRS-gL"
      }
    },
    {
      "cell_type": "code",
      "source": [
        "def show_images_and_prompts(\n",
        "    df: pd.DataFrame,\n",
        "    folder: str = \"stable-diffusion-image-to-prompts\",\n",
        "    n: int = 10,\n",
        ") -> None:\n",
        "    if n == -1:\n",
        "        n = df.shape[0]\n",
        "    for ind, row in df[:n].iterrows():\n",
        "        img_id = row[\"imgId\"]\n",
        "        prompt = row[\"prompt\"]\n",
        "        path = image_id2path(img_id, folder)\n",
        "        image = cv2.imread(path)\n",
        "        image = cv2.cvtColor(image, cv2.COLOR_BGR2RGB)\n",
        "\n",
        "        if ind % 2 == 0:\n",
        "            plt.figure(figsize=(16, 8))\n",
        "            plt.subplot(1, 2, 1)\n",
        "        else:\n",
        "            plt.subplot(1, 2, 2)\n",
        "\n",
        "        plt.imshow(image)\n",
        "        list_prompt_words = prompt.split()\n",
        "        if len(prompt) > 100:\n",
        "            _len = len(list_prompt_words)\n",
        "            prompt = \"{}\\n{}\\n{}\".format(\n",
        "                \" \".join(list_prompt_words[:_len // 3]),\n",
        "                \" \".join(list_prompt_words[_len // 3 : 2 * _len // 3]),\n",
        "                \" \".join(list_prompt_words[2 * _len // 3:]),\n",
        "            )\n",
        "        elif len(prompt) > 50:\n",
        "            _len = len(list_prompt_words)\n",
        "            prompt = \"{}\\n{}\".format(\n",
        "                \" \".join(list_prompt_words[:_len // 2]),\n",
        "                \" \".join(list_prompt_words[_len // 2:])\n",
        "            )\n",
        "        plt.title(prompt, fontsize=14)\n",
        "        plt.axis(\"off\")"
      ],
      "metadata": {
        "execution": {
          "iopub.status.busy": "2023-05-17T16:58:14.069709Z",
          "iopub.execute_input": "2023-05-17T16:58:14.070803Z",
          "iopub.status.idle": "2023-05-17T16:58:14.083505Z",
          "shell.execute_reply.started": "2023-05-17T16:58:14.070767Z",
          "shell.execute_reply": "2023-05-17T16:58:14.082301Z"
        },
        "trusted": true,
        "id": "_Tnol72dS-gM"
      },
      "execution_count": null,
      "outputs": []
    },
    {
      "cell_type": "code",
      "source": [
        "if df_prompts is not None:\n",
        "    show_images_and_prompts(prompts_df, n=7)"
      ],
      "metadata": {
        "execution": {
          "iopub.status.busy": "2023-05-17T16:58:14.085228Z",
          "iopub.execute_input": "2023-05-17T16:58:14.086382Z",
          "iopub.status.idle": "2023-05-17T16:58:17.724168Z",
          "shell.execute_reply.started": "2023-05-17T16:58:14.086343Z",
          "shell.execute_reply": "2023-05-17T16:58:17.722914Z"
        },
        "trusted": true,
        "id": "T24ffUazS-gM"
      },
      "execution_count": null,
      "outputs": []
    },
    {
      "cell_type": "markdown",
      "source": [
        "<a id=\"s3\"></a>\n",
        "\n",
        "# Dataset Used"
      ],
      "metadata": {
        "id": "Hou4NhoNS-gM"
      }
    },
    {
      "cell_type": "markdown",
      "source": [
        "I have used a custom dataset in this notebook which can be found here: https://www.kaggle.com/datasets/ihelon/prompt2image"
      ],
      "metadata": {
        "id": "LvY6RmbiS-gM"
      }
    },
    {
      "cell_type": "code",
      "source": [
        "df_own = pd.read_csv(\"../input/prompt2image/prompts.csv\", dtype={\"imgId\": \"object\"})\n",
        "df_own"
      ],
      "metadata": {
        "execution": {
          "iopub.status.busy": "2023-05-17T16:58:17.725688Z",
          "iopub.execute_input": "2023-05-17T16:58:17.726602Z",
          "iopub.status.idle": "2023-05-17T16:58:17.741587Z",
          "shell.execute_reply.started": "2023-05-17T16:58:17.726568Z",
          "shell.execute_reply": "2023-05-17T16:58:17.740121Z"
        },
        "trusted": true,
        "id": "vDR4pTUoS-gM"
      },
      "execution_count": null,
      "outputs": []
    },
    {
      "cell_type": "code",
      "source": [
        "show_images_and_prompts(\n",
        "    df=df_own,\n",
        "    folder=\"prompt2image\",\n",
        "    n=-1,\n",
        ")"
      ],
      "metadata": {
        "execution": {
          "iopub.status.busy": "2023-05-17T16:58:17.743377Z",
          "iopub.execute_input": "2023-05-17T16:58:17.743784Z",
          "iopub.status.idle": "2023-05-17T16:58:23.071725Z",
          "shell.execute_reply.started": "2023-05-17T16:58:17.743753Z",
          "shell.execute_reply": "2023-05-17T16:58:23.070389Z"
        },
        "trusted": true,
        "id": "UX9WLF-4S-gM"
      },
      "execution_count": null,
      "outputs": []
    },
    {
      "cell_type": "markdown",
      "source": [
        "<a id=\"s4\"></a>\n",
        "# Import All Dependencies"
      ],
      "metadata": {
        "id": "rpjEKUgFS-gM"
      }
    },
    {
      "cell_type": "code",
      "source": [
        "df_own = pd.read_csv(\"../input/prompt2image/prompts.csv\", dtype={\"imgId\": \"object\"})\n",
        "df_own"
      ],
      "metadata": {
        "execution": {
          "iopub.status.busy": "2023-05-17T16:58:23.073422Z",
          "iopub.execute_input": "2023-05-17T16:58:23.073803Z",
          "iopub.status.idle": "2023-05-17T16:58:23.088875Z",
          "shell.execute_reply.started": "2023-05-17T16:58:23.073772Z",
          "shell.execute_reply": "2023-05-17T16:58:23.087995Z"
        },
        "trusted": true,
        "id": "Ffk1p1rXS-gM"
      },
      "execution_count": null,
      "outputs": []
    },
    {
      "cell_type": "code",
      "source": [
        "# For later use\n",
        "ratio_ViT_B_16          = 0.26\n",
        "ratio_CLIP_Interrogator = 0.15\n",
        "ratio_OFA               = 0.09\n",
        "\n",
        "CKPT_DIR = \"/kaggle/input/stable-diffusion-data/OFA-large-caption/\"\n",
        "IMAGE_DIR = \"/kaggle/input/stable-diffusion-image-to-prompts/images\"\n",
        "\n",
        "BATCH_SIZE = 24"
      ],
      "metadata": {
        "execution": {
          "iopub.status.busy": "2023-05-17T16:58:23.090202Z",
          "iopub.execute_input": "2023-05-17T16:58:23.091237Z",
          "iopub.status.idle": "2023-05-17T16:58:23.105709Z",
          "shell.execute_reply.started": "2023-05-17T16:58:23.091199Z",
          "shell.execute_reply": "2023-05-17T16:58:23.104059Z"
        },
        "trusted": true,
        "id": "g9kKtvVoS-gN"
      },
      "execution_count": null,
      "outputs": []
    },
    {
      "cell_type": "code",
      "source": [
        "wheels_path = \"/kaggle/input/open-clip-wheels/open_clip_wheels\"\n",
        "open_clip_whl_path = f\"{wheels_path}/open_clip_torch-2.14.0-py3-none-any.whl\"\n",
        "\n",
        "!pip install --no-index --find-links $wheels_path $open_clip_whl_path -q"
      ],
      "metadata": {
        "execution": {
          "iopub.status.busy": "2023-05-17T16:58:23.107344Z",
          "iopub.execute_input": "2023-05-17T16:58:23.107796Z",
          "iopub.status.idle": "2023-05-17T16:58:36.682157Z",
          "shell.execute_reply.started": "2023-05-17T16:58:23.107765Z",
          "shell.execute_reply": "2023-05-17T16:58:36.680363Z"
        },
        "trusted": true,
        "id": "zIV9ju_MS-gN"
      },
      "execution_count": null,
      "outputs": []
    },
    {
      "cell_type": "code",
      "source": [
        "import open_clip"
      ],
      "metadata": {
        "execution": {
          "iopub.status.busy": "2023-05-17T16:58:36.684638Z",
          "iopub.execute_input": "2023-05-17T16:58:36.68508Z",
          "iopub.status.idle": "2023-05-17T16:58:36.692406Z",
          "shell.execute_reply.started": "2023-05-17T16:58:36.685035Z",
          "shell.execute_reply": "2023-05-17T16:58:36.690864Z"
        },
        "trusted": true,
        "id": "KFQRdT6IS-gN"
      },
      "execution_count": null,
      "outputs": []
    },
    {
      "cell_type": "code",
      "source": [
        "sys.path.append('../input/sentence-transformers-222/sentence-transformers')\n",
        "from sentence_transformers import SentenceTransformer, models"
      ],
      "metadata": {
        "execution": {
          "iopub.status.busy": "2023-05-17T16:58:36.695418Z",
          "iopub.execute_input": "2023-05-17T16:58:36.695937Z",
          "iopub.status.idle": "2023-05-17T16:58:36.711088Z",
          "shell.execute_reply.started": "2023-05-17T16:58:36.695891Z",
          "shell.execute_reply": "2023-05-17T16:58:36.709721Z"
        },
        "trusted": true,
        "id": "zNOLuH1zS-gN"
      },
      "execution_count": null,
      "outputs": []
    },
    {
      "cell_type": "code",
      "source": [
        "comp_path = Path('/kaggle/input/stable-diffusion-image-to-prompts/')"
      ],
      "metadata": {
        "execution": {
          "iopub.status.busy": "2023-05-17T16:58:36.714088Z",
          "iopub.execute_input": "2023-05-17T16:58:36.714829Z",
          "iopub.status.idle": "2023-05-17T16:58:36.723829Z",
          "shell.execute_reply.started": "2023-05-17T16:58:36.714785Z",
          "shell.execute_reply": "2023-05-17T16:58:36.722504Z"
        },
        "trusted": true,
        "id": "BCmpP0n1S-gN"
      },
      "execution_count": null,
      "outputs": []
    },
    {
      "cell_type": "markdown",
      "source": [
        "<a id=\"s5\"></a>\n",
        "# Define Configurations"
      ],
      "metadata": {
        "id": "ZcJ-ZG5eS-gN"
      }
    },
    {
      "cell_type": "code",
      "source": [
        "class CFG:\n",
        "    device = \"cuda\"\n",
        "    seed = 42\n",
        "    embedding_length = 384\n",
        "    sentence_model_path = \"/kaggle/input/sentence-transformers-222/all-MiniLM-L6-v2\"\n",
        "    model_name = \"coca_ViT-L-14\"\n",
        "    model_checkpoint_path = \"/kaggle/input/open-clip-models/mscoco_finetuned_CoCa-ViT-L-14-laion2B-s13B-b90k.bin\""
      ],
      "metadata": {
        "execution": {
          "iopub.status.busy": "2023-05-17T16:58:36.7251Z",
          "iopub.execute_input": "2023-05-17T16:58:36.726162Z",
          "iopub.status.idle": "2023-05-17T16:58:36.73817Z",
          "shell.execute_reply.started": "2023-05-17T16:58:36.72611Z",
          "shell.execute_reply": "2023-05-17T16:58:36.736818Z"
        },
        "trusted": true,
        "id": "z8gxI-TOS-gO"
      },
      "execution_count": null,
      "outputs": []
    },
    {
      "cell_type": "markdown",
      "source": [
        "Build index from images and compare to sample submission index"
      ],
      "metadata": {
        "id": "GnNejQmXS-gO"
      }
    },
    {
      "cell_type": "code",
      "source": [
        "images = os.listdir(comp_path / 'images')\n",
        "imgIds = [i.split('.')[0] for i in images]\n",
        "\n",
        "eIds = list(range(CFG.embedding_length))\n",
        "\n",
        "imgId_eId = [\n",
        "    '_'.join(map(str, i)) for i in zip(\n",
        "        np.repeat(imgIds, CFG.embedding_length),\n",
        "        np.tile(range(CFG.embedding_length), len(imgIds)))]\n",
        "\n",
        "assert sorted(imgId_eId) == sorted(df_submission.index)"
      ],
      "metadata": {
        "execution": {
          "iopub.status.busy": "2023-05-17T16:58:36.740151Z",
          "iopub.execute_input": "2023-05-17T16:58:36.740705Z",
          "iopub.status.idle": "2023-05-17T16:58:36.767002Z",
          "shell.execute_reply.started": "2023-05-17T16:58:36.740652Z",
          "shell.execute_reply": "2023-05-17T16:58:36.765721Z"
        },
        "trusted": true,
        "id": "vMeFwugCS-gO"
      },
      "execution_count": null,
      "outputs": []
    },
    {
      "cell_type": "markdown",
      "source": [
        "# Load the embedding model"
      ],
      "metadata": {
        "id": "Yvp2koIpS-gO"
      }
    },
    {
      "cell_type": "code",
      "source": [
        "st_model = SentenceTransformer(CFG.sentence_model_path)"
      ],
      "metadata": {
        "execution": {
          "iopub.status.busy": "2023-05-17T16:58:36.76971Z",
          "iopub.execute_input": "2023-05-17T16:58:36.770065Z",
          "iopub.status.idle": "2023-05-17T16:58:37.197189Z",
          "shell.execute_reply.started": "2023-05-17T16:58:36.770036Z",
          "shell.execute_reply": "2023-05-17T16:58:37.195465Z"
        },
        "trusted": true,
        "id": "_Vf8n4gjS-gP"
      },
      "execution_count": null,
      "outputs": []
    },
    {
      "cell_type": "markdown",
      "source": [
        "<a id=\"s6\"></a>\n",
        "# Define imt2text CoCa OpenCLIP model"
      ],
      "metadata": {
        "id": "qarlM4uqS-gP"
      }
    },
    {
      "cell_type": "code",
      "source": [
        "model = open_clip.create_model(CFG.model_name)\n",
        "open_clip.load_checkpoint(model, CFG.model_checkpoint_path)"
      ],
      "metadata": {
        "execution": {
          "iopub.status.busy": "2023-05-17T16:58:37.199314Z",
          "iopub.execute_input": "2023-05-17T16:58:37.199717Z",
          "iopub.status.idle": "2023-05-17T16:58:48.017015Z",
          "shell.execute_reply.started": "2023-05-17T16:58:37.199683Z",
          "shell.execute_reply": "2023-05-17T16:58:48.015524Z"
        },
        "trusted": true,
        "id": "BC00c56dS-gP"
      },
      "execution_count": null,
      "outputs": []
    },
    {
      "cell_type": "code",
      "source": [
        "transform = open_clip.image_transform(\n",
        "    model.visual.image_size,\n",
        "    is_train = False,\n",
        "    mean = getattr(model.visual, 'image_mean', None),\n",
        "    std = getattr(model.visual, 'image_std', None),\n",
        ")"
      ],
      "metadata": {
        "execution": {
          "iopub.status.busy": "2023-05-17T16:58:48.020054Z",
          "iopub.execute_input": "2023-05-17T16:58:48.020658Z",
          "iopub.status.idle": "2023-05-17T16:58:48.02767Z",
          "shell.execute_reply.started": "2023-05-17T16:58:48.020611Z",
          "shell.execute_reply": "2023-05-17T16:58:48.026329Z"
        },
        "trusted": true,
        "id": "iLHlFuvtS-gP"
      },
      "execution_count": null,
      "outputs": []
    },
    {
      "cell_type": "code",
      "source": [
        "device = torch.device(\"cuda\" if torch.cuda.is_available() else \"cpu\")\n",
        "model.to(device)\n",
        "print(device)"
      ],
      "metadata": {
        "execution": {
          "iopub.status.busy": "2023-05-17T16:58:48.036069Z",
          "iopub.execute_input": "2023-05-17T16:58:48.036481Z",
          "iopub.status.idle": "2023-05-17T16:58:48.059367Z",
          "shell.execute_reply.started": "2023-05-17T16:58:48.03645Z",
          "shell.execute_reply": "2023-05-17T16:58:48.057816Z"
        },
        "trusted": true,
        "id": "YH8XGYfbS-gP"
      },
      "execution_count": null,
      "outputs": []
    },
    {
      "cell_type": "markdown",
      "source": [
        "<a id=\"s7\"></a>\n",
        "# Extract promt from images"
      ],
      "metadata": {
        "id": "lJIzrxixS-gP"
      }
    },
    {
      "cell_type": "code",
      "source": [
        "prompts = []\n",
        "\n",
        "images_path = \"../input/stable-diffusion-image-to-prompts/images/\"\n",
        "for image_name in images:\n",
        "    img = Image.open(images_path + image_name).convert(\"RGB\")\n",
        "    img = transform(img).unsqueeze(0)\n",
        "\n",
        "    with torch.no_grad(), torch.cuda.amp.autocast():\n",
        "        generated = model.generate(img.to(device))\n",
        "\n",
        "    prompts.append(\n",
        "        open_clip.decode(\n",
        "            generated[0]\n",
        "        ).split(\"<end_of_text>\")[0].replace(\"<start_of_text>\", \"\").rstrip(\" .,\")\n",
        "    )\n",
        "\n",
        "# Encode prompts for submisssion\n",
        "prompt_embeddings = st_model.encode(prompts).flatten()"
      ],
      "metadata": {
        "execution": {
          "iopub.status.busy": "2023-05-17T16:58:48.060959Z",
          "iopub.execute_input": "2023-05-17T16:58:48.061289Z",
          "iopub.status.idle": "2023-05-17T17:01:06.740391Z",
          "shell.execute_reply.started": "2023-05-17T16:58:48.061261Z",
          "shell.execute_reply": "2023-05-17T17:01:06.739276Z"
        },
        "trusted": true,
        "id": "clUJlHucS-gP"
      },
      "execution_count": null,
      "outputs": []
    },
    {
      "cell_type": "markdown",
      "source": [
        "<a id=\"s8\"></a>\n",
        "# Evaluation"
      ],
      "metadata": {
        "id": "ZjCEMtSLS-gQ"
      }
    },
    {
      "cell_type": "code",
      "source": [
        "prompts"
      ],
      "metadata": {
        "execution": {
          "iopub.status.busy": "2023-05-17T17:01:06.741884Z",
          "iopub.execute_input": "2023-05-17T17:01:06.742206Z",
          "iopub.status.idle": "2023-05-17T17:01:06.750312Z",
          "shell.execute_reply.started": "2023-05-17T17:01:06.742177Z",
          "shell.execute_reply": "2023-05-17T17:01:06.749201Z"
        },
        "trusted": true,
        "id": "_g78cI85S-gQ"
      },
      "execution_count": null,
      "outputs": []
    },
    {
      "cell_type": "code",
      "source": [
        "prompts[0]"
      ],
      "metadata": {
        "execution": {
          "iopub.status.busy": "2023-05-17T17:01:06.75198Z",
          "iopub.execute_input": "2023-05-17T17:01:06.752307Z",
          "iopub.status.idle": "2023-05-17T17:01:06.766074Z",
          "shell.execute_reply.started": "2023-05-17T17:01:06.752279Z",
          "shell.execute_reply": "2023-05-17T17:01:06.764702Z"
        },
        "trusted": true,
        "id": "8dyHYRslS-gQ"
      },
      "execution_count": null,
      "outputs": []
    },
    {
      "cell_type": "code",
      "source": [
        "prompts_df['prompt']\n",
        "\n",
        "for i in range(len(prompts_df)):\n",
        "    prompts_df['prompt'][i] = prompts[i]"
      ],
      "metadata": {
        "execution": {
          "iopub.status.busy": "2023-05-17T17:01:06.767682Z",
          "iopub.execute_input": "2023-05-17T17:01:06.76812Z",
          "iopub.status.idle": "2023-05-17T17:01:06.78007Z",
          "shell.execute_reply.started": "2023-05-17T17:01:06.76809Z",
          "shell.execute_reply": "2023-05-17T17:01:06.778516Z"
        },
        "trusted": true,
        "id": "mchJolipS-gQ"
      },
      "execution_count": null,
      "outputs": []
    },
    {
      "cell_type": "code",
      "source": [
        "dff = prompts_df.copy()"
      ],
      "metadata": {
        "execution": {
          "iopub.status.busy": "2023-05-17T17:01:06.781602Z",
          "iopub.execute_input": "2023-05-17T17:01:06.782102Z",
          "iopub.status.idle": "2023-05-17T17:01:06.7926Z",
          "shell.execute_reply.started": "2023-05-17T17:01:06.782052Z",
          "shell.execute_reply": "2023-05-17T17:01:06.791605Z"
        },
        "trusted": true,
        "id": "Nu2lrbeuS-gQ"
      },
      "execution_count": null,
      "outputs": []
    },
    {
      "cell_type": "markdown",
      "source": [
        "Reodering list for correct visualisation"
      ],
      "metadata": {
        "id": "kbYAH3BaS-gQ"
      }
    },
    {
      "cell_type": "code",
      "source": [
        "dff.loc[0]['prompt'] = prompts_df['prompt'][3]\n",
        "dff.loc[1]['prompt'] = prompts_df['prompt'][5]\n",
        "dff.loc[2]['prompt'] = prompts_df['prompt'][1]\n",
        "dff.loc[3]['prompt'] = prompts_df['prompt'][2]\n",
        "dff.loc[4]['prompt'] = prompts_df['prompt'][6]\n",
        "dff.loc[5]['prompt'] = prompts_df['prompt'][4]\n",
        "dff.loc[6]['prompt'] = prompts_df['prompt'][0]"
      ],
      "metadata": {
        "execution": {
          "iopub.status.busy": "2023-05-17T17:01:06.79392Z",
          "iopub.execute_input": "2023-05-17T17:01:06.794284Z",
          "iopub.status.idle": "2023-05-17T17:01:06.807722Z",
          "shell.execute_reply.started": "2023-05-17T17:01:06.794255Z",
          "shell.execute_reply": "2023-05-17T17:01:06.806642Z"
        },
        "trusted": true,
        "id": "61xAFsTnS-gQ"
      },
      "execution_count": null,
      "outputs": []
    },
    {
      "cell_type": "code",
      "source": [
        "if df_prompts is not None:\n",
        "    show_images_and_prompts(dff, n=7)"
      ],
      "metadata": {
        "execution": {
          "iopub.status.busy": "2023-05-17T17:01:06.809097Z",
          "iopub.execute_input": "2023-05-17T17:01:06.810206Z",
          "iopub.status.idle": "2023-05-17T17:01:10.367505Z",
          "shell.execute_reply.started": "2023-05-17T17:01:06.810121Z",
          "shell.execute_reply": "2023-05-17T17:01:10.366046Z"
        },
        "trusted": true,
        "id": "z_-XadHtS-gQ"
      },
      "execution_count": null,
      "outputs": []
    },
    {
      "cell_type": "markdown",
      "source": [
        "As we can see, our model has performed very well in analysing and describing the context of the picture! We will proceed to make a submission now"
      ],
      "metadata": {
        "id": "eA3N83MvS-gQ"
      }
    },
    {
      "cell_type": "markdown",
      "source": [
        "<a id=\"s9\"></a>\n",
        "# Submission"
      ],
      "metadata": {
        "id": "VAHD_uI2S-gQ"
      }
    },
    {
      "cell_type": "code",
      "source": [
        "submission = pd.DataFrame(\n",
        "    index=imgId_eId,\n",
        "    data=prompt_embeddings,\n",
        "    columns=['val']\n",
        ").rename_axis('imgId_eId').reset_index()\n",
        "\n",
        "submission"
      ],
      "metadata": {
        "execution": {
          "iopub.status.busy": "2023-05-17T17:01:10.369628Z",
          "iopub.execute_input": "2023-05-17T17:01:10.370166Z",
          "iopub.status.idle": "2023-05-17T17:01:10.394415Z",
          "shell.execute_reply.started": "2023-05-17T17:01:10.370122Z",
          "shell.execute_reply": "2023-05-17T17:01:10.392973Z"
        },
        "trusted": true,
        "id": "2oZC6e9zS-gR"
      },
      "execution_count": null,
      "outputs": []
    },
    {
      "cell_type": "code",
      "source": [
        "submission.to_csv('submission.csv', index=False)"
      ],
      "metadata": {
        "execution": {
          "iopub.status.busy": "2023-05-17T17:01:10.396783Z",
          "iopub.execute_input": "2023-05-17T17:01:10.397169Z",
          "iopub.status.idle": "2023-05-17T17:01:10.417489Z",
          "shell.execute_reply.started": "2023-05-17T17:01:10.397135Z",
          "shell.execute_reply": "2023-05-17T17:01:10.416235Z"
        },
        "trusted": true,
        "id": "EyQlcpecS-gR"
      },
      "execution_count": null,
      "outputs": []
    },
    {
      "cell_type": "markdown",
      "source": [
        "Reference notebooks:\n",
        "\n",
        "* https://www.kaggle.com/code/sajit08/stablediffusion-v2\n",
        "* https://www.kaggle.com/competitions/stable-diffusion-image-to-prompts\n",
        "* https://www.kaggle.com/code/maverickss26/lb-0-55962-clipinterrogator-ofa-vit/notebook\n",
        "* https://www.kaggle.com/code/ihelon/image2prompts-eda-ensembling/notebook\n",
        "* https://www.kaggle.com/code/leonidkulyk/lb-0-42118-laion-s-coca-vit-openclip"
      ],
      "metadata": {
        "id": "CsoN0lTkS-gR"
      }
    },
    {
      "cell_type": "markdown",
      "source": [
        "**Thank you** for taking the time to read through my notebook! I hope you found it interesting and informative.\n",
        "\n",
        "If you liked what you read, consider making an upvote, as it means a lot to me and would aspire other people to check on my results as well!"
      ],
      "metadata": {
        "id": "tE7t1pNVS-gR"
      }
    }
  ]
}