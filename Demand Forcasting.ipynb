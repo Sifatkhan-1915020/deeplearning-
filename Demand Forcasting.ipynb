{
  "metadata": {
    "kernelspec": {
      "language": "python",
      "display_name": "Python 3",
      "name": "python3"
    },
    "language_info": {
      "name": "python",
      "version": "3.10.13",
      "mimetype": "text/x-python",
      "codemirror_mode": {
        "name": "ipython",
        "version": 3
      },
      "pygments_lexer": "ipython3",
      "nbconvert_exporter": "python",
      "file_extension": ".py"
    },
    "kaggle": {
      "accelerator": "none",
      "dataSources": [
        {
          "sourceId": 7643327,
          "sourceType": "datasetVersion",
          "datasetId": 3798081
        }
      ],
      "dockerImageVersionId": 30746,
      "isInternetEnabled": false,
      "language": "python",
      "sourceType": "notebook",
      "isGpuEnabled": false
    },
    "colab": {
      "name": "Project_1(Amazon_Products_data)",
      "provenance": [],
      "include_colab_link": true
    }
  },
  "nbformat_minor": 0,
  "nbformat": 4,
  "cells": [
    {
      "cell_type": "markdown",
      "metadata": {
        "id": "view-in-github",
        "colab_type": "text"
      },
      "source": [
        "<a href=\"https://colab.research.google.com/github/Sifatkhan-1915020/deeplearning-/blob/main/Demand%20Forcasting.ipynb\" target=\"_parent\"><img src=\"https://colab.research.google.com/assets/colab-badge.svg\" alt=\"Open In Colab\"/></a>"
      ]
    },
    {
      "source": [
        "\n",
        "# IMPORTANT: RUN THIS CELL IN ORDER TO IMPORT YOUR KAGGLE DATA SOURCES\n",
        "# TO THE CORRECT LOCATION (/kaggle/input) IN YOUR NOTEBOOK,\n",
        "# THEN FEEL FREE TO DELETE THIS CELL.\n",
        "# NOTE: THIS NOTEBOOK ENVIRONMENT DIFFERS FROM KAGGLE'S PYTHON\n",
        "# ENVIRONMENT SO THERE MAY BE MISSING LIBRARIES USED BY YOUR\n",
        "# NOTEBOOK.\n",
        "\n",
        "import os\n",
        "import sys\n",
        "from tempfile import NamedTemporaryFile\n",
        "from urllib.request import urlopen\n",
        "from urllib.parse import unquote, urlparse\n",
        "from urllib.error import HTTPError\n",
        "from zipfile import ZipFile\n",
        "import tarfile\n",
        "import shutil\n",
        "\n",
        "CHUNK_SIZE = 40960\n",
        "DATA_SOURCE_MAPPING = 'amazon-products-dataset-2023-1-4m-products:https%3A%2F%2Fstorage.googleapis.com%2Fkaggle-data-sets%2F3798081%2F7643327%2Fbundle%2Farchive.zip%3FX-Goog-Algorithm%3DGOOG4-RSA-SHA256%26X-Goog-Credential%3Dgcp-kaggle-com%2540kaggle-161607.iam.gserviceaccount.com%252F20241012%252Fauto%252Fstorage%252Fgoog4_request%26X-Goog-Date%3D20241012T152908Z%26X-Goog-Expires%3D259200%26X-Goog-SignedHeaders%3Dhost%26X-Goog-Signature%3D37a9410036954557b649b1484d97454b3f8918c8112afc77d7e4c6821e5b3e14cfb597f0455805412508169e981523cf547ae750fc8049a4df5e0387e9edfcb4720b7f5f28492c86dbc3902f5293445b6dc266e3038e2510eb389794173817359c9755f2a08d9a6027e7516d9c307ebf5b3ef0d306ef5cef69e02f374329fa7e0fa2c5eeff364cf8e6ed54340bdb3967df9eca7fa5f3c02c01241e63d63f8cbaca812fd77f3bdc41f6fcc7b3baf261a7095de9dad80e0bdbfa96113efc98538a5a2d0a0bacd3c9f68478773efbc51c246e5c1980890f2a8bb323bacc09d37339eba4c94f6b02989141708327fb075ce1ef4df6c8a8a1abc650ec7eea4947c6b3'\n",
        "\n",
        "KAGGLE_INPUT_PATH='/kaggle/input'\n",
        "KAGGLE_WORKING_PATH='/kaggle/working'\n",
        "KAGGLE_SYMLINK='kaggle'\n",
        "\n",
        "!umount /kaggle/input/ 2> /dev/null\n",
        "shutil.rmtree('/kaggle/input', ignore_errors=True)\n",
        "os.makedirs(KAGGLE_INPUT_PATH, 0o777, exist_ok=True)\n",
        "os.makedirs(KAGGLE_WORKING_PATH, 0o777, exist_ok=True)\n",
        "\n",
        "try:\n",
        "  os.symlink(KAGGLE_INPUT_PATH, os.path.join(\"..\", 'input'), target_is_directory=True)\n",
        "except FileExistsError:\n",
        "  pass\n",
        "try:\n",
        "  os.symlink(KAGGLE_WORKING_PATH, os.path.join(\"..\", 'working'), target_is_directory=True)\n",
        "except FileExistsError:\n",
        "  pass\n",
        "\n",
        "for data_source_mapping in DATA_SOURCE_MAPPING.split(','):\n",
        "    directory, download_url_encoded = data_source_mapping.split(':')\n",
        "    download_url = unquote(download_url_encoded)\n",
        "    filename = urlparse(download_url).path\n",
        "    destination_path = os.path.join(KAGGLE_INPUT_PATH, directory)\n",
        "    try:\n",
        "        with urlopen(download_url) as fileres, NamedTemporaryFile() as tfile:\n",
        "            total_length = fileres.headers['content-length']\n",
        "            print(f'Downloading {directory}, {total_length} bytes compressed')\n",
        "            dl = 0\n",
        "            data = fileres.read(CHUNK_SIZE)\n",
        "            while len(data) > 0:\n",
        "                dl += len(data)\n",
        "                tfile.write(data)\n",
        "                done = int(50 * dl / int(total_length))\n",
        "                sys.stdout.write(f\"\\r[{'=' * done}{' ' * (50-done)}] {dl} bytes downloaded\")\n",
        "                sys.stdout.flush()\n",
        "                data = fileres.read(CHUNK_SIZE)\n",
        "            if filename.endswith('.zip'):\n",
        "              with ZipFile(tfile) as zfile:\n",
        "                zfile.extractall(destination_path)\n",
        "            else:\n",
        "              with tarfile.open(tfile.name) as tarfile:\n",
        "                tarfile.extractall(destination_path)\n",
        "            print(f'\\nDownloaded and uncompressed: {directory}')\n",
        "    except HTTPError as e:\n",
        "        print(f'Failed to load (likely expired) {download_url} to path {destination_path}')\n",
        "        continue\n",
        "    except OSError as e:\n",
        "        print(f'Failed to load {download_url} to path {destination_path}')\n",
        "        continue\n",
        "\n",
        "print('Data source import complete.')\n"
      ],
      "metadata": {
        "id": "nTPYvF3aWRGP"
      },
      "cell_type": "code",
      "outputs": [],
      "execution_count": null
    },
    {
      "cell_type": "markdown",
      "source": [
        "# # Amazon Products Dataset 2023\n",
        "**This dataset contains information on approximately 1.4 million Amazon products, including details such as product titles, prices, ratings, and categories.**"
      ],
      "metadata": {
        "id": "RYddTHCdWRGR"
      }
    },
    {
      "cell_type": "markdown",
      "source": [
        "***Import Libraries  For Analysing***"
      ],
      "metadata": {
        "id": "7E1tUL-nWRGS"
      }
    },
    {
      "cell_type": "code",
      "source": [
        "import pandas as pd\n",
        "import matplotlib.pyplot as plt\n",
        "import seaborn as sns\n",
        "import numpy as np\n"
      ],
      "metadata": {
        "execution": {
          "iopub.status.busy": "2024-07-30T04:43:22.255984Z",
          "iopub.execute_input": "2024-07-30T04:43:22.25645Z",
          "iopub.status.idle": "2024-07-30T04:43:25.066393Z",
          "shell.execute_reply.started": "2024-07-30T04:43:22.256411Z",
          "shell.execute_reply": "2024-07-30T04:43:25.065159Z"
        },
        "trusted": true,
        "id": "ahR6fbwQWRGS"
      },
      "execution_count": null,
      "outputs": []
    },
    {
      "cell_type": "markdown",
      "source": [
        "**Import The Dataset**"
      ],
      "metadata": {
        "id": "U8qlaCWDWRGS"
      }
    },
    {
      "cell_type": "code",
      "source": [
        "c_df = pd.read_csv('/kaggle/input/amazon-products-dataset-2023-1-4m-products/amazon_categories.csv')\n",
        "c_df.head(5)"
      ],
      "metadata": {
        "execution": {
          "iopub.status.busy": "2024-07-30T04:43:25.068725Z",
          "iopub.execute_input": "2024-07-30T04:43:25.069367Z",
          "iopub.status.idle": "2024-07-30T04:43:25.112749Z",
          "shell.execute_reply.started": "2024-07-30T04:43:25.069326Z",
          "shell.execute_reply": "2024-07-30T04:43:25.111391Z"
        },
        "trusted": true,
        "id": "dK5aJDXSWRGT"
      },
      "execution_count": null,
      "outputs": []
    },
    {
      "cell_type": "code",
      "source": [
        "c_df.info()"
      ],
      "metadata": {
        "execution": {
          "iopub.status.busy": "2024-07-30T04:43:25.114223Z",
          "iopub.execute_input": "2024-07-30T04:43:25.114622Z",
          "iopub.status.idle": "2024-07-30T04:43:25.141136Z",
          "shell.execute_reply.started": "2024-07-30T04:43:25.114588Z",
          "shell.execute_reply": "2024-07-30T04:43:25.139867Z"
        },
        "trusted": true,
        "id": "6RLd9d2CWRGT"
      },
      "execution_count": null,
      "outputs": []
    },
    {
      "cell_type": "code",
      "source": [
        "p_df = pd.read_csv('/kaggle/input/amazon-products-dataset-2023-1-4m-products/amazon_products.csv')\n",
        "p_df.info()\n",
        "p_df.head(5)"
      ],
      "metadata": {
        "execution": {
          "iopub.status.busy": "2024-07-30T04:43:25.145957Z",
          "iopub.execute_input": "2024-07-30T04:43:25.146359Z",
          "iopub.status.idle": "2024-07-30T04:43:39.317718Z",
          "shell.execute_reply.started": "2024-07-30T04:43:25.146311Z",
          "shell.execute_reply": "2024-07-30T04:43:39.316586Z"
        },
        "trusted": true,
        "id": "tAa0yBvHWRGT"
      },
      "execution_count": null,
      "outputs": []
    },
    {
      "cell_type": "code",
      "source": [
        "\n",
        "print(p_df.info())"
      ],
      "metadata": {
        "execution": {
          "iopub.status.busy": "2024-07-30T04:43:39.318921Z",
          "iopub.execute_input": "2024-07-30T04:43:39.319228Z",
          "iopub.status.idle": "2024-07-30T04:43:39.697668Z",
          "shell.execute_reply.started": "2024-07-30T04:43:39.319202Z",
          "shell.execute_reply": "2024-07-30T04:43:39.696308Z"
        },
        "trusted": true,
        "id": "HF4M5uLMWRGT"
      },
      "execution_count": null,
      "outputs": []
    },
    {
      "cell_type": "code",
      "source": [
        "p_df.isnull().sum()"
      ],
      "metadata": {
        "execution": {
          "iopub.status.busy": "2024-07-30T04:43:39.699364Z",
          "iopub.execute_input": "2024-07-30T04:43:39.699847Z",
          "iopub.status.idle": "2024-07-30T04:43:40.05711Z",
          "shell.execute_reply.started": "2024-07-30T04:43:39.699785Z",
          "shell.execute_reply": "2024-07-30T04:43:40.055765Z"
        },
        "trusted": true,
        "id": "QX0VtBOHWRGT"
      },
      "execution_count": null,
      "outputs": []
    },
    {
      "cell_type": "code",
      "source": [
        "p_df['title'] = p_df['title'].fillna('Untitled Product') #filling null values of the title"
      ],
      "metadata": {
        "execution": {
          "iopub.status.busy": "2024-07-30T04:43:40.058536Z",
          "iopub.execute_input": "2024-07-30T04:43:40.059091Z",
          "iopub.status.idle": "2024-07-30T04:43:40.298903Z",
          "shell.execute_reply.started": "2024-07-30T04:43:40.059052Z",
          "shell.execute_reply": "2024-07-30T04:43:40.297775Z"
        },
        "trusted": true,
        "id": "ZebpXIjNWRGT"
      },
      "execution_count": null,
      "outputs": []
    },
    {
      "cell_type": "markdown",
      "source": [
        "> Removing reviews from the table, as i thought it was not necessary"
      ],
      "metadata": {
        "id": "dGGdHBMqWRGU"
      }
    },
    {
      "cell_type": "code",
      "source": [
        "p_df.drop('reviews', axis=1, inplace=True)"
      ],
      "metadata": {
        "execution": {
          "iopub.status.busy": "2024-07-30T04:43:40.301101Z",
          "iopub.execute_input": "2024-07-30T04:43:40.301535Z",
          "iopub.status.idle": "2024-07-30T04:43:40.480125Z",
          "shell.execute_reply.started": "2024-07-30T04:43:40.301495Z",
          "shell.execute_reply": "2024-07-30T04:43:40.478736Z"
        },
        "trusted": true,
        "id": "sjIlxcH4WRGU"
      },
      "execution_count": null,
      "outputs": []
    },
    {
      "cell_type": "markdown",
      "source": [
        "**Merging  Categery and Products**"
      ],
      "metadata": {
        "id": "Hq_T41AMWRGU"
      }
    },
    {
      "cell_type": "code",
      "source": [
        "c_df = c_df.rename(columns={'id': 'category_id'}) #Renaming the id column of category table to merge 2 tables"
      ],
      "metadata": {
        "execution": {
          "iopub.status.busy": "2024-07-30T04:43:40.481597Z",
          "iopub.execute_input": "2024-07-30T04:43:40.482496Z",
          "iopub.status.idle": "2024-07-30T04:43:40.489007Z",
          "shell.execute_reply.started": "2024-07-30T04:43:40.482449Z",
          "shell.execute_reply": "2024-07-30T04:43:40.4877Z"
        },
        "trusted": true,
        "id": "LucwrGthWRGU"
      },
      "execution_count": null,
      "outputs": []
    },
    {
      "cell_type": "code",
      "source": [
        "df = pd.merge(p_df, c_df, on='category_id', how='left')\n",
        "df.head()"
      ],
      "metadata": {
        "execution": {
          "iopub.status.busy": "2024-07-30T04:43:40.493685Z",
          "iopub.execute_input": "2024-07-30T04:43:40.494255Z",
          "iopub.status.idle": "2024-07-30T04:43:41.116356Z",
          "shell.execute_reply.started": "2024-07-30T04:43:40.494217Z",
          "shell.execute_reply": "2024-07-30T04:43:41.11489Z"
        },
        "trusted": true,
        "id": "egPUnQ9aWRGU"
      },
      "execution_count": null,
      "outputs": []
    },
    {
      "cell_type": "code",
      "source": [],
      "metadata": {
        "id": "iGhQN4-0WRGV"
      },
      "execution_count": null,
      "outputs": []
    },
    {
      "cell_type": "code",
      "source": [
        "pd.set_option('display.float_format', '{:.2f}'.format)\n",
        "df.describe()"
      ],
      "metadata": {
        "execution": {
          "iopub.status.busy": "2024-07-30T04:43:41.117922Z",
          "iopub.execute_input": "2024-07-30T04:43:41.118367Z",
          "iopub.status.idle": "2024-07-30T04:43:41.38602Z",
          "shell.execute_reply.started": "2024-07-30T04:43:41.118324Z",
          "shell.execute_reply": "2024-07-30T04:43:41.384869Z"
        },
        "trusted": true,
        "id": "XGHKhb-lWRGV"
      },
      "execution_count": null,
      "outputs": []
    },
    {
      "cell_type": "code",
      "source": [
        "# Check for any remaining null values\n",
        "print(df.isnull().sum())\n",
        "\n",
        "# Check unique values in category_id\n",
        "print(df['category_id'].nunique())\n",
        "\n",
        "# Check the range of boughtInLastMonth\n",
        "print(df['boughtInLastMonth'].min(), df['boughtInLastMonth'].max())"
      ],
      "metadata": {
        "execution": {
          "iopub.status.busy": "2024-07-30T04:43:41.387668Z",
          "iopub.execute_input": "2024-07-30T04:43:41.388032Z",
          "iopub.status.idle": "2024-07-30T04:43:41.788579Z",
          "shell.execute_reply.started": "2024-07-30T04:43:41.388002Z",
          "shell.execute_reply": "2024-07-30T04:43:41.787407Z"
        },
        "trusted": true,
        "id": "npz9WACnWRGV"
      },
      "execution_count": null,
      "outputs": []
    },
    {
      "cell_type": "markdown",
      "source": [
        "> Graphically showing the Top 10 Categories by Product Count using Bar Chart"
      ],
      "metadata": {
        "id": "chGr1BM3WRGV"
      }
    },
    {
      "cell_type": "code",
      "source": [
        "custom_palette = sns.color_palette(\"Blues_r\", n_colors=10)\n",
        "\n",
        "plt.figure(figsize=(12, 6))\n",
        "top_categories = df['category_name'].value_counts().nlargest(10)\n",
        "sns.barplot(x=top_categories.values, y=top_categories.index, palette=custom_palette)\n",
        "plt.title('Top 10 Categories by Product Count')\n",
        "plt.xlabel('Number of Products')\n",
        "plt.ylabel('Category')\n",
        "plt.show()"
      ],
      "metadata": {
        "execution": {
          "iopub.status.busy": "2024-07-30T04:43:41.789933Z",
          "iopub.execute_input": "2024-07-30T04:43:41.790348Z",
          "iopub.status.idle": "2024-07-30T04:43:42.338417Z",
          "shell.execute_reply.started": "2024-07-30T04:43:41.79031Z",
          "shell.execute_reply": "2024-07-30T04:43:42.337157Z"
        },
        "trusted": true,
        "id": "7b0Uo-6KWRGW"
      },
      "execution_count": null,
      "outputs": []
    },
    {
      "cell_type": "markdown",
      "source": [
        "> Price Distribution by Category (Top 5 categories) using BoxPlot"
      ],
      "metadata": {
        "id": "LkZQOokNWRGW"
      }
    },
    {
      "cell_type": "code",
      "source": [
        "plt.figure(figsize=(12, 6))\n",
        "top_5_categories = df['category_name'].value_counts().nlargest(5).index\n",
        "sns.boxplot(x='category_name', y='price', data=df[df['category_name'].isin(top_5_categories)])\n",
        "plt.title('Price Distribution by Category (Top 5)')\n",
        "plt.xlabel('Category')\n",
        "plt.ylabel('Price ($)')\n",
        "plt.xticks(rotation=45)\n",
        "plt.show()"
      ],
      "metadata": {
        "execution": {
          "iopub.status.busy": "2024-07-30T04:43:42.339826Z",
          "iopub.execute_input": "2024-07-30T04:43:42.340189Z",
          "iopub.status.idle": "2024-07-30T04:43:42.921965Z",
          "shell.execute_reply.started": "2024-07-30T04:43:42.340159Z",
          "shell.execute_reply": "2024-07-30T04:43:42.920209Z"
        },
        "trusted": true,
        "id": "cKPDTMEzWRGW"
      },
      "execution_count": null,
      "outputs": []
    },
    {
      "cell_type": "markdown",
      "source": [
        "* This suggests that there might be a unique or premium product within the ‘Toys & Games’ category."
      ],
      "metadata": {
        "id": "FpS5P3vtWRGW"
      }
    },
    {
      "cell_type": "markdown",
      "source": [
        ">Average Rating vs. Best Seller Status"
      ],
      "metadata": {
        "id": "5RbnBB7aWRGW"
      }
    },
    {
      "cell_type": "code",
      "source": [
        "custom_palette = sns.color_palette(\"Blues_r\", n_colors=2)\n",
        "plt.figure(figsize=(10, 6))\n",
        "sns.boxplot(x='isBestSeller', y='stars', data=df)\n",
        "plt.title('Average Rating vs. Best Seller Status')\n",
        "plt.xlabel('Is Best Seller')\n",
        "plt.ylabel('Rating (Stars)')\n",
        "plt.show()"
      ],
      "metadata": {
        "execution": {
          "iopub.status.busy": "2024-07-30T04:43:42.923524Z",
          "iopub.execute_input": "2024-07-30T04:43:42.923901Z",
          "iopub.status.idle": "2024-07-30T04:43:43.699751Z",
          "shell.execute_reply.started": "2024-07-30T04:43:42.92387Z",
          "shell.execute_reply": "2024-07-30T04:43:43.69813Z"
        },
        "trusted": true,
        "id": "Za3kFUh-WRGX"
      },
      "execution_count": null,
      "outputs": []
    },
    {
      "cell_type": "markdown",
      "source": [
        "* Best sellers tend to have higher median ratings.\n",
        "* Non-best sellers have more outliers, indicating greater variation in     ratings."
      ],
      "metadata": {
        "id": "H9A57Q3tWRGX"
      }
    },
    {
      "cell_type": "markdown",
      "source": [
        "> DASHBOARD"
      ],
      "metadata": {
        "id": "efVnxmDpWRGX"
      }
    },
    {
      "cell_type": "code",
      "source": [
        "# Calculate some summary statistics\n",
        "total_products = len(df)\n",
        "avg_price = df['price'].mean()\n",
        "best_sellers = df['isBestSeller'].sum()\n",
        "top_category = df['category_name'].mode()[0]\n",
        "\n",
        "# Create a summary figure\n",
        "fig, axs = plt.subplots(2, 2, figsize=(20, 20))\n",
        "fig.suptitle('Amazon Products Analysis Dashboard', fontsize=20)\n",
        "\n",
        "# Top 10 Categories by Product Count\n",
        "custom_palette = sns.color_palette(\"Blues_r\", n_colors=10)\n",
        "\n",
        "top_categories = df['category_name'].value_counts().nlargest(10)\n",
        "sns.barplot(x=top_categories.values, y=top_categories.index, palette=custom_palette,ax=axs[0, 0])\n",
        "axs[0, 0].set_title('Top 10 Categories by Product Count')\n",
        "axs[0, 0].set_xlabel('Number of Products')\n",
        "axs[0, 0].set_ylabel('Category'),\n",
        "\n",
        "\n",
        "# Price Distribution by Category (Top 5)\n",
        "top_5_categories = df['category_name'].value_counts().nlargest(5).index\n",
        "sns.boxplot(x='category_name', y='price', data=df[df['category_name'].isin(top_5_categories)], ax=axs[0, 1])\n",
        "axs[0, 1].set_title('Price Distribution by Category (Top 5)')\n",
        "axs[0, 1].set_xlabel('Category')\n",
        "axs[0, 1].set_ylabel('Price ($)')\n",
        "axs[0, 1].tick_params(axis='x', rotation=45)\n",
        "\n",
        "# Average Rating vs. Best Seller Status\n",
        "sns.boxplot(x='isBestSeller', y='stars', data=df, ax=axs[1, 0])\n",
        "axs[1, 0].set_title('Average Rating vs. Best Seller Status')\n",
        "axs[1, 0].set_xlabel('Is Best Seller')\n",
        "axs[1, 0].set_ylabel('Rating (Stars)')\n",
        "\n",
        "# Summary statistics\n",
        "axs[1, 1].axis('off')\n",
        "axs[1, 1].text(0.1, 0.9, f'Total Products: {total_products:,}', fontsize=18)\n",
        "axs[1, 1].text(0.1, 0.7, f'Average Price: ${avg_price:.2f}', fontsize=18)\n",
        "axs[1, 1].text(0.1, 0.5, f'Number of Best Sellers: {best_sellers:,}', fontsize=18)\n",
        "axs[1, 1].text(0.1, 0.3, f'Top Category: {top_category}', fontsize=18)\n",
        "\n",
        "plt.tight_layout()\n",
        "plt.show()"
      ],
      "metadata": {
        "execution": {
          "iopub.status.busy": "2024-07-30T04:46:46.96049Z",
          "iopub.execute_input": "2024-07-30T04:46:46.961599Z",
          "iopub.status.idle": "2024-07-30T04:46:48.978948Z",
          "shell.execute_reply.started": "2024-07-30T04:46:46.96155Z",
          "shell.execute_reply": "2024-07-30T04:46:48.977845Z"
        },
        "trusted": true,
        "id": "JUnLshT5WRGX"
      },
      "execution_count": null,
      "outputs": []
    },
    {
      "cell_type": "markdown",
      "source": [
        "# > Conclusion\n",
        "From this Amazon's Products data set i found that gilr's clothing have more products.It is the top category. The total number of best sellers are 8520.Best sellers tend to have higher median ratings.And Non-best sellers have more outliers, indicating greater variation in ratings.\n",
        "  comes to Price distribution by Category The ‘Toys & Games’ category has an outlier.It suggests that there might be a unique or premium product within the ‘Toys & Games’ category."
      ],
      "metadata": {
        "id": "lmMn1E-3WRGX"
      }
    }
  ]
}