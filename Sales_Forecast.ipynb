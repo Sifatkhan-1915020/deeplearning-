{
  "cells": [
    {
      "cell_type": "markdown",
      "metadata": {
        "id": "view-in-github",
        "colab_type": "text"
      },
      "source": [
        "<a href=\"https://colab.research.google.com/github/Sifatkhan-1915020/deeplearning-/blob/main/Sales_Forecast.ipynb\" target=\"_parent\"><img src=\"https://colab.research.google.com/assets/colab-badge.svg\" alt=\"Open In Colab\"/></a>"
      ]
    },
    {
      "source": [
        "\n",
        "# IMPORTANT: RUN THIS CELL IN ORDER TO IMPORT YOUR KAGGLE DATA SOURCES\n",
        "# TO THE CORRECT LOCATION (/kaggle/input) IN YOUR NOTEBOOK,\n",
        "# THEN FEEL FREE TO DELETE THIS CELL.\n",
        "# NOTE: THIS NOTEBOOK ENVIRONMENT DIFFERS FROM KAGGLE'S PYTHON\n",
        "# ENVIRONMENT SO THERE MAY BE MISSING LIBRARIES USED BY YOUR\n",
        "# NOTEBOOK.\n",
        "\n",
        "import os\n",
        "import sys\n",
        "from tempfile import NamedTemporaryFile\n",
        "from urllib.request import urlopen\n",
        "from urllib.parse import unquote, urlparse\n",
        "from urllib.error import HTTPError\n",
        "from zipfile import ZipFile\n",
        "import tarfile\n",
        "import shutil\n",
        "\n",
        "CHUNK_SIZE = 40960\n",
        "DATA_SOURCE_MAPPING = 'glove-global-vectors-for-word-representation:https%3A%2F%2Fstorage.googleapis.com%2Fkaggle-data-sets%2F1835%2F3176%2Fbundle%2Farchive.zip%3FX-Goog-Algorithm%3DGOOG4-RSA-SHA256%26X-Goog-Credential%3Dgcp-kaggle-com%2540kaggle-161607.iam.gserviceaccount.com%252F20241012%252Fauto%252Fstorage%252Fgoog4_request%26X-Goog-Date%3D20241012T145033Z%26X-Goog-Expires%3D259200%26X-Goog-SignedHeaders%3Dhost%26X-Goog-Signature%3D11f51dd5a72b78cb09657fbf6cb1b1a1d7ab177ee157d9abf7b190ee30503978c00ae02e09b0b6d09f481e3e7b389177445ebd5679c2ef5eb3bbcf1fd502b771df5a55d813587c85e967a8c4ed9a8c8ff59b2377bc01e76191048c4b239265cfbbe9f6bb4c3e4d05afc803955c12d405c0346f1c352c7a58a882737af08550798f7a11cf3508904dee194fbd97696da5263e422605802b4246f17c8059f8a4d4564de38560ef1b18dbcc9b16fabf318cd9199429f1ad6f00edf77904b713dbdd9bf9b9e9a2f1cb07996265e468be32c53fd971cbf35d3fd06893da482a3537c271f4d5eafae24b7c0c4b37f59a5336db562caa20492d5ed2a802825533ad89dc,ecommerce-data:https%3A%2F%2Fstorage.googleapis.com%2Fkaggle-data-sets%2F1985%2F3404%2Fbundle%2Farchive.zip%3FX-Goog-Algorithm%3DGOOG4-RSA-SHA256%26X-Goog-Credential%3Dgcp-kaggle-com%2540kaggle-161607.iam.gserviceaccount.com%252F20241012%252Fauto%252Fstorage%252Fgoog4_request%26X-Goog-Date%3D20241012T145033Z%26X-Goog-Expires%3D259200%26X-Goog-SignedHeaders%3Dhost%26X-Goog-Signature%3D7a124986be175be09c4bd9700d6aee939ae1f07057a7fd9acea3da15d334466f46dcc82bb18926a3272305e49d29e40be8da134b15ce037fc2b1590c6f5af18ea0f7eeb17b35f114e90326a77819c07581a17132a3485da695a254370e4cd6f4656563790a0533cf3e10ab5c28ca06bb8db23dd9291f597b9555a2a216815d258e371becbbee62504a48987bf0d098425d3c6d83e8772347620b02c309668dd0364818d90c2ffa811a2469a85037685b6678d2274da70fb3670e622a9c2d07453a073d402c357698ab59a27794da37d14a982a181988d6aca2d31c6561218ba442c4c4267aa664c2df5a89cac0934fb712b638aed1d9efc59d4ae4f65039b352'\n",
        "\n",
        "KAGGLE_INPUT_PATH='/kaggle/input'\n",
        "KAGGLE_WORKING_PATH='/kaggle/working'\n",
        "KAGGLE_SYMLINK='kaggle'\n",
        "\n",
        "!umount /kaggle/input/ 2> /dev/null\n",
        "shutil.rmtree('/kaggle/input', ignore_errors=True)\n",
        "os.makedirs(KAGGLE_INPUT_PATH, 0o777, exist_ok=True)\n",
        "os.makedirs(KAGGLE_WORKING_PATH, 0o777, exist_ok=True)\n",
        "\n",
        "try:\n",
        "  os.symlink(KAGGLE_INPUT_PATH, os.path.join(\"..\", 'input'), target_is_directory=True)\n",
        "except FileExistsError:\n",
        "  pass\n",
        "try:\n",
        "  os.symlink(KAGGLE_WORKING_PATH, os.path.join(\"..\", 'working'), target_is_directory=True)\n",
        "except FileExistsError:\n",
        "  pass\n",
        "\n",
        "for data_source_mapping in DATA_SOURCE_MAPPING.split(','):\n",
        "    directory, download_url_encoded = data_source_mapping.split(':')\n",
        "    download_url = unquote(download_url_encoded)\n",
        "    filename = urlparse(download_url).path\n",
        "    destination_path = os.path.join(KAGGLE_INPUT_PATH, directory)\n",
        "    try:\n",
        "        with urlopen(download_url) as fileres, NamedTemporaryFile() as tfile:\n",
        "            total_length = fileres.headers['content-length']\n",
        "            print(f'Downloading {directory}, {total_length} bytes compressed')\n",
        "            dl = 0\n",
        "            data = fileres.read(CHUNK_SIZE)\n",
        "            while len(data) > 0:\n",
        "                dl += len(data)\n",
        "                tfile.write(data)\n",
        "                done = int(50 * dl / int(total_length))\n",
        "                sys.stdout.write(f\"\\r[{'=' * done}{' ' * (50-done)}] {dl} bytes downloaded\")\n",
        "                sys.stdout.flush()\n",
        "                data = fileres.read(CHUNK_SIZE)\n",
        "            if filename.endswith('.zip'):\n",
        "              with ZipFile(tfile) as zfile:\n",
        "                zfile.extractall(destination_path)\n",
        "            else:\n",
        "              with tarfile.open(tfile.name) as tarfile:\n",
        "                tarfile.extractall(destination_path)\n",
        "            print(f'\\nDownloaded and uncompressed: {directory}')\n",
        "    except HTTPError as e:\n",
        "        print(f'Failed to load (likely expired) {download_url} to path {destination_path}')\n",
        "        continue\n",
        "    except OSError as e:\n",
        "        print(f'Failed to load {download_url} to path {destination_path}')\n",
        "        continue\n",
        "\n",
        "print('Data source import complete.')\n"
      ],
      "metadata": {
        "id": "lIJQoJkaNdMq"
      },
      "cell_type": "code",
      "outputs": [],
      "execution_count": null
    },
    {
      "metadata": {
        "_uuid": "6ada2c989fda9872168bc4c9a147ae98733ac53a",
        "id": "9bbdM3hJNdMr"
      },
      "cell_type": "markdown",
      "source": [
        "## Warehouse optimization\n",
        "\n",
        "Within this kernel we will analyse sales data of an UK online retailer. As storage area may be expensive and fast delivery on time is important to prevail over the competition we like to help the retailer by predicting daily amounts of sold products."
      ]
    },
    {
      "metadata": {
        "_uuid": "d30cc160f6573c01fc3691b9fcac5bd9e4c2f73b",
        "id": "HFUs99t3NdMs"
      },
      "cell_type": "markdown",
      "source": [
        "## Table of contents\n",
        "\n",
        "**Caution - Everything is heavily under construction ;-)**\n",
        "\n",
        "### [Get ready to take-off](#takeoff)\n",
        "\n",
        "1. [Prepare to start](#load) (complete)\n",
        "2. [Get familiar with the data](#intro) (complete)\n",
        "3. [Get an initial feeling for the data by exploration](#feeling)\n",
        "    * [Missing values](#missing) (complete)\n",
        "    * [The time period](#timeperiod) (complete)\n",
        "    * [The invoice number](#invoiceno) (complete)\n",
        "    * [Stockcodes](#stockcodes) (complete)\n",
        "    * [Descriptions](#descriptions) (complete)\n",
        "    * [Customers](#customers)\n",
        "    * [Countries](#countries) (complete)\n",
        "    * [Unit Price](#unitprice)\n",
        "    * [Quantities](#quantities) (complete)\n",
        "    * [Revenues](#revenues)\n",
        "    * [Conclusion](#expconclusion)\n",
        "4. [Focus on daily product sales](#daily)"
      ]
    },
    {
      "metadata": {
        "_uuid": "09ddc4eab14c3abc5d8a484a7b9125c5278cb1ce",
        "id": "YjGASgViNdMt"
      },
      "cell_type": "markdown",
      "source": [
        "# Get ready to take-off <a class=\"anchor\" id=\"takeoff\"></a>\n",
        "\n",
        "## 1. Prepare to start <a class=\"anchor\" id=\"load\"></a>"
      ]
    },
    {
      "metadata": {
        "_cell_guid": "b1076dfc-b9ad-4769-8c92-a6c4dae69d19",
        "_kg_hide-input": true,
        "_uuid": "8f2839f25d086af736a60e9eeb907d3b93b6e0e5",
        "trusted": true,
        "id": "ny2DoyXvNdMt"
      },
      "cell_type": "code",
      "source": [
        "import numpy as np\n",
        "import pandas as pd\n",
        "import matplotlib.pyplot as plt\n",
        "%matplotlib inline\n",
        "\n",
        "import seaborn as sns\n",
        "sns.set()\n",
        "\n",
        "from catboost import CatBoostRegressor, Pool, cv\n",
        "from catboost import MetricVisualizer\n",
        "\n",
        "from sklearn.model_selection import TimeSeriesSplit\n",
        "from sklearn.preprocessing import StandardScaler\n",
        "from sklearn.cluster import KMeans\n",
        "\n",
        "from scipy.stats import boxcox\n",
        "from os import listdir\n",
        "\n",
        "import warnings\n",
        "warnings.filterwarnings(\"ignore\", category=DeprecationWarning)\n",
        "warnings.filterwarnings(\"ignore\", category=UserWarning)\n",
        "warnings.filterwarnings(\"ignore\", category=RuntimeWarning)\n",
        "warnings.filterwarnings(\"ignore\", category=FutureWarning)\n",
        "\n",
        "import shap\n",
        "shap.initjs()"
      ],
      "execution_count": null,
      "outputs": []
    },
    {
      "metadata": {
        "trusted": true,
        "_uuid": "8aacf6c421e22b849bcd676252b542cd3c7efd34",
        "id": "HBCvbL4UNdMt"
      },
      "cell_type": "code",
      "source": [
        "print(listdir(\"../input\"))"
      ],
      "execution_count": null,
      "outputs": []
    },
    {
      "metadata": {
        "_cell_guid": "79c7e3d0-c299-4dcb-8224-4455121ee9b0",
        "_uuid": "d629ff2d2480ee46fbb7e2d37f6b5fab8052498a",
        "trusted": true,
        "id": "LHvYNTEKNdMt"
      },
      "cell_type": "code",
      "source": [
        "data = pd.read_csv(\"../input/ecommerce-data/data.csv\", encoding=\"ISO-8859-1\", dtype={'CustomerID': str})\n",
        "data.shape"
      ],
      "execution_count": null,
      "outputs": []
    },
    {
      "metadata": {
        "_uuid": "59569bb10034b048029e3c3f9c219b10160121db",
        "id": "X03iYrhANdMu"
      },
      "cell_type": "markdown",
      "source": [
        "The data has 541909 entries and 8 variables."
      ]
    },
    {
      "metadata": {
        "_uuid": "5090437916104b77541f6f61da04dd3e946beee9",
        "id": "ZBgC7rKTNdMu"
      },
      "cell_type": "markdown",
      "source": [
        "## 2. Get familiar with the data <a class=\"anchor\" id=\"intro\"></a>"
      ]
    },
    {
      "metadata": {
        "_uuid": "68b22a4b3ffc12910c361f27298acb3099f5d384",
        "trusted": true,
        "id": "C5-O3VaVNdMu"
      },
      "cell_type": "code",
      "source": [
        "data.head()"
      ],
      "execution_count": null,
      "outputs": []
    },
    {
      "metadata": {
        "_uuid": "40a683fd23fa33266c9c03ec310bf3be65414440",
        "id": "HOaoXPXVNdMu"
      },
      "cell_type": "markdown",
      "source": [
        "We can see that the datafile has information given for **each single transaction**. Take a look at the InvoiceNo and the CustomerID of the first entries. Here we can see that **one customer with ID 17850 of the United Kingdom made a single order that has the InvoideNo 536365**. The customer ordered **several products with different stockcodes, descriptions, unit prices and quantities**. In addition we can see that the InvoiceDate was the same for these products."
      ]
    },
    {
      "metadata": {
        "_uuid": "c837cfae25ec4d931576f376313ec5ab09629900",
        "id": "41FTeObSNdMv"
      },
      "cell_type": "markdown",
      "source": [
        "## 3. Get an initial feeling for the data by exploration <a class=\"anchor\" id=\"feeling\"></a>"
      ]
    },
    {
      "metadata": {
        "_uuid": "6c0c9265d0926281234abe6a944e713c173a94ff",
        "id": "PcXrU-4ZNdMv"
      },
      "cell_type": "markdown",
      "source": [
        "### Missing values <a class=\"anchor\" id=\"missing\"></a>"
      ]
    },
    {
      "metadata": {
        "_uuid": "1b6f0e62b666139258755b6fb386c746f576e69e",
        "id": "pBdE7D-_NdMv"
      },
      "cell_type": "markdown",
      "source": [
        "How many % of missing values do we have for each feature?"
      ]
    },
    {
      "metadata": {
        "trusted": true,
        "_uuid": "9f1bab5443da5d3c9c3353bbebbfdd3c61652f26",
        "_kg_hide-input": true,
        "id": "eF0quqzdNdMv"
      },
      "cell_type": "code",
      "source": [
        "missing_percentage = data.isnull().sum() / data.shape[0] * 100\n",
        "missing_percentage"
      ],
      "execution_count": null,
      "outputs": []
    },
    {
      "metadata": {
        "_uuid": "06eaf37dd9c751953f17a7193e28db7ad24fb2ac",
        "id": "1ngAhdJwNdMv"
      },
      "cell_type": "markdown",
      "source": [
        "Almost 25 % of the customers are unknown! That's very strange. In addition we have 0.2 % of missing descriptions. This looks dirty. Let's gain a further impression by considering some examples."
      ]
    },
    {
      "metadata": {
        "_uuid": "fc631d85336928790fe01aa8890a604a48121bc3",
        "id": "As8vFs4vNdMv"
      },
      "cell_type": "markdown",
      "source": [
        "**Missing descriptions**"
      ]
    },
    {
      "metadata": {
        "trusted": true,
        "_uuid": "db37bf2dbce01ef23d91f83195356514c368326f",
        "_kg_hide-input": true,
        "id": "zesmLahyNdMv"
      },
      "cell_type": "code",
      "source": [
        "data[data.Description.isnull()].head()"
      ],
      "execution_count": null,
      "outputs": []
    },
    {
      "metadata": {
        "_uuid": "360d2a938d6fd499bcd73e5b3a5b696773fb6572",
        "id": "g7GjfwEyNdMv"
      },
      "cell_type": "markdown",
      "source": [
        "How often do we miss the customer as well?"
      ]
    },
    {
      "metadata": {
        "trusted": true,
        "_uuid": "1a790ceb1c4405622477152173adcc2a60a49c6b",
        "_kg_hide-input": true,
        "id": "Oc7CDceENdMw"
      },
      "cell_type": "code",
      "source": [
        "data[data.Description.isnull()].CustomerID.isnull().value_counts()"
      ],
      "execution_count": null,
      "outputs": []
    },
    {
      "metadata": {
        "_uuid": "4e80f44081e91c7cad3c07d18bf123b80114dc03",
        "id": "bVXKEUPnNdMw"
      },
      "cell_type": "markdown",
      "source": [
        "And the unit price?"
      ]
    },
    {
      "metadata": {
        "trusted": true,
        "_uuid": "b83b216c63d1579003d7ec238ff0de5b5d766f73",
        "_kg_hide-input": true,
        "id": "uZ46Q11pNdMw"
      },
      "cell_type": "code",
      "source": [
        "data[data.Description.isnull()].UnitPrice.value_counts()"
      ],
      "execution_count": null,
      "outputs": []
    },
    {
      "metadata": {
        "_uuid": "c91d397d07d77653370e3b30d3c24db9d9a41818",
        "id": "DNd3ARSPNdMw"
      },
      "cell_type": "markdown",
      "source": [
        "In **cases of missing descriptions we always miss the customer and the unit price as well**. Why does the retailer records such kind of entries without a further description? It seems that there is no sophisticated procedure how to deal with and record such kind of transactions. This is already a hint that **we could expect strange entries in our data and that it can be difficult to detect them**!"
      ]
    },
    {
      "metadata": {
        "_uuid": "ec94248e383e3fc9cb064267200fc3de738c13c2",
        "id": "GTA0gLbxNdMw"
      },
      "cell_type": "markdown",
      "source": [
        "**Missing Customer IDs**"
      ]
    },
    {
      "metadata": {
        "trusted": true,
        "_uuid": "62a43887af4a4996f7cbd5fc8d33f26d8a9c90d3",
        "_kg_hide-input": true,
        "id": "fn4o4TBONdMw"
      },
      "cell_type": "code",
      "source": [
        "data[data.CustomerID.isnull()].head()"
      ],
      "execution_count": null,
      "outputs": []
    },
    {
      "metadata": {
        "trusted": true,
        "_uuid": "795794fb4f6cafda39123ba8b9522772196fdded",
        "_kg_hide-input": true,
        "id": "9HTULsFxNdMw"
      },
      "cell_type": "code",
      "source": [
        "data.loc[data.CustomerID.isnull(), [\"UnitPrice\", \"Quantity\"]].describe()"
      ],
      "execution_count": null,
      "outputs": []
    },
    {
      "metadata": {
        "_uuid": "8627c279663d0bf55748940e7dfe72485880caa9",
        "id": "sWUDiZC3NdMx"
      },
      "cell_type": "markdown",
      "source": [
        "That's bad as well. **The price and the quantities of entries without a customer ID can show extreme outliers**. As we might want to create features later on that are based on historical prices and sold quantities, this is very disruptive. Our first **advice for the retailer is to setup strategies for transactions that are somehow faulty or special**. And the question remains: Why is it possible for a transaction to be without a customer ID. Perhaps you can purchase as a quest but then it would of a good and clean style to plugin a special ID that indicates that this one is a guest. Ok, next one: Do we have hidden nan-values in Descriptions? To find it out, let's create a new feature that hold descriptions in lowercase:"
      ]
    },
    {
      "metadata": {
        "_uuid": "97c443239d13255d0122d15ada13fe55dcc6497d",
        "id": "oDkveHVMNdMx"
      },
      "cell_type": "markdown",
      "source": [
        "**Hidden missing descriptions**\n",
        "\n",
        "Can we find \"nan\"-Strings?"
      ]
    },
    {
      "metadata": {
        "trusted": true,
        "_uuid": "65ae85e9e93ca7d45cd5f0b397caab668bf40bed",
        "_kg_hide-input": true,
        "id": "mtGCJTdZNdMx"
      },
      "cell_type": "code",
      "source": [
        "data.loc[data.Description.isnull()==False, \"lowercase_descriptions\"] = data.loc[\n",
        "    data.Description.isnull()==False,\"Description\"\n",
        "].apply(lambda l: l.lower())\n",
        "\n",
        "data.lowercase_descriptions.dropna().apply(\n",
        "    lambda l: np.where(\"nan\" in l, True, False)\n",
        ").value_counts()"
      ],
      "execution_count": null,
      "outputs": []
    },
    {
      "metadata": {
        "_uuid": "bd90b9de258b21bbfd0234b0b2db0884637e2679",
        "id": "88aCUe-QNdMz"
      },
      "cell_type": "markdown",
      "source": [
        "Can we find empty \"\"-strings?"
      ]
    },
    {
      "metadata": {
        "trusted": true,
        "_uuid": "1307a95015ed0bbd541063fcea4ebeb495c7a096",
        "_kg_hide-input": true,
        "id": "sNwMp-vQNdMz"
      },
      "cell_type": "code",
      "source": [
        "data.lowercase_descriptions.dropna().apply(\n",
        "    lambda l: np.where(\"\" == l, True, False)\n",
        ").value_counts()"
      ],
      "execution_count": null,
      "outputs": []
    },
    {
      "metadata": {
        "_uuid": "c0264c736174e02b6549f89a75f37ee671b94787",
        "id": "-lt-hAZCNdMz"
      },
      "cell_type": "markdown",
      "source": [
        "We found **additional, hidden nan-values that show a string \"nan\" instead of a nan-value**. Let's transform them to NaN:"
      ]
    },
    {
      "metadata": {
        "trusted": true,
        "_uuid": "64e051cd38405e1ed2d8b64635092470e292803b",
        "_kg_hide-input": true,
        "id": "_uzDGLBtNdM0"
      },
      "cell_type": "code",
      "source": [
        "data.loc[data.lowercase_descriptions.isnull()==False, \"lowercase_descriptions\"] = data.loc[\n",
        "    data.lowercase_descriptions.isnull()==False, \"lowercase_descriptions\"\n",
        "].apply(lambda l: np.where(\"nan\" in l, None, l))"
      ],
      "execution_count": null,
      "outputs": []
    },
    {
      "metadata": {
        "_uuid": "b8131bc49a69f8b581b50bc154dd42141a052c27",
        "id": "GT3yQtNaNdM0"
      },
      "cell_type": "markdown",
      "source": [
        "As we don't know why customers or descriptions are missing and we have seen strange outliers in quantities and prices as well as zero-prices, **let's play safe and drop all of these occurences**."
      ]
    },
    {
      "metadata": {
        "trusted": true,
        "_uuid": "b8ddb9cb28ce0a1cd9462ec8074c3876dba439f5",
        "id": "LU9roUTmNdM0"
      },
      "cell_type": "code",
      "source": [
        "data = data.loc[(data.CustomerID.isnull()==False) & (data.lowercase_descriptions.isnull()==False)].copy()"
      ],
      "execution_count": null,
      "outputs": []
    },
    {
      "metadata": {
        "_uuid": "bb5f30e9270d824b5c14e8fc724fe6663015d7bc",
        "id": "5RRP-9vONdM0"
      },
      "cell_type": "markdown",
      "source": [
        "Just to be sure: Is there a missing value left?"
      ]
    },
    {
      "metadata": {
        "trusted": true,
        "_uuid": "84da563b03452b273cc92350b60ed19e71788605",
        "id": "GRzKpR8pNdM0"
      },
      "cell_type": "code",
      "source": [
        "data.isnull().sum().sum()"
      ],
      "execution_count": null,
      "outputs": []
    },
    {
      "metadata": {
        "_uuid": "d1d1cd2311459c9c9178cc6370648b90e4cbeeaf",
        "id": "l8rKd45TNdM0"
      },
      "cell_type": "markdown",
      "source": [
        "### The Time period <a class=\"anchor\" id=\"timeperiod\"></a>\n",
        "\n",
        "How long is the period in days?"
      ]
    },
    {
      "metadata": {
        "trusted": true,
        "_uuid": "d4e59bd0fc10b17ff242961061f87d59ccdde910",
        "_kg_hide-input": true,
        "id": "3aTvRlf6NdM0"
      },
      "cell_type": "code",
      "source": [
        "data[\"InvoiceDate\"] = pd.to_datetime(data.InvoiceDate, cache=True)\n",
        "\n",
        "data.InvoiceDate.max() - data.InvoiceDate.min()"
      ],
      "execution_count": null,
      "outputs": []
    },
    {
      "metadata": {
        "trusted": true,
        "_uuid": "bd5c145d3f3e47054284d01efa6e763782061456",
        "_kg_hide-input": true,
        "id": "YYX_VgPPNdM5"
      },
      "cell_type": "code",
      "source": [
        "print(\"Datafile starts with timepoint {}\".format(data.InvoiceDate.min()))\n",
        "print(\"Datafile ends with timepoint {}\".format(data.InvoiceDate.max()))"
      ],
      "execution_count": null,
      "outputs": []
    },
    {
      "metadata": {
        "_uuid": "a3d3b486d86e1f03146ce05a253210846424297f",
        "id": "SKYMjL0mNdM6"
      },
      "cell_type": "markdown",
      "source": [
        "### The invoice number <a class=\"anchor\" id=\"invoiceno\"></a>"
      ]
    },
    {
      "metadata": {
        "_uuid": "aeb39a08dca7f726f4747f8dc619f6464d4d3d15",
        "id": "ug1CLy49NdM6"
      },
      "cell_type": "markdown",
      "source": [
        "How many different invoice numbers do we have?"
      ]
    },
    {
      "metadata": {
        "trusted": true,
        "_uuid": "1646d8909cf716d0b9e23d6bef3526532e6eac29",
        "_kg_hide-input": true,
        "id": "4o6DwuqONdM6"
      },
      "cell_type": "code",
      "source": [
        "data.InvoiceNo.nunique()"
      ],
      "execution_count": null,
      "outputs": []
    },
    {
      "metadata": {
        "_uuid": "8b3960292819a759ff53f970af8c1a6c09fd10ca",
        "id": "OueJtKtsNdM6"
      },
      "cell_type": "markdown",
      "source": [
        "In the data description we can find that a cancelled transactions starts with a \"C\" in front of it. Let's create a feature to easily filter out these cases:"
      ]
    },
    {
      "metadata": {
        "trusted": true,
        "_uuid": "6cfd91920ad3b5368e3efe9dca23aad6f04849e9",
        "_kg_hide-input": true,
        "id": "N_dHnS8UNdM6"
      },
      "cell_type": "code",
      "source": [
        "data[\"IsCancelled\"]=np.where(data.InvoiceNo.apply(lambda l: l[0]==\"C\"), True, False)\n",
        "data.IsCancelled.value_counts() / data.shape[0] * 100"
      ],
      "execution_count": null,
      "outputs": []
    },
    {
      "metadata": {
        "_uuid": "d20134f92312f536c2844140524309d3138cf071",
        "id": "QXXli-_oNdM7"
      },
      "cell_type": "markdown",
      "source": [
        "2,2 % of all entries are cancellations.  "
      ]
    },
    {
      "metadata": {
        "trusted": true,
        "_uuid": "ec5301c8108105190cdc569cfd688d105ec6271f",
        "_kg_hide-input": true,
        "id": "udkSDkfPNdM7"
      },
      "cell_type": "code",
      "source": [
        "data.loc[data.IsCancelled==True].describe()"
      ],
      "execution_count": null,
      "outputs": []
    },
    {
      "metadata": {
        "_uuid": "b9219b76b6abc0b045cc0b212cc83d29f44e9d27",
        "id": "DwI8vfuQNdM7"
      },
      "cell_type": "markdown",
      "source": [
        "**All cancellations have negative quantites but positive, non-zero unit prices**. Given this data we are not easily able to understand why a customer made a return and it's very difficult to predict such cases as there could be several, hidden reasons why a cancellation was done. Let's drop them:"
      ]
    },
    {
      "metadata": {
        "trusted": true,
        "_uuid": "793f70e24671ad73b12b1a6f5efa8d22df5ad51c",
        "id": "QHZUlp-tNdM7"
      },
      "cell_type": "code",
      "source": [
        "data = data.loc[data.IsCancelled==False].copy()\n",
        "data = data.drop(\"IsCancelled\", axis=1)"
      ],
      "execution_count": null,
      "outputs": []
    },
    {
      "metadata": {
        "_uuid": "d2d042899746b22b74c1ebdb3baa5e623ee82833",
        "id": "i2oby6sDNdM7"
      },
      "cell_type": "markdown",
      "source": [
        "### Stockcodes <a class=\"anchor\" id=\"stockcodes\"></a>"
      ]
    },
    {
      "metadata": {
        "_uuid": "8cf8fd461be54e74d0ebf4118b559e48c8768907",
        "id": "XZ-To10tNdM8"
      },
      "cell_type": "markdown",
      "source": [
        "How many unique stockcodes do we have?"
      ]
    },
    {
      "metadata": {
        "trusted": true,
        "_uuid": "927df28201cfb605074752e04bcbc48fde2fc100",
        "id": "SiGT8lohNdM8"
      },
      "cell_type": "code",
      "source": [
        "data.StockCode.nunique()"
      ],
      "execution_count": null,
      "outputs": []
    },
    {
      "metadata": {
        "_uuid": "392e40c10095d657f27fb591abc09db34a3546aa",
        "id": "OuYHgdPVNdM8"
      },
      "cell_type": "markdown",
      "source": [
        "Which codes are most common?"
      ]
    },
    {
      "metadata": {
        "trusted": true,
        "_uuid": "02de04792f9988a664f2fa30d8a5a2c8fa903d06",
        "_kg_hide-input": true,
        "id": "xO37SL6bNdM8"
      },
      "cell_type": "code",
      "source": [
        "stockcode_counts = data.StockCode.value_counts().sort_values(ascending=False)\n",
        "fig, ax = plt.subplots(2,1,figsize=(20,15))\n",
        "sns.barplot(stockcode_counts.iloc[0:20].index,\n",
        "            stockcode_counts.iloc[0:20].values,\n",
        "            ax = ax[0], palette=\"Oranges_r\")\n",
        "ax[0].set_ylabel(\"Counts\")\n",
        "ax[0].set_xlabel(\"Stockcode\")\n",
        "ax[0].set_title(\"Which stockcodes are most common?\");\n",
        "sns.distplot(np.round(stockcode_counts/data.shape[0]*100,2),\n",
        "             kde=False,\n",
        "             bins=20,\n",
        "             ax=ax[1], color=\"Orange\")\n",
        "ax[1].set_title(\"How seldom are stockcodes?\")\n",
        "ax[1].set_xlabel(\"% of data with this stockcode\")\n",
        "ax[1].set_ylabel(\"Frequency\");"
      ],
      "execution_count": null,
      "outputs": []
    },
    {
      "metadata": {
        "_uuid": "6943c79933138f4e5119b77a866f48dab67122bc",
        "id": "TOvH7ILeNdM9"
      },
      "cell_type": "markdown",
      "source": [
        "* Do you the the **POST** in the most common stockcode counts?! **That's a strange one!** Hence we could expect strange occurences not only in the descriptions and customerIDs but also in the stockcode. OHOHOH! It's code is shorter than the others as well as not numeric.\n",
        "* Most stockcodes are very seldom. This indicates that the **retailer sells many different products** and that there is no strong secialization of a specific stockcode. Nevertheless we have to be careful as this must not mean that the retailer is not specialized given a specific product type. The stockcode could be a very detailed indicator that does not yield information of the type, for example water bottles may have very different variants in color, name and shapes but they are all water bottles.  "
      ]
    },
    {
      "metadata": {
        "_uuid": "88bd7d6dc706e5f262f47760ea5912f1af304989",
        "id": "9oc_oocANdM9"
      },
      "cell_type": "markdown",
      "source": [
        "Let's count the number of numeric chars in and the length of the stockcode:"
      ]
    },
    {
      "metadata": {
        "trusted": true,
        "_uuid": "bf11ac67839e77d3d0e42fa04fdc4a644c208789",
        "id": "M_alxRRSNdM9"
      },
      "cell_type": "code",
      "source": [
        "def count_numeric_chars(l):\n",
        "    return sum(1 for c in l if c.isdigit())\n",
        "\n",
        "data[\"StockCodeLength\"] = data.StockCode.apply(lambda l: len(l))\n",
        "data[\"nNumericStockCode\"] = data.StockCode.apply(lambda l: count_numeric_chars(l))"
      ],
      "execution_count": null,
      "outputs": []
    },
    {
      "metadata": {
        "trusted": true,
        "_uuid": "86a0d1d0f8f044ca416f90913aa190add7944429",
        "id": "5aYj29CrNdM9"
      },
      "cell_type": "code",
      "source": [
        "fig, ax = plt.subplots(1,2,figsize=(20,5))\n",
        "sns.countplot(data[\"StockCodeLength\"], palette=\"Oranges_r\", ax=ax[0])\n",
        "sns.countplot(data[\"nNumericStockCode\"], palette=\"Oranges_r\", ax=ax[1])\n",
        "ax[0].set_xlabel(\"Length of stockcode\")\n",
        "ax[1].set_xlabel(\"Number of numeric chars in the stockcode\");"
      ],
      "execution_count": null,
      "outputs": []
    },
    {
      "metadata": {
        "_uuid": "70ac87ce1e94f5ead0f210abc6035bf974e637c1",
        "id": "sUQFM8LCNdM-"
      },
      "cell_type": "markdown",
      "source": [
        "Even though the majority of samples has a stockcode that consists of 5 numeric chars, we can see that there are other occurences as well. The length can vary between 1 and 12 and there are stockcodes with no numeric chars at all!"
      ]
    },
    {
      "metadata": {
        "trusted": true,
        "_uuid": "7c47e40db4382bdcaa02594d3f3cd20ea930d28a",
        "id": "Go3tWMzHNdM-"
      },
      "cell_type": "code",
      "source": [
        "data.loc[data.nNumericStockCode < 5].lowercase_descriptions.value_counts()"
      ],
      "execution_count": null,
      "outputs": []
    },
    {
      "metadata": {
        "_uuid": "8b5cf7d8df6131783a1a92a3cd0d6117e5a3c324",
        "id": "AyMJXW4rNdM-"
      },
      "cell_type": "markdown",
      "source": [
        "Ihh, again something that we don't want to predict. Again this indicates that the retailer does not speparate well between special kind of transactions and valid customer-retailer transactions. Let's drop all of these occurences:"
      ]
    },
    {
      "metadata": {
        "trusted": true,
        "_uuid": "b0d14baad89a37bf56ca674f76145e1c02109556",
        "id": "4h2B1QSaNdM-"
      },
      "cell_type": "code",
      "source": [
        "data = data.loc[(data.nNumericStockCode == 5) & (data.StockCodeLength==5)].copy()\n",
        "data.StockCode.nunique()"
      ],
      "execution_count": null,
      "outputs": []
    },
    {
      "metadata": {
        "trusted": true,
        "_uuid": "6ef83c0e6629f6f3db8e84b4cef71078150382f7",
        "id": "VlLKYAIONdM-"
      },
      "cell_type": "code",
      "source": [
        "data = data.drop([\"nNumericStockCode\", \"StockCodeLength\"], axis=1)"
      ],
      "execution_count": null,
      "outputs": []
    },
    {
      "metadata": {
        "_uuid": "93419e0448bdc31e940df0d13388c19f99fc242a",
        "id": "_45BzT4MNdM-"
      },
      "cell_type": "markdown",
      "source": [
        "### Descriptions <a class=\"anchor\" id=\"descriptions\"></a>\n",
        "\n",
        "How many unique descriptions do we have?"
      ]
    },
    {
      "metadata": {
        "trusted": true,
        "_uuid": "d203ebf96967af5cd5d46720a984c81357ebe08c",
        "id": "1BPmK9WQNdM_"
      },
      "cell_type": "code",
      "source": [
        "data.Description.nunique()"
      ],
      "execution_count": null,
      "outputs": []
    },
    {
      "metadata": {
        "_uuid": "4f4f4aeb407815bd39b67130ef0c61994aed104e",
        "id": "uTmPdo-9NdM_"
      },
      "cell_type": "markdown",
      "source": [
        "And which are most common?"
      ]
    },
    {
      "metadata": {
        "_kg_hide-input": true,
        "trusted": true,
        "_uuid": "c330d3a70e7ab7174c786ced7ee08bed45afc19e",
        "id": "1JrfXBh6NdM_"
      },
      "cell_type": "code",
      "source": [
        "description_counts = data.Description.value_counts().sort_values(ascending=False).iloc[0:30]\n",
        "plt.figure(figsize=(20,5))\n",
        "sns.barplot(description_counts.index, description_counts.values, palette=\"Purples_r\")\n",
        "plt.ylabel(\"Counts\")\n",
        "plt.title(\"Which product descriptions are most common?\");\n",
        "plt.xticks(rotation=90);"
      ],
      "execution_count": null,
      "outputs": []
    },
    {
      "metadata": {
        "_uuid": "bab31418e24e91ff37b34c85785e63f972e2f1d0",
        "id": "hYGUoq59NdM_"
      },
      "cell_type": "markdown",
      "source": [
        "Ok, we can see that **some descriptions correspond to a similar product type**. Do you see the multiple occurences of lunch bags? We often have **color information about the product** as well. Furthermore the most common descriptions seem to confirm that **the retailer sells various different kinds of products**. All descriptions seem to consist of **uppercase chars**. Ok, now let's do some addtional analysis on the descriptions by counting the length and the number of lowercase chars."
      ]
    },
    {
      "metadata": {
        "trusted": true,
        "_uuid": "3548d93d872c911e143077fca776af343c101b15",
        "_kg_hide-input": true,
        "id": "0NIgiTjoNdM_"
      },
      "cell_type": "code",
      "source": [
        "def count_lower_chars(l):\n",
        "    return sum(1 for c in l if c.islower())"
      ],
      "execution_count": null,
      "outputs": []
    },
    {
      "metadata": {
        "trusted": true,
        "_uuid": "6920fe44fa6044aab22cc1973d1f087a6177e125",
        "id": "yuegcbRJNdM_"
      },
      "cell_type": "code",
      "source": [
        "data[\"DescriptionLength\"] = data.Description.apply(lambda l: len(l))\n",
        "data[\"LowCharsInDescription\"] = data.Description.apply(lambda l: count_lower_chars(l))"
      ],
      "execution_count": null,
      "outputs": []
    },
    {
      "metadata": {
        "_kg_hide-input": true,
        "trusted": true,
        "_uuid": "574a7f49c71ed0c805c4e6fac7cee2f84961136c",
        "id": "de2i7sfINdNA"
      },
      "cell_type": "code",
      "source": [
        "fig, ax = plt.subplots(1,2,figsize=(20,5))\n",
        "sns.countplot(data.DescriptionLength, ax=ax[0], color=\"Purple\")\n",
        "sns.countplot(data.LowCharsInDescription, ax=ax[1], color=\"Purple\")\n",
        "ax[1].set_yscale(\"log\")"
      ],
      "execution_count": null,
      "outputs": []
    },
    {
      "metadata": {
        "_uuid": "6c625ba023fcfc1c59937e4ac91c184a207bdc51",
        "id": "_AZ9K4TkNdNA"
      },
      "cell_type": "markdown",
      "source": [
        "Oh, great! **Almost all descriptions do not have a lowercase chars, but we have found exceptional cases!**"
      ]
    },
    {
      "metadata": {
        "trusted": true,
        "_uuid": "8d15fc8c0335d111bfcd65100a9859d49eb62c20",
        "_kg_hide-input": true,
        "id": "ZAm6BtOMNdNA"
      },
      "cell_type": "code",
      "source": [
        "lowchar_counts = data.loc[data.LowCharsInDescription > 0].Description.value_counts()\n",
        "\n",
        "plt.figure(figsize=(15,3))\n",
        "sns.barplot(lowchar_counts.index, lowchar_counts.values, palette=\"Purples_r\")\n",
        "plt.xticks(rotation=90);"
      ],
      "execution_count": null,
      "outputs": []
    },
    {
      "metadata": {
        "_uuid": "9439067661d4fe532bb1050b008e5f46e57b6d9f",
        "id": "CQBEJSXoNdNA"
      },
      "cell_type": "markdown",
      "source": [
        "**Next day carriage and high resolution image are strange!** Let's compute the fraction of lower with respect to uppercase letters:"
      ]
    },
    {
      "metadata": {
        "trusted": true,
        "_uuid": "3d345184933f42583e582a19f0d4dfadd3516949",
        "id": "fSbTWK6fNdNA"
      },
      "cell_type": "code",
      "source": [
        "def count_upper_chars(l):\n",
        "    return sum(1 for c in l if c.isupper())\n",
        "\n",
        "data[\"UpCharsInDescription\"] = data.Description.apply(lambda l: count_upper_chars(l))"
      ],
      "execution_count": null,
      "outputs": []
    },
    {
      "metadata": {
        "trusted": true,
        "_uuid": "d2b6999cfeeec7510f9b08dde8673c6cd0f87f47",
        "id": "vqMRNh8cNdNB"
      },
      "cell_type": "code",
      "source": [
        "data.UpCharsInDescription.describe()"
      ],
      "execution_count": null,
      "outputs": []
    },
    {
      "metadata": {
        "trusted": true,
        "_uuid": "e47353a162fb69cc955e51d025743d74334fea57",
        "id": "mNh33MMFNdNB"
      },
      "cell_type": "code",
      "source": [
        "data.loc[data.UpCharsInDescription <=5].Description.value_counts()"
      ],
      "execution_count": null,
      "outputs": []
    },
    {
      "metadata": {
        "_uuid": "5d90dfe26c923538d3dac14fe3f8fdad04782306",
        "id": "3eUP82csNdNC"
      },
      "cell_type": "markdown",
      "source": [
        "It's strange that they differ from the others. Let's drop them:"
      ]
    },
    {
      "metadata": {
        "trusted": true,
        "_uuid": "3c04dbd56c830888af7b5549737fecc1d3e54b72",
        "id": "NDCAkg0kNdNC"
      },
      "cell_type": "code",
      "source": [
        "data = data.loc[data.UpCharsInDescription > 5].copy()"
      ],
      "execution_count": null,
      "outputs": []
    },
    {
      "metadata": {
        "_uuid": "e817c9fd940747861b9aeeaca88437b309f571f2",
        "id": "HGC0lWF3NdNC"
      },
      "cell_type": "markdown",
      "source": [
        "And what about the descriptions with a length below 14?"
      ]
    },
    {
      "metadata": {
        "trusted": true,
        "_uuid": "a6ca732983456f192c564f5dba75d2b6c67941bc",
        "_kg_hide-input": true,
        "id": "ykbszdnmNdNC"
      },
      "cell_type": "code",
      "source": [
        "dlength_counts = data.loc[data.DescriptionLength < 14].Description.value_counts()\n",
        "\n",
        "plt.figure(figsize=(20,5))\n",
        "sns.barplot(dlength_counts.index, dlength_counts.values, palette=\"Purples_r\")\n",
        "plt.xticks(rotation=90);"
      ],
      "execution_count": null,
      "outputs": []
    },
    {
      "metadata": {
        "_uuid": "733051480c56a9eed5bd18e0af1004cc02dc380b",
        "id": "Rvrn1S3KNdNC"
      },
      "cell_type": "markdown",
      "source": [
        "Ok, descriptions with small length look valid and we should not drop them. Ok, now let's see how many unique stock codes do we have and how many unique descriptions?"
      ]
    },
    {
      "metadata": {
        "trusted": true,
        "_uuid": "17aa8494a720f5a1ac187a7908e1f233fb1dff19",
        "id": "AaHJD-2MNdND"
      },
      "cell_type": "code",
      "source": [
        "data.StockCode.nunique()"
      ],
      "execution_count": null,
      "outputs": []
    },
    {
      "metadata": {
        "trusted": true,
        "_uuid": "efd88bc8d36edb9ad18035d4ab146f859f571efa",
        "id": "yqWEER0FNdND"
      },
      "cell_type": "code",
      "source": [
        "data.Description.nunique()"
      ],
      "execution_count": null,
      "outputs": []
    },
    {
      "metadata": {
        "_uuid": "0ab8c9418fe70ab1733ad511023d6acb0482d104",
        "id": "sfj-OAPbNdND"
      },
      "cell_type": "markdown",
      "source": [
        "We still have more descriptions than stockcodes and we should continue to find out why they differ."
      ]
    },
    {
      "metadata": {
        "trusted": true,
        "_uuid": "f1c1be9cd26cf2f273e885df43abe30c39efbb04",
        "id": "QCEtCKknNdND"
      },
      "cell_type": "code",
      "source": [
        "data.groupby(\"StockCode\").Description.nunique().sort_values(ascending=False).iloc[0:10]"
      ],
      "execution_count": null,
      "outputs": []
    },
    {
      "metadata": {
        "_uuid": "4e171fdc79b94247b3f94e9382b7a2a451dd7846",
        "id": "ZDpvtY36NdND"
      },
      "cell_type": "markdown",
      "source": [
        "Wow, we still have stockcodes with multiple descriptions. Let's look at an example:"
      ]
    },
    {
      "metadata": {
        "trusted": true,
        "_uuid": "32e17484ac6fcd93d46e17cbff6295f6c9e11a3a",
        "id": "pq2cGBtBNdND"
      },
      "cell_type": "code",
      "source": [
        "data.loc[data.StockCode == \"23244\"].Description.value_counts()"
      ],
      "execution_count": null,
      "outputs": []
    },
    {
      "metadata": {
        "_uuid": "10ebe00284a8e8278ef09f626158a146121ae0bf",
        "id": "ucy1iwT1NdNE"
      },
      "cell_type": "markdown",
      "source": [
        "Ok, browsing through the cases we can see that stockcodes are sometimes named a bit differently due to missing or changed words or typing errors. None the less they look ok and we can continue."
      ]
    },
    {
      "metadata": {
        "_uuid": "5d729a862c06ee70f63c7fb79f052957a2f6cb47",
        "id": "8n61rfClNdNE"
      },
      "cell_type": "markdown",
      "source": [
        "### Customers <a class=\"anchor\" id=\"customers\"></a>"
      ]
    },
    {
      "metadata": {
        "trusted": true,
        "_uuid": "950327cfce83dc7e00728e126ed2257b270f2e6e",
        "id": "DQeZxL0UNdNE"
      },
      "cell_type": "code",
      "source": [
        "data.CustomerID.nunique()"
      ],
      "execution_count": null,
      "outputs": []
    },
    {
      "metadata": {
        "trusted": true,
        "_uuid": "048d7895b176555baa4f98cc8d6b9d1f301a8f0d",
        "_kg_hide-input": true,
        "id": "eBD_pMo-NdNE"
      },
      "cell_type": "code",
      "source": [
        "customer_counts = data.CustomerID.value_counts().sort_values(ascending=False).iloc[0:20]\n",
        "plt.figure(figsize=(20,5))\n",
        "sns.barplot(customer_counts.index, customer_counts.values, order=customer_counts.index)\n",
        "plt.ylabel(\"Counts\")\n",
        "plt.xlabel(\"CustomerID\")\n",
        "plt.title(\"Which customers are most common?\");\n",
        "#plt.xticks(rotation=90);"
      ],
      "execution_count": null,
      "outputs": []
    },
    {
      "metadata": {
        "_uuid": "e228e9ec08ff601e1863b53c30bb4b3b851a016d",
        "id": "-Re2A6xtNdNE"
      },
      "cell_type": "markdown",
      "source": [
        "### Countries <a class=\"anchor\" id=\"countries\"></a>\n",
        "\n",
        "How many unique countries are delivered by the retailer?"
      ]
    },
    {
      "metadata": {
        "trusted": true,
        "_uuid": "abb50d5b0ec7de22c5404eb782d416b9f41a44a2",
        "_kg_hide-input": true,
        "id": "p3XIjAUkNdNF"
      },
      "cell_type": "code",
      "source": [
        "data.Country.nunique()"
      ],
      "execution_count": null,
      "outputs": []
    },
    {
      "metadata": {
        "_uuid": "a78ccbf31d952a0321c5a9c2382d3246e124bdd2",
        "id": "ICUfBsMRNdNF"
      },
      "cell_type": "markdown",
      "source": [
        "And which ones are most common?"
      ]
    },
    {
      "metadata": {
        "trusted": true,
        "_uuid": "eb199b35d5881ce0bf00a43d2d88f33209493943",
        "_kg_hide-input": true,
        "id": "b4Ul_OU9NdNF"
      },
      "cell_type": "code",
      "source": [
        "country_counts = data.Country.value_counts().sort_values(ascending=False).iloc[0:20]\n",
        "plt.figure(figsize=(20,5))\n",
        "sns.barplot(country_counts.index, country_counts.values, palette=\"Greens_r\")\n",
        "plt.ylabel(\"Counts\")\n",
        "plt.title(\"Which countries made the most transactions?\");\n",
        "plt.xticks(rotation=90);\n",
        "plt.yscale(\"log\")"
      ],
      "execution_count": null,
      "outputs": []
    },
    {
      "metadata": {
        "_uuid": "425326bb408ece13f4ed28bc8ef959466e041b3b",
        "id": "tyCzlG7PNdNF"
      },
      "cell_type": "markdown",
      "source": [
        "We can see that the retailer sells almost all products in the UK, followed by many european countries. How many percentage of entries are inside UK?"
      ]
    },
    {
      "metadata": {
        "trusted": true,
        "_uuid": "83ee296c0b7e7d950a96805fc7e00288eb64456d",
        "id": "0TqpPp8kNdNF"
      },
      "cell_type": "code",
      "source": [
        "data.loc[data.Country==\"United Kingdom\"].shape[0] / data.shape[0] * 100"
      ],
      "execution_count": null,
      "outputs": []
    },
    {
      "metadata": {
        "_uuid": "b303f757e1bfeaaa2078f374deb5efa6b1722a57",
        "id": "bwQ3BzrGNdNF"
      },
      "cell_type": "markdown",
      "source": [
        "Let's create a feature to indicate inside or outside of the UK:"
      ]
    },
    {
      "metadata": {
        "trusted": true,
        "_uuid": "5f5c48970fb01d113b880066bfed6a822a28065b",
        "id": "Cg1VdS6HNdNF"
      },
      "cell_type": "code",
      "source": [
        "data[\"UK\"] = np.where(data.Country == \"United Kingdom\", 1, 0)"
      ],
      "execution_count": null,
      "outputs": []
    },
    {
      "metadata": {
        "_uuid": "5dae5c65af29f1fc94dbb8a731380843c012a8f9",
        "id": "GrSt2DDnNdNF"
      },
      "cell_type": "markdown",
      "source": [
        "### Unit Price <a class=\"anchor\" id=\"unitprice\"></a>"
      ]
    },
    {
      "metadata": {
        "trusted": true,
        "_uuid": "b992145287136373f20d248b43ac9d8a184c2ccd",
        "id": "p_kqYAvkNdNG"
      },
      "cell_type": "code",
      "source": [
        "data.UnitPrice.describe()"
      ],
      "execution_count": null,
      "outputs": []
    },
    {
      "metadata": {
        "_uuid": "75fe51a2ee81ad9af13fbdd79c8e7831d2894bed",
        "id": "lqLKXgU2NdNG"
      },
      "cell_type": "markdown",
      "source": [
        "Again, we have strange occurences: zero unit prices!"
      ]
    },
    {
      "metadata": {
        "trusted": true,
        "_uuid": "6ab1245e0dc2a29b0e492b2ddb94436b6c9c3012",
        "id": "rGyNbg45NdNG"
      },
      "cell_type": "code",
      "source": [
        "data.loc[data.UnitPrice == 0].sort_values(by=\"Quantity\", ascending=False).head()"
      ],
      "execution_count": null,
      "outputs": []
    },
    {
      "metadata": {
        "_uuid": "d809912de33182d1edfc90a72c436113cc60a013",
        "id": "E212wIkMNdNG"
      },
      "cell_type": "markdown",
      "source": [
        "That's not good again. It's not obvious if they are gifts to customers or not :-( Let's drop them:"
      ]
    },
    {
      "metadata": {
        "trusted": true,
        "_uuid": "07550ce40d3993919de2e6e02f4d2f07207220c4",
        "id": "UnpkaPbONdNG"
      },
      "cell_type": "code",
      "source": [
        "data = data.loc[data.UnitPrice > 0].copy()"
      ],
      "execution_count": null,
      "outputs": []
    },
    {
      "metadata": {
        "trusted": true,
        "_uuid": "8bf3f6280c69d4dbbbbaa76f5c31c947b3906a60",
        "_kg_hide-input": true,
        "id": "K76DmIZ3NdNG"
      },
      "cell_type": "code",
      "source": [
        "fig, ax = plt.subplots(1,2,figsize=(20,5))\n",
        "sns.distplot(data.UnitPrice, ax=ax[0], kde=False, color=\"red\")\n",
        "sns.distplot(np.log(data.UnitPrice), ax=ax[1], bins=20, color=\"tomato\", kde=False)\n",
        "ax[1].set_xlabel(\"Log-Unit-Price\");"
      ],
      "execution_count": null,
      "outputs": []
    },
    {
      "metadata": {
        "trusted": true,
        "_uuid": "c1374e7c8c199b163a1054bf44e5989b9f19b20b",
        "id": "GAcxZBkKNdNG"
      },
      "cell_type": "code",
      "source": [
        "np.exp(-2)"
      ],
      "execution_count": null,
      "outputs": []
    },
    {
      "metadata": {
        "trusted": true,
        "_uuid": "39d40d718a0109291f723965018454b3edda706f",
        "id": "nGvrEHQmNdNG"
      },
      "cell_type": "code",
      "source": [
        "np.exp(3)"
      ],
      "execution_count": null,
      "outputs": []
    },
    {
      "metadata": {
        "trusted": true,
        "_uuid": "cc7bbb852b219aac333c790233a0e0273d7e1a64",
        "id": "hL825DblNdNH"
      },
      "cell_type": "code",
      "source": [
        "np.quantile(data.UnitPrice, 0.95)"
      ],
      "execution_count": null,
      "outputs": []
    },
    {
      "metadata": {
        "_uuid": "0c11c0a996adbde8dd0bdfb27067a74b5e81495b",
        "id": "CSGesVXrNdNH"
      },
      "cell_type": "markdown",
      "source": [
        "Let's focus transactions with prices that fall into this range as we don't want to make predictions for very seldom products with high prices. Starting easy is always good!"
      ]
    },
    {
      "metadata": {
        "trusted": true,
        "_uuid": "92fd11c8cd28fec487cbc349d66d57e5d49544e7",
        "id": "_BV-yUDoNdNH"
      },
      "cell_type": "code",
      "source": [
        "data = data.loc[(data.UnitPrice > 0.1) & (data.UnitPrice < 20)].copy()"
      ],
      "execution_count": null,
      "outputs": []
    },
    {
      "metadata": {
        "_uuid": "6b9452719daa560406810702b4174613e04ca25f",
        "id": "QkNcQ_8PNdNH"
      },
      "cell_type": "markdown",
      "source": [
        "### Quantities <a class=\"anchor\" id=\"quantities\"></a>\n",
        "\n",
        "Ok, the most important one - the target. Let's take a look at its distribution:"
      ]
    },
    {
      "metadata": {
        "trusted": true,
        "_uuid": "8335f8d2c56a4ce80099b7c2b588b8259daa3f29",
        "id": "9C68mSWXNdNH"
      },
      "cell_type": "code",
      "source": [
        "data.Quantity.describe()"
      ],
      "execution_count": null,
      "outputs": []
    },
    {
      "metadata": {
        "_uuid": "ab8226a8289f8c0d08f31208840e50542c76dd2c",
        "id": "3sIJS1BbNdNH"
      },
      "cell_type": "markdown",
      "source": [
        "Ok, most products are sold in quantities from 1 to 12. But, we have extreme, unrealistic outliers again:"
      ]
    },
    {
      "metadata": {
        "trusted": true,
        "_uuid": "096dbb2b2d794aade624aaf43d32bfe5482daf7c",
        "_kg_hide-input": true,
        "id": "IkQBd3ZhNdNH"
      },
      "cell_type": "code",
      "source": [
        "fig, ax = plt.subplots(1,2,figsize=(20,5))\n",
        "sns.distplot(data.Quantity, ax=ax[0], kde=False, color=\"limegreen\");\n",
        "sns.distplot(np.log(data.Quantity), ax=ax[1], bins=20, kde=False, color=\"limegreen\");\n",
        "ax[0].set_title(\"Quantity distribution\")\n",
        "ax[0].set_yscale(\"log\")\n",
        "ax[1].set_title(\"Log-Quantity distribution\")\n",
        "ax[1].set_xlabel(\"Natural-Log Quantity\");"
      ],
      "execution_count": null,
      "outputs": []
    },
    {
      "metadata": {
        "_uuid": "7e3747a033764d9bdbc67749c5153f197f16f56f",
        "id": "EBWx7GIINdNH"
      },
      "cell_type": "markdown",
      "source": [
        "As you can see by the log-transformed distribution it would make sense to make a cut at:"
      ]
    },
    {
      "metadata": {
        "trusted": true,
        "_uuid": "c89ce6314c7e8873d9acded7f5fd11a4d6f2f03a",
        "id": "V89m-hXnNdNI"
      },
      "cell_type": "code",
      "source": [
        "np.exp(4)"
      ],
      "execution_count": null,
      "outputs": []
    },
    {
      "metadata": {
        "trusted": true,
        "_uuid": "b57d31a14a29c4e8de6edfc8da8ccd50506a1613",
        "id": "FRVRZxYnNdNI"
      },
      "cell_type": "code",
      "source": [
        "np.quantile(data.Quantity, 0.95)"
      ],
      "execution_count": null,
      "outputs": []
    },
    {
      "metadata": {
        "_uuid": "2962a4efcc2cba9a90d57c0f0815b5f4010a8d53",
        "id": "yInbWhcdNdNI"
      },
      "cell_type": "markdown",
      "source": [
        "In this case we would still cover more than 95 % of the data!"
      ]
    },
    {
      "metadata": {
        "trusted": true,
        "_uuid": "a17c34c87d022207dc879decc09f609a287abd3b",
        "id": "qxgf9_cfNdNI"
      },
      "cell_type": "code",
      "source": [
        "data = data.loc[data.Quantity < 55].copy()"
      ],
      "execution_count": null,
      "outputs": []
    },
    {
      "metadata": {
        "_uuid": "c21ffec5c06e96d21aff31903fc2053d6f92e726",
        "id": "BTWlTtqZNdNI"
      },
      "cell_type": "markdown",
      "source": [
        "### Revenues <a class=\"anchor\" id=\"revenues\"></a>"
      ]
    },
    {
      "metadata": {
        "_uuid": "d3ccb5520360c4f0f40bc4635ac406972fbdd5f8",
        "id": "WOXSfws4NdNI"
      },
      "cell_type": "markdown",
      "source": [
        "### Conclusion <a class=\"anchor\" id=\"expconclusion\"></a>"
      ]
    },
    {
      "metadata": {
        "_uuid": "f2781c6e6f3881d6cb222ab1c2b5ca31c36bf7ba",
        "id": "WN6bFP3bNdNM"
      },
      "cell_type": "markdown",
      "source": [
        "## Focus on daily product sales <a class=\"anchor\" id=\"daily\"></a>\n",
        "\n",
        "As we like to predict the daily amount of product sales, we need to compute a daily aggregation of this data. For this purpose we need to extract temporal features out of the InvoiceDate. In addition we can compute the revenue gained by a transaction using the unit price and the quantity:"
      ]
    },
    {
      "metadata": {
        "trusted": true,
        "_uuid": "d4ee407d40774d26400e6e2fca60c3c55698df59",
        "id": "aYg7JTcLNdNN"
      },
      "cell_type": "code",
      "source": [
        "data[\"Revenue\"] = data.Quantity * data.UnitPrice\n",
        "\n",
        "data[\"Year\"] = data.InvoiceDate.dt.year\n",
        "data[\"Quarter\"] = data.InvoiceDate.dt.quarter\n",
        "data[\"Month\"] = data.InvoiceDate.dt.month\n",
        "data[\"Week\"] = data.InvoiceDate.dt.week\n",
        "data[\"Weekday\"] = data.InvoiceDate.dt.weekday\n",
        "data[\"Day\"] = data.InvoiceDate.dt.day\n",
        "data[\"Dayofyear\"] = data.InvoiceDate.dt.dayofyear\n",
        "data[\"Date\"] = pd.to_datetime(data[['Year', 'Month', 'Day']])"
      ],
      "execution_count": null,
      "outputs": []
    },
    {
      "metadata": {
        "_uuid": "1b51447af1400facd7e62e60d8de973cf77245ea",
        "id": "y7nv41NYNdNN"
      },
      "cell_type": "markdown",
      "source": [
        "As the key task of this kernel is to predict the amount of products sold per day, we can sum up the daily quantities per product stockcode :"
      ]
    },
    {
      "metadata": {
        "trusted": true,
        "_uuid": "eb0974babf56b0875d92b7ca617ea8ea5c8c8fd1",
        "id": "nU2MNiurNdNN"
      },
      "cell_type": "code",
      "source": [
        "grouped_features = [\"Date\", \"Year\", \"Quarter\",\"Month\", \"Week\", \"Weekday\", \"Dayofyear\", \"Day\",\n",
        "                    \"StockCode\"]"
      ],
      "execution_count": null,
      "outputs": []
    },
    {
      "metadata": {
        "_uuid": "29c4d9ac43dba892c0c967c232ef77f09ecb1f53",
        "id": "_4fiUbuiNdNO"
      },
      "cell_type": "markdown",
      "source": [
        "This way we loose information abount customers, countries and price information but we will recover it later on during this kernel. Besides the quantities let's aggregate the revenues as well:"
      ]
    },
    {
      "metadata": {
        "trusted": true,
        "_uuid": "14cbaaf9118768092ba24a4d91d1d15870a5a09e",
        "_kg_hide-input": true,
        "id": "D_ogQg6vNdNO"
      },
      "cell_type": "code",
      "source": [
        "daily_data = pd.DataFrame(data.groupby(grouped_features).Quantity.sum(),\n",
        "                          columns=[\"Quantity\"])\n",
        "daily_data[\"Revenue\"] = data.groupby(grouped_features).Revenue.sum()\n",
        "daily_data = daily_data.reset_index()\n",
        "daily_data.head(5)"
      ],
      "execution_count": null,
      "outputs": []
    },
    {
      "metadata": {
        "_uuid": "83964d392f0ba482687565188673683ef0064cde",
        "id": "Ystiid-_NdNO"
      },
      "cell_type": "markdown",
      "source": [
        "#### How are the quantities and revenues distributed?"
      ]
    },
    {
      "metadata": {
        "trusted": true,
        "_uuid": "1d8d0f8501242903acce1dc90bd2a2d03ce5e40a",
        "id": "O3bMv996NdNO"
      },
      "cell_type": "code",
      "source": [
        "daily_data.loc[:, [\"Quantity\", \"Revenue\"]].describe()"
      ],
      "execution_count": null,
      "outputs": []
    },
    {
      "metadata": {
        "_uuid": "3357c04f0a5827f08ee3e04ded6af5577cdaa256",
        "id": "CJ0TntzVNdNO"
      },
      "cell_type": "markdown",
      "source": [
        "As we can see by the min and max values the **target variable shows extreme outliers**.  If we would like to use it as targets, we **should exclude them as they will mislead our validation. As I like to use early stopping this will directly influence training of predictive models as well**.  "
      ]
    },
    {
      "metadata": {
        "trusted": true,
        "_uuid": "979dbe1a1862f791ae46a10f0e5f01d9bf76d7f9",
        "id": "7H7DsMNVNdNP"
      },
      "cell_type": "code",
      "source": [
        "low_quantity = daily_data.Quantity.quantile(0.01)\n",
        "high_quantity = daily_data.Quantity.quantile(0.99)\n",
        "print((low_quantity, high_quantity))"
      ],
      "execution_count": null,
      "outputs": []
    },
    {
      "metadata": {
        "trusted": true,
        "_uuid": "f07b81c23b097ba1df89221be2e84ef1a3a045c6",
        "id": "f768EtiSNdNP"
      },
      "cell_type": "code",
      "source": [
        "low_revenue = daily_data.Revenue.quantile(0.01)\n",
        "high_revenue = daily_data.Revenue.quantile(0.99)\n",
        "print((low_revenue, high_revenue))"
      ],
      "execution_count": null,
      "outputs": []
    },
    {
      "metadata": {
        "_uuid": "32a67d025151f20229a124c509c75045832e3263",
        "id": "JRY-rOhDNdNP"
      },
      "cell_type": "markdown",
      "source": [
        "Let's **only use target ranges data that are occupied by  90 % of the data entries**. This is a first and easy strategy to exclude heavy outliers but we should always be aware of the fact that we have lost some information given by the remaining % we have excluded. It could be nice and useful in general to understand and analyse what has caused these outliers."
      ]
    },
    {
      "metadata": {
        "trusted": true,
        "_uuid": "57106714c58121f594475c6949e3a31e078604ee",
        "id": "SP7kcbd7NdNP"
      },
      "cell_type": "code",
      "source": [
        "samples = daily_data.shape[0]"
      ],
      "execution_count": null,
      "outputs": []
    },
    {
      "metadata": {
        "trusted": true,
        "_uuid": "1c4b4d33a8a935982b1b8933f87e3feb104a626d",
        "id": "vbvuyH-oNdNQ"
      },
      "cell_type": "code",
      "source": [
        "daily_data = daily_data.loc[\n",
        "    (daily_data.Quantity >= low_quantity) & (daily_data.Quantity <= high_quantity)]\n",
        "daily_data = daily_data.loc[\n",
        "    (daily_data.Revenue >= low_revenue) & (daily_data.Revenue <= high_revenue)]"
      ],
      "execution_count": null,
      "outputs": []
    },
    {
      "metadata": {
        "_uuid": "5a78b05d899a73e2dfe78eb5357e07bc36a2553f",
        "id": "JyD-c9fWNdNQ"
      },
      "cell_type": "markdown",
      "source": [
        "How much entries have we lost?"
      ]
    },
    {
      "metadata": {
        "trusted": true,
        "_uuid": "b898f5f3db4c31ae33360fe7c51135823463e677",
        "id": "KdpHZq5ZNdNQ"
      },
      "cell_type": "code",
      "source": [
        "samples - daily_data.shape[0]"
      ],
      "execution_count": null,
      "outputs": []
    },
    {
      "metadata": {
        "_uuid": "921a3f0edd757e08fd39c538a40e3b500d9f5c54",
        "id": "eWraaLRHNdNR"
      },
      "cell_type": "markdown",
      "source": [
        "Let's take a look at the remaining distributions of daily quantities:"
      ]
    },
    {
      "metadata": {
        "_kg_hide-input": true,
        "trusted": true,
        "_uuid": "a06e7ec29a81aa344cf1ab033279794f5d22da9a",
        "id": "wwbHXg4HNdNR"
      },
      "cell_type": "code",
      "source": [
        "fig, ax = plt.subplots(1,2,figsize=(20,5))\n",
        "sns.distplot(daily_data.Quantity.values, kde=True, ax=ax[0], color=\"Orange\", bins=30);\n",
        "sns.distplot(np.log(daily_data.Quantity.values), kde=True, ax=ax[1], color=\"Orange\", bins=30);\n",
        "ax[0].set_xlabel(\"Number of daily product sales\");\n",
        "ax[0].set_ylabel(\"Frequency\");\n",
        "ax[0].set_title(\"How many products are sold per day?\");"
      ],
      "execution_count": null,
      "outputs": []
    },
    {
      "metadata": {
        "_uuid": "be654993563a9a320962f391b2aa30ee72cfde42",
        "id": "GJIWEraQNdNR"
      },
      "cell_type": "markdown",
      "source": [
        "We can see that the distributions are **right skewed. Lower values are more common**. In addition the daily sales quantities seem to be **multimodal**. A daily sale of 1 is common as well as a quantity of 12 and 24. This pattern is very interesting and leads to the conclusion that quantities are often divisible by 2 or 3. In a nutshell we can say that specific products are often bought as single quantites or in a small bunch."
      ]
    },
    {
      "metadata": {
        "_uuid": "7d809ec284c26143dcdeee264b3e183974372843",
        "id": "6yiNZ-IWNdNR"
      },
      "cell_type": "markdown",
      "source": [
        "## How to predict daily product sales? <a class=\"anchor\" id=\"model\"></a>\n",
        "\n",
        "In this kernel I like to use [catboost ](https://catboost.ai/) as predictive model. The prediction of daily quantities and revenues are both regression tasks and consequently I will use the catboost regressor. The loss and metric I like to use is the [root mean square error](https://en.wikipedia.org/wiki/Root-mean-square_deviation) (RMSE):\n",
        "\n",
        "$$ E = \\sqrt{ \\frac{1}{N}\\sum_{n=1}^{N} (t_{n} - y_{n})^{2}}$$\n",
        "\n",
        "It computes the error between the target value $t_{n}$ and the predicted value $y_{n}$ per sample, takes the square to make sure that both, positive and negative deviations, contribute to the sum the same way. Then the mean is taken by dividing with the total amount $N$ of samples (entries) in the data. And finally to obtain an impression of the error for single predictions, the root is taken. What should we keep in mind when working with this loss and metric function? :-) It's heavily influenced by outliers! **If we have some predictions that are far away from the targets, they will guide the mean towards higher values as well. Hence it could be that we will make nice predictions for a majority of samples but the RMSE is still high due to high errors for a minority of samples**."
      ]
    },
    {
      "metadata": {
        "_uuid": "0bce33879cacbf9855053b89d43c3adc796c835a",
        "id": "0VY2oteJNdNR"
      },
      "cell_type": "markdown",
      "source": [
        "### Validation strategy\n",
        "\n",
        "As the **data covers only one year and we have a high increase of sold products during pre-christmas period**, we need to select validation data carefully. I will start with validation data that covers at least 8 full weeks (+ remaining days). After generating new features by exploring the data, I will use a sliding window time series validation that should help us to understand if the model is able to solve the prediction task during both times: pre-christmas season and non-christmas season."
      ]
    },
    {
      "metadata": {
        "_uuid": "75b0527a2186a2c092062a06cd14a4a9d963fa7e",
        "id": "zu5RZPMRNdNS"
      },
      "cell_type": "markdown",
      "source": [
        "### Catboost family and hyperparameter class <a class=\"anchor\" id=\"classes\"></a>\n",
        "\n",
        "To easily generate new models and compare results between them I wrote some classes:"
      ]
    },
    {
      "metadata": {
        "_uuid": "ab042f46fe1cd02d755b7fb127a4d7f477f8446f",
        "id": "Ex4ivgXiNdNS"
      },
      "cell_type": "markdown",
      "source": [
        "**Hyperparameter Class**\n",
        "\n",
        "This class holds all important hyperparameters we have to set before training like the loss function, the evaluation metric, the max depth of trees, the number of max number of trees (iterations) and the l2_leaf_reg for regularization to avoid overfitting."
      ]
    },
    {
      "metadata": {
        "_kg_hide-input": true,
        "trusted": true,
        "_uuid": "7b1056bd8f70a38c868b5173133c91ac86dcfa08",
        "id": "xx2TF2KbNdNS"
      },
      "cell_type": "code",
      "source": [
        "class CatHyperparameter:\n",
        "\n",
        "    def __init__(self,\n",
        "                 loss=\"RMSE\",\n",
        "                 metric=\"RMSE\",\n",
        "                 iterations=1000,\n",
        "                 max_depth=4,\n",
        "                 l2_leaf_reg=3,\n",
        "                 #learning_rate=0.5,\n",
        "                 seed=0):\n",
        "        self.loss = loss,\n",
        "        self.metric = metric,\n",
        "        self.max_depth = max_depth,\n",
        "        self.l2_leaf_reg = l2_leaf_reg,\n",
        "        #self.learning_rate = learning_rate,\n",
        "        self.iterations=iterations\n",
        "        self.seed = seed"
      ],
      "execution_count": null,
      "outputs": []
    },
    {
      "metadata": {
        "_uuid": "65e9f071e58cd238f53d5a392e99e3b6220b1e72",
        "id": "TEwN7pBSNdNS"
      },
      "cell_type": "markdown",
      "source": [
        "**Catmodel class**\n",
        "\n",
        "This model obtains a train & validation pool as data or pandas dataframes for features X and targets y together with a week. It's the first week of our validation data and all other weeks above are used as well. It trains the model and can show learning process as well as feature importances and some figures for result analysis. It's the fastest choice you can make for playing around."
      ]
    },
    {
      "metadata": {
        "_kg_hide-input": true,
        "trusted": true,
        "_uuid": "4e0f66a0ec6e90c1f59903759d3401b30de3b2a5",
        "id": "P16O4pd9NdNT"
      },
      "cell_type": "code",
      "source": [
        "class Catmodel:\n",
        "\n",
        "    def __init__(self, name, params):\n",
        "        self.name = name\n",
        "        self.params = params\n",
        "\n",
        "    def set_data_pool(self, train_pool, val_pool):\n",
        "        self.train_pool = train_pool\n",
        "        self.val_pool = val_pool\n",
        "\n",
        "    def set_data(self, X, y, week):\n",
        "        cat_features_idx = np.where(X.dtypes != np.float)[0]\n",
        "        x_train, self.x_val = X.loc[X.Week < week], X.loc[X.Week >= week]\n",
        "        y_train, self.y_val = y.loc[X.Week < week], y.loc[X.Week >= week]\n",
        "        self.train_pool = Pool(x_train, y_train, cat_features=cat_features_idx)\n",
        "        self.val_pool = Pool(self.x_val, self.y_val, cat_features=cat_features_idx)\n",
        "\n",
        "    def prepare_model(self):\n",
        "        self.model = CatBoostRegressor(\n",
        "                loss_function = self.params.loss[0],\n",
        "                random_seed = self.params.seed,\n",
        "                logging_level = 'Silent',\n",
        "                iterations = self.params.iterations,\n",
        "                max_depth = self.params.max_depth[0],\n",
        "                #learning_rate = self.params.learning_rate[0],\n",
        "                l2_leaf_reg = self.params.l2_leaf_reg[0],\n",
        "                od_type='Iter',\n",
        "                od_wait=40,\n",
        "                train_dir=self.name,\n",
        "                has_time=True\n",
        "            )\n",
        "\n",
        "    def learn(self, plot=False):\n",
        "        self.prepare_model()\n",
        "        self.model.fit(self.train_pool, eval_set=self.val_pool, plot=plot);\n",
        "        print(\"{}, early-stopped model tree count {}\".format(\n",
        "            self.name, self.model.tree_count_\n",
        "        ))\n",
        "\n",
        "    def score(self):\n",
        "        return self.model.score(self.val_pool)\n",
        "\n",
        "    def show_importances(self, kind=\"bar\"):\n",
        "        explainer = shap.TreeExplainer(self.model)\n",
        "        shap_values = explainer.shap_values(self.val_pool)\n",
        "        if kind==\"bar\":\n",
        "            return shap.summary_plot(shap_values, self.x_val, plot_type=\"bar\")\n",
        "        return shap.summary_plot(shap_values, self.x_val)\n",
        "\n",
        "    def get_val_results(self):\n",
        "        self.results = pd.DataFrame(self.y_val)\n",
        "        self.results[\"prediction\"] = self.predict(self.x_val)\n",
        "        self.results[\"error\"] = np.abs(\n",
        "            self.results[self.results.columns.values[0]].values - self.results.prediction)\n",
        "        self.results[\"Month\"] = self.x_val.Month\n",
        "        self.results[\"SquaredError\"] = self.results.error.apply(lambda l: np.power(l, 2))\n",
        "\n",
        "    def show_val_results(self):\n",
        "        self.get_val_results()\n",
        "        fig, ax = plt.subplots(1,2,figsize=(20,5))\n",
        "        sns.distplot(self.results.error, ax=ax[0])\n",
        "        ax[0].set_xlabel(\"Single absolute error\")\n",
        "        ax[0].set_ylabel(\"Density\")\n",
        "        self.median_absolute_error = np.median(self.results.error)\n",
        "        print(\"Median absolute error: {}\".format(self.median_absolute_error))\n",
        "        ax[0].axvline(self.median_absolute_error, c=\"black\")\n",
        "        ax[1].scatter(self.results.prediction.values,\n",
        "                      self.results[self.results.columns[0]].values,\n",
        "                      c=self.results.error, cmap=\"RdYlBu_r\", s=1)\n",
        "        ax[1].set_xlabel(\"Prediction\")\n",
        "        ax[1].set_ylabel(\"Target\")\n",
        "        return ax\n",
        "\n",
        "    def get_monthly_RMSE(self):\n",
        "        return self.results.groupby(\"Month\").SquaredError.mean().apply(lambda l: np.sqrt(l))\n",
        "\n",
        "    def predict(self, x):\n",
        "        return self.model.predict(x)\n",
        "\n",
        "    def get_dependence_plot(self, feature1, feature2=None):\n",
        "        explainer = shap.TreeExplainer(self.model)\n",
        "        shap_values = explainer.shap_values(self.val_pool)\n",
        "        if feature2 is None:\n",
        "            return shap.dependence_plot(\n",
        "                feature1,\n",
        "                shap_values,\n",
        "                self.x_val,\n",
        "            )\n",
        "        else:\n",
        "            return shap.dependence_plot(\n",
        "                feature1,\n",
        "                shap_values,\n",
        "                self.x_val,\n",
        "                interaction_index=feature2\n",
        "            )\n",
        "\n",
        ""
      ],
      "execution_count": null,
      "outputs": []
    },
    {
      "metadata": {
        "_uuid": "bad8194759225b7782e0112a2a3d06d6e5da58d6",
        "id": "RqE3ghhnNdNU"
      },
      "cell_type": "markdown",
      "source": [
        "**Hyperparameter-Search class**\n",
        "\n",
        "This is a class for hyperparameter search that uses Bayesian Optimization and Gaussian Process Regression to find optimal hyperparameters. I decided to use this method as the computation of the score for one catfamily model may be expensive. In this case bayesian optimization could be a plus. As this optimization methods takes some time as well you should try random search as well as this may be faster."
      ]
    },
    {
      "metadata": {
        "_kg_hide-input": true,
        "trusted": true,
        "_uuid": "47ad9378cfbab74f12f6a21ae04ef0211923b83f",
        "id": "4_FhWGcfNdNU"
      },
      "cell_type": "code",
      "source": [
        "import GPyOpt\n",
        "\n",
        "class Hypertuner:\n",
        "\n",
        "    def __init__(self, model, max_iter=10, max_time=10,max_depth=6, max_l2_leaf_reg=20):\n",
        "        self.bounds = [{'name': 'depth','type': 'discrete','domain': (1,max_depth)},\n",
        "                       {'name': 'l2_leaf_reg','type': 'discrete','domain': (1,max_l2_leaf_reg)}]\n",
        "        self.model = model\n",
        "        self.max_iter=max_iter\n",
        "        self.max_time=max_time\n",
        "        self.best_depth = None\n",
        "        self.best_l2_leaf_reg = None\n",
        "\n",
        "    def objective(self, params):\n",
        "        params = params[0]\n",
        "        params = CatHyperparameter(\n",
        "            max_depth=params[0],\n",
        "            l2_leaf_reg=params[1]\n",
        "        )\n",
        "        self.model.params = params\n",
        "        self.model.learn()\n",
        "        return self.model.score()\n",
        "\n",
        "    def learn(self):\n",
        "        np.random.seed(777)\n",
        "        optimizer = GPyOpt.methods.BayesianOptimization(\n",
        "            f=self.objective, domain=self.bounds,\n",
        "            acquisition_type ='EI',\n",
        "            acquisition_par = 0.2,\n",
        "            exact_eval=True)\n",
        "        optimizer.run_optimization(self.max_iter, self.max_time)\n",
        "        optimizer.plot_convergence()\n",
        "        best = optimizer.X[np.argmin(optimizer.Y)]\n",
        "        self.best_depth = best[0]\n",
        "        self.best_l2_leaf_reg = best[1]\n",
        "        print(\"Optimal depth is {} and optimal l2-leaf-reg is {}\".format(self.best_depth, self.best_l2_leaf_reg))\n",
        "        print('Optimal RMSE:', np.min(optimizer.Y))\n",
        "\n",
        "    def retrain_catmodel(self):\n",
        "        params = CatHyperparameter(\n",
        "            max_depth=self.best_depth,\n",
        "            l2_leaf_reg=self.best_l2_leaf_reg\n",
        "        )\n",
        "        self.model.params = params\n",
        "        self.model.learn(plot=True)\n",
        "        return self.model"
      ],
      "execution_count": null,
      "outputs": []
    },
    {
      "metadata": {
        "_uuid": "2aec4b4c4db2d888860aef36957cbf78509fcd0e",
        "id": "AQ9rLcS1NdNU"
      },
      "cell_type": "markdown",
      "source": [
        "**Time series validation Catfamily**\n",
        "\n",
        "This model holds the information about how to split the data into validation chunks and it organizes the training with sliding window validation. Furthermore it can return a score as the mean over all RMSE scores of its models."
      ]
    },
    {
      "metadata": {
        "trusted": true,
        "_uuid": "3f2769423d74da04baf5256fd9c4e2c436057d09",
        "_kg_hide-input": true,
        "id": "c1eKF8FBNdNU"
      },
      "cell_type": "code",
      "source": [
        "class CatFamily:\n",
        "\n",
        "    def __init__(self, params, X, y, n_splits=2):\n",
        "        self.family = {}\n",
        "        self.cat_features_idx = np.where(X.dtypes != np.float)[0]\n",
        "        self.X = X.values\n",
        "        self.y = y.values\n",
        "        self.n_splits = n_splits\n",
        "        self.params = params\n",
        "\n",
        "    def set_validation_strategy(self):\n",
        "        self.cv = TimeSeriesSplit(max_train_size = None,\n",
        "                                  n_splits = self.n_splits)\n",
        "        self.gen = self.cv.split(self.X)\n",
        "\n",
        "    def get_split(self):\n",
        "        train_idx, val_idx = next(self.gen)\n",
        "        x_train, x_val = self.X[train_idx], self.X[val_idx]\n",
        "        y_train, y_val = self.y[train_idx], self.y[val_idx]\n",
        "        train_pool = Pool(x_train, y_train, cat_features=self.cat_features_idx)\n",
        "        val_pool = Pool(x_val, y_val, cat_features=self.cat_features_idx)\n",
        "        return train_pool, val_pool\n",
        "\n",
        "    def learn(self):\n",
        "        self.set_validation_strategy()\n",
        "        self.model_names = []\n",
        "        self.model_scores = []\n",
        "        for split in range(self.n_splits):\n",
        "            name = 'Model_cv_' + str(split) + '/'\n",
        "            train_pool, val_pool = self.get_split()\n",
        "            self.model_names.append(name)\n",
        "            self.family[name], score = self.fit_catmodel(name, train_pool, val_pool)\n",
        "            self.model_scores.append(score)\n",
        "\n",
        "    def fit_catmodel(self, name, train_pool, val_pool):\n",
        "        cat = Catmodel(name, train_pool, val_pool, self.params)\n",
        "        cat.prepare_model()\n",
        "        cat.learn()\n",
        "        score = cat.score()\n",
        "        return cat, score\n",
        "\n",
        "    def score(self):\n",
        "        return np.mean(self.model_scores)\n",
        "\n",
        "    def show_learning(self):\n",
        "        widget = MetricVisualizer(self.model_names)\n",
        "        widget.start()\n",
        "\n",
        "    def show_importances(self):\n",
        "        name = self.model_names[-1]\n",
        "        cat = self.family[name]\n",
        "        explainer = shap.TreeExplainer(cat.model)\n",
        "        shap_values = explainer.shap_values(cat.val_pool)\n",
        "        return shap.summary_plot(shap_values, X, plot_type=\"bar\")"
      ],
      "execution_count": null,
      "outputs": []
    },
    {
      "metadata": {
        "_uuid": "b615c2988eba1f9bd8785bb11eab65055b04d346",
        "id": "6T5fgUBPNdNV"
      },
      "cell_type": "markdown",
      "source": [
        "### Baseline model & result analysis  <a class=\"anchor\" id=\"baseline\"></a>\n",
        "\n",
        "Let's see how good this model performs without feature engineering and hyperparameter search:"
      ]
    },
    {
      "metadata": {
        "trusted": true,
        "_uuid": "3e3da81bb8ae9159c4e64514bcb3b8ec2530e366",
        "id": "O81LzcHkNdNV"
      },
      "cell_type": "code",
      "source": [
        "daily_data.head()"
      ],
      "execution_count": null,
      "outputs": []
    },
    {
      "metadata": {
        "trusted": true,
        "_uuid": "f086a28865e4faf4e141ea9f8a6dfe7404644c68",
        "id": "icEhv6cNNdNV"
      },
      "cell_type": "code",
      "source": [
        "week = daily_data.Week.max() - 2\n",
        "print(\"Validation after week {}\".format(week))\n",
        "print(\"Validation starts at timepoint {}\".format(\n",
        "    daily_data[daily_data.Week==week].Date.min()\n",
        "))"
      ],
      "execution_count": null,
      "outputs": []
    },
    {
      "metadata": {
        "trusted": true,
        "_uuid": "728215f960e50fc55a7fa7392f429050fded5ea4",
        "id": "pxMq-n5tNdNV"
      },
      "cell_type": "code",
      "source": [
        "X = daily_data.drop([\"Quantity\", \"Revenue\", \"Date\"], axis=1)\n",
        "daily_data.Quantity = np.log(daily_data.Quantity)\n",
        "y = daily_data.Quantity\n",
        "params = CatHyperparameter()\n",
        "\n",
        "model = Catmodel(\"baseline\", params)\n",
        "model.set_data(X,y, week)\n",
        "model.learn(plot=True)"
      ],
      "execution_count": null,
      "outputs": []
    },
    {
      "metadata": {
        "_uuid": "a29b1c584e06ec8a24130e9538c09e475408e0d4",
        "id": "eOi_9rzeNdNW"
      },
      "cell_type": "markdown",
      "source": [
        "If you have forked this kernel and are in interactive model you can see that the model loss has converged. How big is the evaluated root mean square error on validation data?"
      ]
    },
    {
      "metadata": {
        "trusted": true,
        "_uuid": "9305d093b4866baf5966310760bd0c00e3cd626e",
        "id": "aoQc3EgTNdNW"
      },
      "cell_type": "code",
      "source": [
        "model.score()"
      ],
      "execution_count": null,
      "outputs": []
    },
    {
      "metadata": {
        "_uuid": "a9eab9032740f20b97b107cd194cb673a1288c94",
        "id": "YfE-A0aJNdNW"
      },
      "cell_type": "markdown",
      "source": [
        "This value is high, but as already mentioned the RSME is influenced by outliers and we should take a look at the distribution of individual absolute errors:"
      ]
    },
    {
      "metadata": {
        "trusted": true,
        "_uuid": "a518c78a42f892856924720154df272c7b2d0cba",
        "id": "e7Y8uVK_NdNW"
      },
      "cell_type": "code",
      "source": [
        "model.show_val_results();"
      ],
      "execution_count": null,
      "outputs": []
    },
    {
      "metadata": {
        "_uuid": "8e096366f75edf18b919c299d4dcd005df112ef7",
        "id": "adT0pHIUNdNW"
      },
      "cell_type": "markdown",
      "source": [
        "* We can see that the **distribution of absolute errors of single predictions is right skewed.**\n",
        "* The **median single error (black) is half of the RMSE score and significantly lower**.\n",
        "* By plotting the target versus prediction we can see that we **made higher errors for validation entries that have high true quantity values above 30**. The strong blue line shows the identity where predictions are close to target values. **To improve we need to make better predictions for products with true high quantities during validation time**."
      ]
    },
    {
      "metadata": {
        "trusted": true,
        "_uuid": "354eed0f35550754cc8dd68b17d5b91d9a3968b2",
        "id": "0adlk8GGNdNX"
      },
      "cell_type": "code",
      "source": [
        "model.show_importances()"
      ],
      "execution_count": null,
      "outputs": []
    },
    {
      "metadata": {
        "_uuid": "3467dbea55806c8c2ef20399b4beb9fe81fe9c03",
        "id": "aQBxfQf9NdNX"
      },
      "cell_type": "markdown",
      "source": [
        "* We can see that the **stock code as well as the description of the products are very important**. They do not have a color as they are not numerical and do not have low or high values.\n",
        "* The **weekday** is an important feature as well. We have already seen this by exploring the data. Low values from monday up to thursday are those days where the retailer sales most products. In contrast high values (friday to sunday) only yield a few sales."
      ]
    },
    {
      "metadata": {
        "trusted": true,
        "_uuid": "396b570216edf883620074ea78eee79617c24244",
        "id": "EnaaRaZINdNX"
      },
      "cell_type": "code",
      "source": [
        "model.show_importances(kind=None)"
      ],
      "execution_count": null,
      "outputs": []
    },
    {
      "metadata": {
        "_uuid": "ad3a00b0662b1180d9511e19ad475308df4cf74f",
        "id": "lNS0rywENdNX"
      },
      "cell_type": "markdown",
      "source": [
        "* Take a look at the **weekday to understand this plot**: Low values (0 to 3) correspond to Monday, Tuesday, Wednesday and Thursday. These are days with high amount of product sales (high quantity target values). They are colored in blue and **push towards higher sharp values and consequently to higher predicted quantity values**. Higher weekday values suite to friday, saturday and sunday. They are colored in red and **push towards negative sharp values and to lower predicted values**. This confirms to the observations we made during exploration of weekday and the sum of daily quantities.    \n",
        "* The **StockCode and the Description** are important features but they are also **very complex**. We have seen that we have close to 4000 different stock codes and even more descriptions. To improve we should **try to engineer features that are able to descripe the products in a more general way**."
      ]
    },
    {
      "metadata": {
        "trusted": true,
        "_uuid": "2e7c9dc1a1699bf6b02a4600df76da38e5bec700",
        "id": "qdvcRgYONdNY"
      },
      "cell_type": "code",
      "source": [
        "np.mean(np.abs(np.exp(model.results.prediction) - np.exp(model.results.Quantity)))"
      ],
      "execution_count": null,
      "outputs": []
    },
    {
      "metadata": {
        "trusted": true,
        "_uuid": "7a007299c8bfd4581e54f8d3284905abc9b9f0ca",
        "id": "E6R03mzyNdNY"
      },
      "cell_type": "code",
      "source": [
        "np.median(np.abs(np.exp(model.results.prediction) - np.exp(model.results.Quantity)))"
      ],
      "execution_count": null,
      "outputs": []
    },
    {
      "metadata": {
        "_uuid": "d804d8e7d2aa13f18c7633d16aba8cba245635a5",
        "id": "JYvjHsuBNdNZ"
      },
      "cell_type": "markdown",
      "source": [
        "### Bayesian Hyperparameter Search with GPyOpt <a class=\"anchor\" id=\"hypersearch\"></a>\n",
        "\n",
        "Ok, now we have gained some feeling for a single model. Let's find out if we can obtain a better score after hyperparameter search:"
      ]
    },
    {
      "metadata": {
        "trusted": true,
        "_uuid": "7f18e479354cfa5b7aebca6fddfb7568aee2b176",
        "id": "WvRDjYrUNdNa"
      },
      "cell_type": "code",
      "source": [
        "#search = Hypertuner(model, max_depth=5, max_l2_leaf_reg=30)\n",
        "#search.learn()\n",
        "#model = search.retrain_catmodel()\n",
        "#print(model.score())\n",
        "#model.show_importances(kind=None)"
      ],
      "execution_count": null,
      "outputs": []
    },
    {
      "metadata": {
        "_uuid": "7d80fafd43a0cb70db14dbf537326d9b2abd4759",
        "id": "_0q8VU3HNdNa"
      },
      "cell_type": "markdown",
      "source": [
        "## Feature engineering"
      ]
    },
    {
      "metadata": {
        "_uuid": "48256c61aa85332186abe8ac25b12094a7865543",
        "id": "75ZxZy1ANdNa"
      },
      "cell_type": "markdown",
      "source": [
        "### Creating product types"
      ]
    },
    {
      "metadata": {
        "trusted": true,
        "_uuid": "e53857611c36c257bebf5474111c7edfdbf81f04",
        "id": "hy_hZ8yXNdNa"
      },
      "cell_type": "code",
      "source": [
        "products = pd.DataFrame(index=data.loc[data.Week < week].StockCode.unique(), columns = [\"MedianPrice\"])\n",
        "\n",
        "products[\"MedianPrice\"] = data.loc[data.Week < week].groupby(\"StockCode\").UnitPrice.median()\n",
        "products[\"MedianQuantities\"] = data.loc[data.Week < week].groupby(\"StockCode\").Quantity.median()\n",
        "products[\"Customers\"] = data.loc[data.Week < week].groupby(\"StockCode\").CustomerID.nunique()\n",
        "products[\"DescriptionLength\"] = data.loc[data.Week < week].groupby(\"StockCode\").DescriptionLength.median()\n",
        "#products[\"StockCode\"] = products.index.values\n",
        "org_cols = np.copy(products.columns.values)\n",
        "products.head()"
      ],
      "execution_count": null,
      "outputs": []
    },
    {
      "metadata": {
        "trusted": true,
        "_uuid": "36638fc5b99d712907c110e56edad7a232a0f11d",
        "id": "xkN_2wNpNdNa"
      },
      "cell_type": "code",
      "source": [
        "for col in org_cols:\n",
        "    if col != \"StockCode\":\n",
        "        products[col] = boxcox(products[col])[0]"
      ],
      "execution_count": null,
      "outputs": []
    },
    {
      "metadata": {
        "_kg_hide-input": true,
        "trusted": true,
        "_uuid": "968cd111234a1f540209bb3ddb8894ddfa012ee2",
        "id": "Sem7L2BhNdNb"
      },
      "cell_type": "code",
      "source": [
        "fig, ax = plt.subplots(1,3,figsize=(20,5))\n",
        "ax[0].scatter(products.MedianPrice.values, products.MedianQuantities.values,\n",
        "           c=products.Customers.values, cmap=\"coolwarm_r\")\n",
        "ax[0].set_xlabel(\"Boxcox-Median-UnitPrice\")\n",
        "ax[0].set_ylabel(\"Boxcox-Median-Quantities\")"
      ],
      "execution_count": null,
      "outputs": []
    },
    {
      "metadata": {
        "trusted": true,
        "_uuid": "59bd759059b791c9e706db796db770e86ef186a4",
        "id": "iE8x3VVGNdNb"
      },
      "cell_type": "code",
      "source": [
        "X = products.values\n",
        "scaler = StandardScaler()\n",
        "X = scaler.fit_transform(X)"
      ],
      "execution_count": null,
      "outputs": []
    },
    {
      "metadata": {
        "trusted": true,
        "_uuid": "cc0e33d483e0ab1a31c1ffb9d4519a0c86056046",
        "id": "JlV2uAcWNdNb"
      },
      "cell_type": "code",
      "source": [
        "km = KMeans(n_clusters=30)\n",
        "products[\"cluster\"] = km.fit_predict(X)\n",
        "\n",
        "daily_data[\"ProductType\"] = daily_data.StockCode.map(products.cluster)\n",
        "daily_data.ProductType = daily_data.ProductType.astype(\"object\")\n",
        "daily_data.head()"
      ],
      "execution_count": null,
      "outputs": []
    },
    {
      "metadata": {
        "_uuid": "be969c0f565b6ae2116625d7e092d5501d14810f",
        "id": "h-RMQwF_NdNb"
      },
      "cell_type": "markdown",
      "source": [
        "## Baseline for product types"
      ]
    },
    {
      "metadata": {
        "trusted": true,
        "_uuid": "afb436f0c4e120a626a9197a2c16a182896d4ec1",
        "id": "luNHccL6NdNb"
      },
      "cell_type": "code",
      "source": [
        "daily_data[\"KnownStockCodeUnitPriceMedian\"] = daily_data.StockCode.map(\n",
        "    data.groupby(\"StockCode\").UnitPrice.median())\n",
        "\n",
        "known_price_iqr = data.groupby(\"StockCode\").UnitPrice.quantile(0.75)\n",
        "known_price_iqr -= data.groupby(\"StockCode\").UnitPrice.quantile(0.25)\n",
        "daily_data[\"KnownStockCodeUnitPriceIQR\"] = daily_data.StockCode.map(known_price_iqr)"
      ],
      "execution_count": null,
      "outputs": []
    },
    {
      "metadata": {
        "trusted": true,
        "_uuid": "8ed75d4d4f0b8fdcf5d88c9de946497a14a18f4c",
        "id": "ZeAj5LDQNdNc"
      },
      "cell_type": "code",
      "source": [
        "to_group = [\"StockCode\", \"Year\", \"Month\", \"Week\", \"Weekday\"]\n",
        "\n",
        "daily_data = daily_data.set_index(to_group)\n",
        "daily_data[\"KnownStockCodePrice_WW_median\"] = daily_data.index.map(\n",
        "    data.groupby(to_group).UnitPrice.median())\n",
        "daily_data[\"KnownStockCodePrice_WW_mean\"] = daily_data.index.map(\n",
        "    data.groupby(to_group).UnitPrice.mean().apply(lambda l: np.round(l, 2)))\n",
        "daily_data[\"KnownStockCodePrice_WW_std\"] = daily_data.index.map(\n",
        "    data.groupby(to_group).UnitPrice.std().apply(lambda l: np.round(l, 2)))\n",
        "\n",
        "daily_data = daily_data.reset_index()"
      ],
      "execution_count": null,
      "outputs": []
    },
    {
      "metadata": {
        "trusted": true,
        "_uuid": "d70488af77e91d35f97fc7d935b377e120e90bda",
        "id": "4oFCUV64NdNc"
      },
      "cell_type": "code",
      "source": [
        "daily_data.head()"
      ],
      "execution_count": null,
      "outputs": []
    },
    {
      "metadata": {
        "_uuid": "8b18c02049b2469daf6c8fdc0af942a2c10e7275",
        "id": "8fHejHyZNdNc"
      },
      "cell_type": "markdown",
      "source": [
        "### Temporal patterns"
      ]
    },
    {
      "metadata": {
        "_kg_hide-input": true,
        "trusted": true,
        "_uuid": "e92cd17e78279e3ad04c8064b74900f0dbb59a26",
        "id": "mxHUHFBANdNc"
      },
      "cell_type": "code",
      "source": [
        "plt.figure(figsize=(20,5))\n",
        "plt.plot(daily_data.groupby(\"Date\").Quantity.sum(), marker='+', c=\"darkorange\")\n",
        "plt.plot(daily_data.groupby(\"Date\").Quantity.sum().rolling(window=30, center=True).mean(),\n",
        "        c=\"red\")\n",
        "plt.xticks(rotation=90);\n",
        "plt.title(\"How many quantities are sold per day over the given time?\");"
      ],
      "execution_count": null,
      "outputs": []
    },
    {
      "metadata": {
        "_kg_hide-input": true,
        "trusted": true,
        "_uuid": "842610c0b6a64521cef30a368dc1aa80081e94d7",
        "id": "o5M_EQbSNdNc"
      },
      "cell_type": "code",
      "source": [
        "fig, ax = plt.subplots(1,2,figsize=(20,5))\n",
        "\n",
        "weekdays = [\"Monday\", \"Tuesday\", \"Wednesday\", \"Thursday\", \"Friday\", \"Saturday\", \"Sunday\"]\n",
        "yearmonth = [\"Dec-2010\", \"Jan-2011\", \"Feb-2011\", \"Mar-2011\", \"Apr-2011\", \"May-2011\",\n",
        "             \"Jun-2011\", \"Jul-1011\", \"Aug-2011\", \"Sep-2011\", \"Oct-2011\", \"Nov-2011\",\n",
        "             \"Dec-2011\"]\n",
        "\n",
        "daily_data.groupby(\"Weekday\").Quantity.sum().plot(\n",
        "    ax=ax[0], marker='o', label=\"Quantity\", c=\"darkorange\");\n",
        "ax[0].legend();\n",
        "ax[0].set_xticks(np.arange(0,7))\n",
        "ax[0].set_xticklabels(weekdays);\n",
        "ax[0].set_xlabel(\"\")\n",
        "ax[0].set_title(\"Total sales per weekday\");\n",
        "\n",
        "ax[1].plot(daily_data.groupby([\"Year\", \"Month\"]).Quantity.sum().values,\n",
        "    marker='o', label=\"Quantities\", c=\"darkorange\");\n",
        "ax[1].set_xticklabels(yearmonth, rotation=90)\n",
        "ax[1].set_xticks(np.arange(0, len(yearmonth)))\n",
        "ax[1].legend();\n",
        "ax[1].set_title(\"Total sales per month\");"
      ],
      "execution_count": null,
      "outputs": []
    },
    {
      "metadata": {
        "_uuid": "9a9b466cecd1a3c0b127ec210b9d4a943df685c2",
        "id": "ZOIBPK-_NdNd"
      },
      "cell_type": "markdown",
      "source": [
        "Both visualisations yield further interesting insights:\n",
        "\n",
        "* **Thursday** seems to be the day on which most products are sold.\n",
        "* In contrast **friday, and sunday** have very **low transactions**\n",
        "* On **saturday** there are **no transactions** at all\n",
        "* The **pre-Christmas season** starts in **september and shows a peak in november**\n",
        "* Indeed **february and april are month with very low sales**.\n",
        "\n",
        "Let's create some new features for our daily aggregation that may be helpful to make better predictions:"
      ]
    },
    {
      "metadata": {
        "trusted": true,
        "_uuid": "73150e971a862a8c36d490b7c549c2cfad76d9f6",
        "id": "_YBN5byQNdNd"
      },
      "cell_type": "code",
      "source": [
        "daily_data[\"PreChristmas\"] = (daily_data.Dayofyear <= 358) & (daily_data.Dayofyear >= 243)"
      ],
      "execution_count": null,
      "outputs": []
    },
    {
      "metadata": {
        "trusted": true,
        "_uuid": "700a5ac5603a95208d6e9371950f66a9e3586076",
        "id": "gH14GdumNdNd"
      },
      "cell_type": "code",
      "source": [
        "for col in [\"Weekday\", \"Month\", \"Quarter\"]:\n",
        "    daily_data = daily_data.set_index(col)\n",
        "    daily_data[col+\"Quantity_mean\"] = daily_data.loc[daily_data.Week < week].groupby(col).Quantity.mean()\n",
        "    daily_data[col+\"Quantity_median\"] = daily_data.loc[daily_data.Week < week].groupby(col).Quantity.median()\n",
        "    daily_data[col+\"Quantity_mean_median_diff\"] = daily_data[col+\"Quantity_mean\"] - daily_data[col+\"Quantity_median\"]\n",
        "    daily_data[col+\"Quantity_IQR\"] = daily_data.loc[\n",
        "        daily_data.Week < week].groupby(col).Quantity.quantile(0.75) - daily_data.loc[\n",
        "        daily_data.Week < week].groupby(col).Quantity.quantile(0.25)\n",
        "    daily_data = daily_data.reset_index()\n",
        "daily_data.head()"
      ],
      "execution_count": null,
      "outputs": []
    },
    {
      "metadata": {
        "trusted": true,
        "_uuid": "c530649d6373c8d076ef5e3bbd791cb6c009c312",
        "id": "gG1j0mE2NdNd"
      },
      "cell_type": "code",
      "source": [
        "to_group = [\"StockCode\", \"PreChristmas\"]\n",
        "daily_data = daily_data.set_index(to_group)\n",
        "daily_data[\"PreChristmasMeanQuantity\"] = daily_data.loc[\n",
        "    daily_data.Week < week].groupby(to_group).Quantity.mean().apply(lambda l: np.round(l, 1))\n",
        "daily_data[\"PreChristmasMedianQuantity\"] = daily_data.loc[\n",
        "    daily_data.Week < week].groupby(to_group).Quantity.median().apply(lambda l: np.round(l, 1))\n",
        "daily_data[\"PreChristmasStdQuantity\"] = daily_data.loc[\n",
        "    daily_data.Week < week].groupby(to_group).Quantity.std().apply(lambda l: np.round(l, 1))\n",
        "daily_data = daily_data.reset_index()"
      ],
      "execution_count": null,
      "outputs": []
    },
    {
      "metadata": {
        "_uuid": "64390ae425428aae6b2dc92d1f399b498e8a1cc7",
        "id": "Loo7FcNjNdNh"
      },
      "cell_type": "markdown",
      "source": [
        "**Lag-Features:**"
      ]
    },
    {
      "metadata": {
        "trusted": true,
        "_uuid": "7631cf00705e5b195162b3ea607e80fcd7854b93",
        "id": "-mdWh6_UNdNi"
      },
      "cell_type": "code",
      "source": [
        "for delta in range(1,4):\n",
        "    to_group = [\"Week\",\"Weekday\",\"ProductType\"]\n",
        "    daily_data = daily_data.set_index(to_group)\n",
        "\n",
        "    daily_data[\"QuantityProducttypeWeekWeekdayLag_\" + str(delta) + \"_median\"] = daily_data.groupby(\n",
        "        to_group).Quantity.median().apply(lambda l: np.round(l,1)).shift(delta)\n",
        "\n",
        "    daily_data = daily_data.reset_index()\n",
        "    daily_data.loc[daily_data.Week >= (week+delta),\n",
        "                   \"QuantityProductTypeWeekWeekdayLag_\" + str(delta) + \"_median\"] = np.nan\n",
        ""
      ],
      "execution_count": null,
      "outputs": []
    },
    {
      "metadata": {
        "trusted": true,
        "_uuid": "23930b159bee9e7629203f7148648439d22330b0",
        "id": "33gXEiW9NdNi"
      },
      "cell_type": "code",
      "source": [
        "data[\"ProductType\"] = data.StockCode.map(products.cluster)"
      ],
      "execution_count": null,
      "outputs": []
    },
    {
      "metadata": {
        "trusted": true,
        "_uuid": "a7ae6c2106575ff9123635ca4f6258e1e8fe0216",
        "id": "bfnzoew3NdNi"
      },
      "cell_type": "code",
      "source": [
        "daily_data[\"TransactionsPerProductType\"] = daily_data.ProductType.map(data.loc[data.Week < week].groupby(\"ProductType\").InvoiceNo.nunique())"
      ],
      "execution_count": null,
      "outputs": []
    },
    {
      "metadata": {
        "_uuid": "a0101bffd414acaa0153fc0d3540e7de3a431cc4",
        "id": "1_CgBHYFNdNi"
      },
      "cell_type": "markdown",
      "source": [
        "### About countries and customers\n",
        "\n"
      ]
    },
    {
      "metadata": {
        "trusted": true,
        "_uuid": "5bc222717b7b8d8e1906c15e636f3542f94776ba",
        "id": "pM-9BotANdNj"
      },
      "cell_type": "code",
      "source": [
        "delta = 1\n",
        "to_group = [\"Week\", \"Weekday\", \"ProductType\"]\n",
        "daily_data = daily_data.set_index(to_group)\n",
        "daily_data[\"DummyWeekWeekdayAttraction\"] = data.groupby(to_group).CustomerID.nunique()\n",
        "daily_data[\"DummyWeekWeekdayMeanUnitPrice\"] = data.groupby(to_group).UnitPrice.mean().apply(lambda l: np.round(l, 2))\n",
        "\n",
        "daily_data[\"WeekWeekdayAttraction_Lag1\"] = daily_data[\"DummyWeekWeekdayAttraction\"].shift(1)\n",
        "daily_data[\"WeekWeekdayMeanUnitPrice_Lag1\"] = daily_data[\"DummyWeekWeekdayMeanUnitPrice\"].shift(1)\n",
        "\n",
        "daily_data = daily_data.reset_index()\n",
        "daily_data.loc[daily_data.Week >= (week + delta), \"WeekWeekdayAttraction_Lag1\"] = np.nan\n",
        "daily_data.loc[daily_data.Week >= (week + delta), \"WeekWeekdayMeanUnitPrice_Lag1\"] = np.nan\n",
        "daily_data = daily_data.drop([\"DummyWeekWeekdayAttraction\", \"DummyWeekWeekdayMeanUnitPrice\"], axis=1)"
      ],
      "execution_count": null,
      "outputs": []
    },
    {
      "metadata": {
        "trusted": true,
        "_uuid": "66d55473242ef57d9766c626fa580dbf21b9a87a",
        "id": "xFJcDEE_NdNj"
      },
      "cell_type": "code",
      "source": [
        "daily_data[\"TransactionsPerStockCode\"] = daily_data.StockCode.map(\n",
        "    data.loc[data.Week < week].groupby(\"StockCode\").InvoiceNo.nunique())"
      ],
      "execution_count": null,
      "outputs": []
    },
    {
      "metadata": {
        "trusted": true,
        "_uuid": "6b7a04fff35696c8528dc70f5110395310c9f24c",
        "id": "xy87BIKkNdNj"
      },
      "cell_type": "code",
      "source": [
        "daily_data.head()"
      ],
      "execution_count": null,
      "outputs": []
    },
    {
      "metadata": {
        "trusted": true,
        "_uuid": "f6fee9c4881acca128f21bc5c36e7dd0495c8354",
        "id": "3uncdZ1hNdNj"
      },
      "cell_type": "code",
      "source": [
        "daily_data[\"CustomersPerWeekday\"] = daily_data.Month.map(\n",
        "    data.loc[data.Week < week].groupby(\"Weekday\").CustomerID.nunique())"
      ],
      "execution_count": null,
      "outputs": []
    },
    {
      "metadata": {
        "trusted": true,
        "_uuid": "e0eafecac263bfae6e70307e79970aff9cf0bbe7",
        "id": "1iZr5DGHNdNk"
      },
      "cell_type": "code",
      "source": [
        "X = daily_data.drop([\"Quantity\", \"Revenue\", \"Date\", \"Year\"], axis=1)\n",
        "y = daily_data.Quantity\n",
        "params = CatHyperparameter()\n",
        "\n",
        "model = Catmodel(\"new_features_1\", params)\n",
        "model.set_data(X,y, week)\n",
        "model.learn(plot=True)"
      ],
      "execution_count": null,
      "outputs": []
    },
    {
      "metadata": {
        "trusted": true,
        "_uuid": "5dfa19c93e7a580214fa954f38d89e996878225d",
        "id": "ojXMrKqoNdNk"
      },
      "cell_type": "code",
      "source": [
        "model.score()"
      ],
      "execution_count": null,
      "outputs": []
    },
    {
      "metadata": {
        "trusted": true,
        "_uuid": "00a72a100de9bf75ea8d512ebefdee318c38de42",
        "id": "Q-sweD2ONdNk"
      },
      "cell_type": "code",
      "source": [
        "model.show_importances(kind=None)"
      ],
      "execution_count": null,
      "outputs": []
    },
    {
      "metadata": {
        "trusted": true,
        "_uuid": "19e3b7244defcc24dbebc669599125f2f4c5a907",
        "id": "dBrveV10NdNk"
      },
      "cell_type": "code",
      "source": [
        "model.show_val_results();"
      ],
      "execution_count": null,
      "outputs": []
    },
    {
      "metadata": {
        "trusted": true,
        "_uuid": "f0c93b4cef689cd13f6647c8977bb3a8a7441f7a",
        "id": "xiE25aUBNdNk"
      },
      "cell_type": "code",
      "source": [
        "np.mean(np.abs(np.exp(model.results.prediction) - np.exp(model.results.Quantity)))"
      ],
      "execution_count": null,
      "outputs": []
    },
    {
      "metadata": {
        "trusted": true,
        "_uuid": "5ed5df09932ae39011a5d87d537b608ea05ab47c",
        "id": "keisBvdqNdNk"
      },
      "cell_type": "code",
      "source": [
        "np.median(np.abs(np.exp(model.results.prediction) - np.exp(model.results.Quantity)))"
      ],
      "execution_count": null,
      "outputs": []
    },
    {
      "metadata": {
        "trusted": true,
        "_uuid": "b18c4590c142adf1d9095bf52433609a4f7665a8",
        "id": "Rzi2EXOSNdNl"
      },
      "cell_type": "code",
      "source": [
        "search = Hypertuner(model)\n",
        "#search.learn()"
      ],
      "execution_count": null,
      "outputs": []
    },
    {
      "metadata": {
        "trusted": true,
        "_uuid": "e803c9f3099aedb5231fc85bbfd1b21ea886e231",
        "id": "B7dWP0OeNdNl"
      },
      "cell_type": "code",
      "source": [
        "#model = search.retrain_catmodel()\n",
        "#print(model.score())"
      ],
      "execution_count": null,
      "outputs": []
    },
    {
      "metadata": {
        "trusted": true,
        "_uuid": "d446c93175d53ebdcfabf361001cf0bbc6f00209",
        "id": "HIBId1knNdNl"
      },
      "cell_type": "code",
      "source": [
        "#model.show_importances(kind=None)"
      ],
      "execution_count": null,
      "outputs": []
    }
  ],
  "metadata": {
    "kernelspec": {
      "display_name": "Python 3",
      "language": "python",
      "name": "python3"
    },
    "language_info": {
      "name": "python",
      "version": "3.6.6",
      "mimetype": "text/x-python",
      "codemirror_mode": {
        "name": "ipython",
        "version": 3
      },
      "pygments_lexer": "ipython3",
      "nbconvert_exporter": "python",
      "file_extension": ".py"
    },
    "colab": {
      "name": "E-Commerce Sales Forecast ",
      "provenance": [],
      "include_colab_link": true
    }
  },
  "nbformat": 4,
  "nbformat_minor": 0
}