{
  "metadata": {
    "kernelspec": {
      "language": "python",
      "display_name": "Python 3",
      "name": "python3"
    },
    "language_info": {
      "name": "python",
      "version": "3.10.13",
      "mimetype": "text/x-python",
      "codemirror_mode": {
        "name": "ipython",
        "version": 3
      },
      "pygments_lexer": "ipython3",
      "nbconvert_exporter": "python",
      "file_extension": ".py"
    },
    "kaggle": {
      "accelerator": "gpu",
      "dataSources": [
        {
          "sourceId": 7879155,
          "sourceType": "datasetVersion",
          "datasetId": 4624298
        },
        {
          "sourceId": 8690993,
          "sourceType": "datasetVersion",
          "datasetId": 5211420
        },
        {
          "sourceId": 11372,
          "sourceType": "modelInstanceVersion",
          "modelInstanceId": 5388
        }
      ],
      "isInternetEnabled": true,
      "language": "python",
      "sourceType": "notebook",
      "isGpuEnabled": true
    },
    "colab": {
      "name": "notebooka85730058a",
      "provenance": [],
      "include_colab_link": true
    }
  },
  "nbformat_minor": 0,
  "nbformat": 4,
  "cells": [
    {
      "cell_type": "markdown",
      "metadata": {
        "id": "view-in-github",
        "colab_type": "text"
      },
      "source": [
        "<a href=\"https://colab.research.google.com/github/Sifatkhan-1915020/deeplearning-/blob/main/Customer_response.ipynb\" target=\"_parent\"><img src=\"https://colab.research.google.com/assets/colab-badge.svg\" alt=\"Open In Colab\"/></a>"
      ]
    },
    {
      "source": [
        "\n",
        "# IMPORTANT: RUN THIS CELL IN ORDER TO IMPORT YOUR KAGGLE DATA SOURCES\n",
        "# TO THE CORRECT LOCATION (/kaggle/input) IN YOUR NOTEBOOK,\n",
        "# THEN FEEL FREE TO DELETE THIS CELL.\n",
        "# NOTE: THIS NOTEBOOK ENVIRONMENT DIFFERS FROM KAGGLE'S PYTHON\n",
        "# ENVIRONMENT SO THERE MAY BE MISSING LIBRARIES USED BY YOUR\n",
        "# NOTEBOOK.\n",
        "\n",
        "import os\n",
        "import sys\n",
        "from tempfile import NamedTemporaryFile\n",
        "from urllib.request import urlopen\n",
        "from urllib.parse import unquote, urlparse\n",
        "from urllib.error import HTTPError\n",
        "from zipfile import ZipFile\n",
        "import tarfile\n",
        "import shutil\n",
        "\n",
        "CHUNK_SIZE = 40960\n",
        "DATA_SOURCE_MAPPING = 'bitext-gen-ai-chatbot-customer-support-dataset:https%3A%2F%2Fstorage.googleapis.com%2Fkaggle-data-sets%2F4624298%2F7879155%2Fbundle%2Farchive.zip%3FX-Goog-Algorithm%3DGOOG4-RSA-SHA256%26X-Goog-Credential%3Dgcp-kaggle-com%2540kaggle-161607.iam.gserviceaccount.com%252F20241012%252Fauto%252Fstorage%252Fgoog4_request%26X-Goog-Date%3D20241012T100250Z%26X-Goog-Expires%3D259200%26X-Goog-SignedHeaders%3Dhost%26X-Goog-Signature%3D1b4ebdf36c470eaffbeabbbb98c3ee1c49aa2b804ac53afcaf3ee61269ebc348e780a15c796706c313b9361f1ca114a39502fcf976aee4423ade455614b4febbad60e0cebb3eb1d0d2b944803de2dee3e993d072d8969c56ff124e803f226858dc87076e58f13bebb6874ea3154785de1f685a94b20e92191ec242bc0f9c7b8e5c6f00c911f0a4d03438f0196f9b48324b5ca792d0e4f0cc30dbfaf17f712cbceff12bdbe97ffc5e1fec4a6463cbec1ffa2ecc91f1330253e96953bd875b2c9c9044392d9f6ebae8e5b3f59a6954db9dc1a1c4bd39a0eaa645f201aa9cf2d6643d344ca11590175ffab3574d7692e099f9e3bd8702da6069f6850d029673ab87,faq-chatbot:https%3A%2F%2Fstorage.googleapis.com%2Fkaggle-data-sets%2F5211420%2F8690993%2Fbundle%2Farchive.zip%3FX-Goog-Algorithm%3DGOOG4-RSA-SHA256%26X-Goog-Credential%3Dgcp-kaggle-com%2540kaggle-161607.iam.gserviceaccount.com%252F20241012%252Fauto%252Fstorage%252Fgoog4_request%26X-Goog-Date%3D20241012T100250Z%26X-Goog-Expires%3D259200%26X-Goog-SignedHeaders%3Dhost%26X-Goog-Signature%3D8223944d0c8c0aec7cf2e3eeb1998744914f27d284e23d64d2b907ab261dece5d62c6dedf1dd260e7ddaf74f0e350b48d2c9607ecfeca8abf6eba365c0827cef8f207059054419e93c59ced82f3e89db57d95f4d35e12182b25f48c761c9500e0970b4bb44711a36c00035013fc63bb0abf91dbe059c5c28e74c7205a470336cfcc83adc855ccde3b1371ced2374e34b3305d49677d93d52906da2762231679fb89f43f16e3942b62a14b39e2f84688c3e774ae1ac4d9ef416a0d05b4707933099b3dc7c007e516fe2c6f7959db8c83385a777468829d7d3c83321e8a5fc1f73bf937045b1dd3342c16b42f0a8c877c0cc08ddfc3913c579ffb9737a19e386c6'\n",
        "\n",
        "KAGGLE_INPUT_PATH='/kaggle/input'\n",
        "KAGGLE_WORKING_PATH='/kaggle/working'\n",
        "KAGGLE_SYMLINK='kaggle'\n",
        "\n",
        "!umount /kaggle/input/ 2> /dev/null\n",
        "shutil.rmtree('/kaggle/input', ignore_errors=True)\n",
        "os.makedirs(KAGGLE_INPUT_PATH, 0o777, exist_ok=True)\n",
        "os.makedirs(KAGGLE_WORKING_PATH, 0o777, exist_ok=True)\n",
        "\n",
        "try:\n",
        "  os.symlink(KAGGLE_INPUT_PATH, os.path.join(\"..\", 'input'), target_is_directory=True)\n",
        "except FileExistsError:\n",
        "  pass\n",
        "try:\n",
        "  os.symlink(KAGGLE_WORKING_PATH, os.path.join(\"..\", 'working'), target_is_directory=True)\n",
        "except FileExistsError:\n",
        "  pass\n",
        "\n",
        "for data_source_mapping in DATA_SOURCE_MAPPING.split(','):\n",
        "    directory, download_url_encoded = data_source_mapping.split(':')\n",
        "    download_url = unquote(download_url_encoded)\n",
        "    filename = urlparse(download_url).path\n",
        "    destination_path = os.path.join(KAGGLE_INPUT_PATH, directory)\n",
        "    try:\n",
        "        with urlopen(download_url) as fileres, NamedTemporaryFile() as tfile:\n",
        "            total_length = fileres.headers['content-length']\n",
        "            print(f'Downloading {directory}, {total_length} bytes compressed')\n",
        "            dl = 0\n",
        "            data = fileres.read(CHUNK_SIZE)\n",
        "            while len(data) > 0:\n",
        "                dl += len(data)\n",
        "                tfile.write(data)\n",
        "                done = int(50 * dl / int(total_length))\n",
        "                sys.stdout.write(f\"\\r[{'=' * done}{' ' * (50-done)}] {dl} bytes downloaded\")\n",
        "                sys.stdout.flush()\n",
        "                data = fileres.read(CHUNK_SIZE)\n",
        "            if filename.endswith('.zip'):\n",
        "              with ZipFile(tfile) as zfile:\n",
        "                zfile.extractall(destination_path)\n",
        "            else:\n",
        "              with tarfile.open(tfile.name) as tarfile:\n",
        "                tarfile.extractall(destination_path)\n",
        "            print(f'\\nDownloaded and uncompressed: {directory}')\n",
        "    except HTTPError as e:\n",
        "        print(f'Failed to load (likely expired) {download_url} to path {destination_path}')\n",
        "        continue\n",
        "    except OSError as e:\n",
        "        print(f'Failed to load {download_url} to path {destination_path}')\n",
        "        continue\n",
        "\n",
        "print('Data source import complete.')\n"
      ],
      "metadata": {
        "id": "qsiXyq3PLnr3"
      },
      "cell_type": "code",
      "outputs": [],
      "execution_count": null
    },
    {
      "cell_type": "code",
      "source": [
        "!cd kaggle\n",
        "!pip install --upgrade pip\n",
        "!pip install -q -U keras-nlp\n",
        "!pip install -q -U keras>=3"
      ],
      "metadata": {
        "_uuid": "8f2839f25d086af736a60e9eeb907d3b93b6e0e5",
        "_cell_guid": "b1076dfc-b9ad-4769-8c92-a6c4dae69d19",
        "execution": {
          "iopub.status.busy": "2024-06-13T06:45:19.78389Z",
          "iopub.execute_input": "2024-06-13T06:45:19.784789Z",
          "iopub.status.idle": "2024-06-13T06:46:17.228893Z",
          "shell.execute_reply.started": "2024-06-13T06:45:19.784754Z",
          "shell.execute_reply": "2024-06-13T06:46:17.227957Z"
        },
        "trusted": true,
        "id": "H__ffaYmLnr8"
      },
      "execution_count": null,
      "outputs": []
    },
    {
      "cell_type": "code",
      "source": [
        "import os\n",
        "import keras\n",
        "import keras_nlp\n",
        "import pandas as pd\n",
        "import numpy as np\n",
        "os.environ[\"KERAS_BACKEND\"] = \"jax\"\n",
        "os.environ[\"XLA_PYTHON_CLIENT_MEM_FRACTION\"]=\"1.00\""
      ],
      "metadata": {
        "execution": {
          "iopub.status.busy": "2024-06-14T12:31:57.629947Z",
          "iopub.execute_input": "2024-06-14T12:31:57.63082Z",
          "iopub.status.idle": "2024-06-14T12:32:10.980755Z",
          "shell.execute_reply.started": "2024-06-14T12:31:57.630779Z",
          "shell.execute_reply": "2024-06-14T12:32:10.979754Z"
        },
        "trusted": true,
        "id": "VgksDGSILnr9"
      },
      "execution_count": null,
      "outputs": []
    },
    {
      "cell_type": "code",
      "source": [
        "import pandas as pd\n",
        "df = pd.read_csv('/kaggle/input/bitext-gen-ai-chatbot-customer-support-dataset/Bitext_Sample_Customer_Support_Training_Dataset_27K_responses-v11.csv')\n",
        "df = df[['instruction','response']]\n",
        "df.head()\n",
        "df.tail()"
      ],
      "metadata": {
        "execution": {
          "iopub.status.busy": "2024-06-14T12:05:43.152418Z",
          "iopub.execute_input": "2024-06-14T12:05:43.153239Z",
          "iopub.status.idle": "2024-06-14T12:05:43.394633Z",
          "shell.execute_reply.started": "2024-06-14T12:05:43.15321Z",
          "shell.execute_reply": "2024-06-14T12:05:43.393761Z"
        },
        "trusted": true,
        "id": "li5_BVs_Lnr-"
      },
      "execution_count": null,
      "outputs": []
    },
    {
      "cell_type": "code",
      "source": [
        "gemma = keras_nlp.models.GemmaCausalLM.from_preset(\"gemma_instruct_2b_en\")"
      ],
      "metadata": {
        "execution": {
          "iopub.status.busy": "2024-06-14T12:32:16.179865Z",
          "iopub.execute_input": "2024-06-14T12:32:16.180774Z",
          "iopub.status.idle": "2024-06-14T12:33:24.596389Z",
          "shell.execute_reply.started": "2024-06-14T12:32:16.180738Z",
          "shell.execute_reply": "2024-06-14T12:33:24.595381Z"
        },
        "trusted": true,
        "id": "hfofqXHJLnr-"
      },
      "execution_count": null,
      "outputs": []
    },
    {
      "cell_type": "code",
      "source": [
        "# gemma_1 = keras_nlp.models.GemmaCausalLM.from_preset(\"gemma_instruct_2b_en\")"
      ],
      "metadata": {
        "execution": {
          "iopub.status.busy": "2024-06-13T09:27:49.935282Z",
          "iopub.execute_input": "2024-06-13T09:27:49.93571Z",
          "iopub.status.idle": "2024-06-13T09:27:49.940741Z",
          "shell.execute_reply.started": "2024-06-13T09:27:49.935677Z",
          "shell.execute_reply": "2024-06-13T09:27:49.939663Z"
        },
        "trusted": true,
        "id": "bcaHsczZLnr_"
      },
      "execution_count": null,
      "outputs": []
    },
    {
      "cell_type": "code",
      "source": [
        "gemma.summary()\n"
      ],
      "metadata": {
        "execution": {
          "iopub.status.busy": "2024-06-14T12:33:29.173494Z",
          "iopub.execute_input": "2024-06-14T12:33:29.174047Z",
          "iopub.status.idle": "2024-06-14T12:33:29.207237Z",
          "shell.execute_reply.started": "2024-06-14T12:33:29.174012Z",
          "shell.execute_reply": "2024-06-14T12:33:29.206409Z"
        },
        "trusted": true,
        "id": "WpzSi_VaLnsA"
      },
      "execution_count": null,
      "outputs": []
    },
    {
      "cell_type": "code",
      "source": [],
      "metadata": {
        "id": "4kP57wwTLnsA"
      },
      "execution_count": null,
      "outputs": []
    },
    {
      "cell_type": "code",
      "source": [
        "template = \"Instruction:\\n{instruction}\\n\\n\\nResponse:\\n{response}\"\n",
        "filename = \"/kaggle/input/bitext-gen-ai-chatbot-customer-support-dataset/Bitext_Sample_Customer_Support_Training_Dataset_27K_responses-v11.csv\""
      ],
      "metadata": {
        "execution": {
          "iopub.status.busy": "2024-06-14T12:33:34.702911Z",
          "iopub.execute_input": "2024-06-14T12:33:34.703664Z",
          "iopub.status.idle": "2024-06-14T12:33:34.707983Z",
          "shell.execute_reply.started": "2024-06-14T12:33:34.703624Z",
          "shell.execute_reply": "2024-06-14T12:33:34.706929Z"
        },
        "trusted": true,
        "id": "FrYbZ9muLnsB"
      },
      "execution_count": null,
      "outputs": []
    },
    {
      "cell_type": "code",
      "source": [
        "prompt = template.format(\n",
        "    instruction=\"question about cancelling order  \",\n",
        "    response=\"\",\n",
        ")\n",
        "print(gemma.generate(prompt, max_length=256))"
      ],
      "metadata": {
        "execution": {
          "iopub.status.busy": "2024-06-14T09:33:35.97109Z",
          "iopub.execute_input": "2024-06-14T09:33:35.97147Z",
          "iopub.status.idle": "2024-06-14T09:34:01.324109Z",
          "shell.execute_reply.started": "2024-06-14T09:33:35.97144Z",
          "shell.execute_reply": "2024-06-14T09:34:01.323157Z"
        },
        "trusted": true,
        "id": "h0TSUsqDLnsB"
      },
      "execution_count": null,
      "outputs": []
    },
    {
      "cell_type": "code",
      "source": [
        "prompt = template.format(\n",
        "    instruction=\" i have a question about cancelling oorder.\",\n",
        "    intent = \"\",\n",
        "    response=\"\",\n",
        ")\n",
        "print(gemma.generate(prompt, max_length=256))"
      ],
      "metadata": {
        "execution": {
          "iopub.status.busy": "2024-06-14T09:34:13.258782Z",
          "iopub.execute_input": "2024-06-14T09:34:13.259619Z",
          "iopub.status.idle": "2024-06-14T09:34:14.106542Z",
          "shell.execute_reply.started": "2024-06-14T09:34:13.259573Z",
          "shell.execute_reply": "2024-06-14T09:34:14.105335Z"
        },
        "trusted": true,
        "id": "tM8pC-kaLnsC"
      },
      "execution_count": null,
      "outputs": []
    },
    {
      "cell_type": "code",
      "source": [
        "prompt = template.format(\n",
        "    instruction=\"i need help cancelling puchase .\",\n",
        "    response=\"\",\n",
        ")\n",
        "print(gemma.generate(prompt, max_length=256))"
      ],
      "metadata": {
        "execution": {
          "iopub.status.busy": "2024-06-14T09:34:58.169512Z",
          "iopub.execute_input": "2024-06-14T09:34:58.169874Z",
          "iopub.status.idle": "2024-06-14T09:35:03.833623Z",
          "shell.execute_reply.started": "2024-06-14T09:34:58.169849Z",
          "shell.execute_reply": "2024-06-14T09:35:03.832462Z"
        },
        "trusted": true,
        "id": "I3nA0IJSLnsC"
      },
      "execution_count": null,
      "outputs": []
    },
    {
      "cell_type": "code",
      "source": [
        "# prompt = template.format(\n",
        "#     instruction=\"give me some slice of life anime.\",\n",
        "#     response=\"\",\n",
        "# )\n",
        "# print(gemma.generate(prompt, max_length=256))"
      ],
      "metadata": {
        "trusted": true,
        "id": "HA1chH36LnsC"
      },
      "execution_count": null,
      "outputs": []
    },
    {
      "cell_type": "code",
      "source": [
        "# prompt = template.format(\n",
        "#     instruction=\"give me some summary on hajime on ippo.\",\n",
        "#     response=\"\",\n",
        "# )\n",
        "# print(gemma.generate(prompt, max_length=256))"
      ],
      "metadata": {
        "trusted": true,
        "id": "QnwmzqjQLnsD"
      },
      "execution_count": null,
      "outputs": []
    },
    {
      "cell_type": "code",
      "source": [
        "for i,j in df.iterrows():\n",
        "    j['instruction'],j['response'] = j['instruction'].replace(\"{{Order Number}}\", \"\"),j['response'].replace(\"{{Order Number}}\", \"\").replace(\"{{\",\"\").replace(\"}}\",\"\")\n",
        "# df = df[df['category'] != 'SHIPPING']\n",
        "# new_df  = pd.DataFrame()\n",
        "# count = 0\n",
        "# for j in df['category'].unique():\n",
        "#     a = df[df['category'] == j]\n",
        "#     if count == 2:\n",
        "#         break\n",
        "#     for i in a['intent'].unique():\n",
        "#         temp_df = df.loc[df['intent'] == i].head(400)\n",
        "#         new_df = pd.concat([new_df, temp_df],ignore_index = True)\n",
        "#     count += 1\n",
        "\n",
        "# df = new_df"
      ],
      "metadata": {
        "execution": {
          "iopub.status.busy": "2024-06-14T12:05:52.656088Z",
          "iopub.execute_input": "2024-06-14T12:05:52.656467Z",
          "iopub.status.idle": "2024-06-14T12:05:55.041569Z",
          "shell.execute_reply.started": "2024-06-14T12:05:52.656423Z",
          "shell.execute_reply": "2024-06-14T12:05:55.04076Z"
        },
        "trusted": true,
        "id": "P7SYqHxHLnsD"
      },
      "execution_count": null,
      "outputs": []
    },
    {
      "cell_type": "code",
      "source": [
        "df.tail()"
      ],
      "metadata": {
        "execution": {
          "iopub.status.busy": "2024-06-14T12:05:55.042921Z",
          "iopub.execute_input": "2024-06-14T12:05:55.043176Z",
          "iopub.status.idle": "2024-06-14T12:05:55.051906Z",
          "shell.execute_reply.started": "2024-06-14T12:05:55.043155Z",
          "shell.execute_reply": "2024-06-14T12:05:55.050956Z"
        },
        "trusted": true,
        "id": "FDhMVfV-LnsD"
      },
      "execution_count": null,
      "outputs": []
    },
    {
      "cell_type": "code",
      "source": [
        "df_2 = pd.read_json(\"/kaggle/input/faq-chatbot/archive/Ecommerce_FAQ_Chatbot_dataset.json\")\n",
        "df_3 = pd.read_csv(\"/kaggle/input/faq-chatbot/archive (1)/faq.csv\")\n",
        "df_4 = pd.read_csv(\"/kaggle/input/faq-chatbot/archive (2)/fact-base-tesco.csv\")\n",
        "df_4 = df_4[[\"Question\",'Answer']]"
      ],
      "metadata": {
        "execution": {
          "iopub.status.busy": "2024-06-14T12:26:19.310257Z",
          "iopub.execute_input": "2024-06-14T12:26:19.310862Z",
          "iopub.status.idle": "2024-06-14T12:26:19.341673Z",
          "shell.execute_reply.started": "2024-06-14T12:26:19.310829Z",
          "shell.execute_reply": "2024-06-14T12:26:19.340931Z"
        },
        "trusted": true,
        "id": "UParQSHALnsD"
      },
      "execution_count": null,
      "outputs": []
    },
    {
      "cell_type": "code",
      "source": [
        "df_3 = df_3.rename(columns={'Questions': 'instruction','Answers':'response'})\n",
        "df_4 = df_4.rename(columns={'Question': 'instruction','Answer':'response'})"
      ],
      "metadata": {
        "execution": {
          "iopub.status.busy": "2024-06-14T12:26:21.097339Z",
          "iopub.execute_input": "2024-06-14T12:26:21.098205Z",
          "iopub.status.idle": "2024-06-14T12:26:21.103645Z",
          "shell.execute_reply.started": "2024-06-14T12:26:21.09817Z",
          "shell.execute_reply": "2024-06-14T12:26:21.102593Z"
        },
        "trusted": true,
        "id": "qJypFbn8LnsD"
      },
      "execution_count": null,
      "outputs": []
    },
    {
      "cell_type": "code",
      "source": [
        "f = []\n",
        "for i,row in df_2.iterrows():\n",
        "    for column in df_2.columns:\n",
        "        data = row[column]\n",
        "        f.append({\"instruction\": data['question'], \"response\": data['answer']})\n",
        "df_2 = pd.DataFrame(f)"
      ],
      "metadata": {
        "execution": {
          "iopub.status.busy": "2024-06-14T12:26:22.624627Z",
          "iopub.execute_input": "2024-06-14T12:26:22.624983Z",
          "iopub.status.idle": "2024-06-14T12:26:22.635721Z",
          "shell.execute_reply.started": "2024-06-14T12:26:22.624955Z",
          "shell.execute_reply": "2024-06-14T12:26:22.634832Z"
        },
        "trusted": true,
        "id": "8O--7aLKLnsD"
      },
      "execution_count": null,
      "outputs": []
    },
    {
      "cell_type": "code",
      "source": [
        "df_2.head(),df_3.head(),df_4.head()"
      ],
      "metadata": {
        "execution": {
          "iopub.status.busy": "2024-06-14T12:26:24.532108Z",
          "iopub.execute_input": "2024-06-14T12:26:24.532766Z",
          "iopub.status.idle": "2024-06-14T12:26:24.544506Z",
          "shell.execute_reply.started": "2024-06-14T12:26:24.532731Z",
          "shell.execute_reply": "2024-06-14T12:26:24.543518Z"
        },
        "trusted": true,
        "id": "iipskK9QLnsE"
      },
      "execution_count": null,
      "outputs": []
    },
    {
      "cell_type": "code",
      "source": [
        "# for i,j in df.iterrows():\n",
        "#     j['instruction'],j['response'] = j['instruction'].replace(\"{{Order Number}}\", \"\"),j['response'].replace(\"{{Order Number}}\", \"\").replace(\"{{\",\"\").replace(\"}}\",\"\")\n",
        "# df = df[df['category'] != 'SHIPPING']\n",
        "# new2_df  = pd.DataFrame()\n",
        "# count = 0\n",
        "# for j in df['category'].unique():\n",
        "#     a = df[df['category'] == j]\n",
        "#     if count == 2:\n",
        "#         break\n",
        "#     for i in a['intent'].unique():\n",
        "#         temp_df = df.loc[df['intent'] == i].tail(400)\n",
        "#         new2_df = pd.concat([new2_df, temp_df],ignore_index = True)\n",
        "#     count += 1\n",
        "\n",
        "# df2 = new2_df"
      ],
      "metadata": {
        "execution": {
          "iopub.status.busy": "2024-06-14T09:36:02.531783Z",
          "iopub.execute_input": "2024-06-14T09:36:02.532541Z",
          "iopub.status.idle": "2024-06-14T09:36:05.09476Z",
          "shell.execute_reply.started": "2024-06-14T09:36:02.532506Z",
          "shell.execute_reply": "2024-06-14T09:36:05.093565Z"
        },
        "trusted": true,
        "id": "vwlGiwwbLnsE"
      },
      "execution_count": null,
      "outputs": []
    },
    {
      "cell_type": "code",
      "source": [
        "# df2.tail()"
      ],
      "metadata": {
        "execution": {
          "iopub.status.busy": "2024-06-14T09:36:18.7019Z",
          "iopub.execute_input": "2024-06-14T09:36:18.702275Z",
          "iopub.status.idle": "2024-06-14T09:36:18.714346Z",
          "shell.execute_reply.started": "2024-06-14T09:36:18.702242Z",
          "shell.execute_reply": "2024-06-14T09:36:18.713283Z"
        },
        "trusted": true,
        "id": "SoTPI6jeLnsE"
      },
      "execution_count": null,
      "outputs": []
    },
    {
      "cell_type": "code",
      "source": [
        "print(type(df_2)\n",
        ",type(df_3)\n",
        ",type(df_4))"
      ],
      "metadata": {
        "execution": {
          "iopub.status.busy": "2024-06-14T12:29:07.422621Z",
          "iopub.execute_input": "2024-06-14T12:29:07.422995Z",
          "iopub.status.idle": "2024-06-14T12:29:07.428095Z",
          "shell.execute_reply.started": "2024-06-14T12:29:07.422966Z",
          "shell.execute_reply": "2024-06-14T12:29:07.427143Z"
        },
        "trusted": true,
        "id": "c7ib4_6QLnsE"
      },
      "execution_count": null,
      "outputs": []
    },
    {
      "cell_type": "code",
      "source": [
        "df = pd.concat([df, df_2, df_3, df_4], ignore_index=True)"
      ],
      "metadata": {
        "execution": {
          "iopub.status.busy": "2024-06-14T12:30:04.509371Z",
          "iopub.execute_input": "2024-06-14T12:30:04.510425Z",
          "iopub.status.idle": "2024-06-14T12:30:04.517333Z",
          "shell.execute_reply.started": "2024-06-14T12:30:04.510383Z",
          "shell.execute_reply": "2024-06-14T12:30:04.51644Z"
        },
        "trusted": true,
        "id": "c6QC0GeYLnsE"
      },
      "execution_count": null,
      "outputs": []
    },
    {
      "cell_type": "code",
      "source": [
        "df.tail()"
      ],
      "metadata": {
        "execution": {
          "iopub.status.busy": "2024-06-14T12:30:20.420202Z",
          "iopub.execute_input": "2024-06-14T12:30:20.421045Z",
          "iopub.status.idle": "2024-06-14T12:30:20.429616Z",
          "shell.execute_reply.started": "2024-06-14T12:30:20.421013Z",
          "shell.execute_reply": "2024-06-14T12:30:20.428681Z"
        },
        "trusted": true,
        "id": "kpKeNzWWLnsE"
      },
      "execution_count": null,
      "outputs": []
    },
    {
      "cell_type": "code",
      "source": [
        "#Remove null values\n",
        "df.dropna(inplace=True)\n",
        "df.isnull().any()"
      ],
      "metadata": {
        "execution": {
          "iopub.status.busy": "2024-06-14T12:30:38.066252Z",
          "iopub.execute_input": "2024-06-14T12:30:38.066589Z",
          "iopub.status.idle": "2024-06-14T12:30:38.088471Z",
          "shell.execute_reply.started": "2024-06-14T12:30:38.066563Z",
          "shell.execute_reply": "2024-06-14T12:30:38.087475Z"
        },
        "trusted": true,
        "id": "9pgCtpt8LnsE"
      },
      "execution_count": null,
      "outputs": []
    },
    {
      "cell_type": "code",
      "source": [
        "# Convert dataframe to a list with instruction and response\n",
        "rows = []\n",
        "for index, row in df.iterrows():\n",
        "    rows.append(f\"Instruction:\\t{row['instruction']}\\n\\nResponse:\\n{row['response']}.\")\n"
      ],
      "metadata": {
        "execution": {
          "iopub.status.busy": "2024-06-14T12:31:25.702009Z",
          "iopub.execute_input": "2024-06-14T12:31:25.70268Z",
          "iopub.status.idle": "2024-06-14T12:31:27.26326Z",
          "shell.execute_reply.started": "2024-06-14T12:31:25.70264Z",
          "shell.execute_reply": "2024-06-14T12:31:27.262509Z"
        },
        "trusted": true,
        "id": "T4WZE69QLnsF"
      },
      "execution_count": null,
      "outputs": []
    },
    {
      "cell_type": "code",
      "source": [
        "print(rows[-1])"
      ],
      "metadata": {
        "execution": {
          "iopub.status.busy": "2024-06-14T12:31:41.911928Z",
          "iopub.execute_input": "2024-06-14T12:31:41.912286Z",
          "iopub.status.idle": "2024-06-14T12:31:41.917088Z",
          "shell.execute_reply.started": "2024-06-14T12:31:41.912255Z",
          "shell.execute_reply": "2024-06-14T12:31:41.916137Z"
        },
        "trusted": true,
        "id": "aA1FZwLbLnsF"
      },
      "execution_count": null,
      "outputs": []
    },
    {
      "cell_type": "code",
      "source": [
        "gemma.backbone.enable_lora(rank=4)"
      ],
      "metadata": {
        "execution": {
          "iopub.status.busy": "2024-06-14T12:33:54.694791Z",
          "iopub.execute_input": "2024-06-14T12:33:54.695591Z",
          "iopub.status.idle": "2024-06-14T12:33:54.827956Z",
          "shell.execute_reply.started": "2024-06-14T12:33:54.695553Z",
          "shell.execute_reply": "2024-06-14T12:33:54.826986Z"
        },
        "trusted": true,
        "id": "9TEuH47YLnsF"
      },
      "execution_count": null,
      "outputs": []
    },
    {
      "cell_type": "code",
      "source": [
        "gemma.preprocessor.sequence_length = 400\n",
        "\n",
        "optimizer = keras.optimizers.AdamW(\n",
        "    learning_rate=5e-5,\n",
        "    weight_decay=0.01,\n",
        ")\n",
        "optimizer.exclude_from_weight_decay(var_names=[\"bias\", \"scale\"])\n",
        "\n",
        "gemma.compile(\n",
        "    loss=keras.losses.SparseCategoricalCrossentropy(from_logits=True),\n",
        "    optimizer=optimizer,\n",
        "    weighted_metrics=[keras.metrics.SparseCategoricalAccuracy()],\n",
        ")\n",
        "gemma.fit(rows, epochs=1, batch_size=1)"
      ],
      "metadata": {
        "execution": {
          "iopub.status.busy": "2024-06-14T12:33:57.411004Z",
          "iopub.execute_input": "2024-06-14T12:33:57.411387Z"
        },
        "trusted": true,
        "id": "QuxXYBuZLnsF"
      },
      "execution_count": null,
      "outputs": []
    },
    {
      "cell_type": "code",
      "source": [
        "prompt = template.format(\n",
        "    instruction=\"question about cancelling order  \",\n",
        "    response=\"\"\n",
        ")\n",
        "print(gemma.generate(prompt, max_length=256))"
      ],
      "metadata": {
        "execution": {
          "iopub.status.busy": "2024-06-14T09:58:02.779304Z",
          "iopub.execute_input": "2024-06-14T09:58:02.779743Z",
          "iopub.status.idle": "2024-06-14T09:58:26.31204Z",
          "shell.execute_reply.started": "2024-06-14T09:58:02.779696Z",
          "shell.execute_reply": "2024-06-14T09:58:26.311054Z"
        },
        "trusted": true,
        "id": "ddTM_EHRLnsF"
      },
      "execution_count": null,
      "outputs": []
    },
    {
      "cell_type": "code",
      "source": [
        "import random"
      ],
      "metadata": {
        "execution": {
          "iopub.status.busy": "2024-06-14T10:01:53.465451Z",
          "iopub.execute_input": "2024-06-14T10:01:53.4662Z",
          "iopub.status.idle": "2024-06-14T10:01:53.470755Z",
          "shell.execute_reply.started": "2024-06-14T10:01:53.46617Z",
          "shell.execute_reply": "2024-06-14T10:01:53.469685Z"
        },
        "trusted": true,
        "id": "1ChLgprPLnsG"
      },
      "execution_count": null,
      "outputs": []
    },
    {
      "cell_type": "code",
      "source": [
        "\n",
        "prompt = template.format(\n",
        "    instruction = df.iloc[random.randint(0,2000)]['instruction'],\n",
        "    response=\"\",\n",
        ")\n",
        "print(gemma.generate(prompt, max_length=256))"
      ],
      "metadata": {
        "execution": {
          "iopub.status.busy": "2024-06-14T10:02:36.168142Z",
          "iopub.execute_input": "2024-06-14T10:02:36.168827Z",
          "iopub.status.idle": "2024-06-14T10:02:36.730653Z",
          "shell.execute_reply.started": "2024-06-14T10:02:36.168795Z",
          "shell.execute_reply": "2024-06-14T10:02:36.729534Z"
        },
        "trusted": true,
        "id": "m7yThURJLnsG"
      },
      "execution_count": null,
      "outputs": []
    },
    {
      "cell_type": "code",
      "source": [
        "prompt = template.format(\n",
        "    instruction=\"i need help cancelling puchase\",\n",
        "    response=\"\",\n",
        ")\n",
        "response = gemma.generate(prompt, max_length=512)\n",
        "print(response)"
      ],
      "metadata": {
        "execution": {
          "iopub.status.busy": "2024-06-14T10:06:03.610989Z",
          "iopub.execute_input": "2024-06-14T10:06:03.611378Z",
          "iopub.status.idle": "2024-06-14T10:06:26.999184Z",
          "shell.execute_reply.started": "2024-06-14T10:06:03.611343Z",
          "shell.execute_reply": "2024-06-14T10:06:26.998211Z"
        },
        "trusted": true,
        "id": "uw-OFz69LnsG"
      },
      "execution_count": null,
      "outputs": []
    },
    {
      "cell_type": "code",
      "source": [
        "# Assuming 'gemma' is your Gemma model\n",
        "model_path = \"/kaggle/working/model.h5\"  # Adding a valid '.h5' extension\n",
        "\n",
        "# Save the model\n",
        "gemma.save(model_path)"
      ],
      "metadata": {
        "execution": {
          "iopub.status.busy": "2024-06-14T10:30:07.06679Z",
          "iopub.execute_input": "2024-06-14T10:30:07.067519Z",
          "iopub.status.idle": "2024-06-14T10:30:56.870464Z",
          "shell.execute_reply.started": "2024-06-14T10:30:07.067478Z",
          "shell.execute_reply": "2024-06-14T10:30:56.869621Z"
        },
        "trusted": true,
        "id": "ujyQ7HekLnsG"
      },
      "execution_count": null,
      "outputs": []
    },
    {
      "cell_type": "code",
      "source": [
        "# prompt: attach drive\n",
        "\n",
        "from google.colab import drive\n",
        "drive.mount('/content/drive')\n"
      ],
      "metadata": {
        "execution": {
          "iopub.status.busy": "2024-06-14T10:16:28.246297Z",
          "iopub.execute_input": "2024-06-14T10:16:28.24725Z",
          "iopub.status.idle": "2024-06-14T10:16:28.290923Z",
          "shell.execute_reply.started": "2024-06-14T10:16:28.247213Z",
          "shell.execute_reply": "2024-06-14T10:16:28.289697Z"
        },
        "trusted": true,
        "id": "qM0BW0i8LnsH"
      },
      "execution_count": null,
      "outputs": []
    },
    {
      "cell_type": "code",
      "source": [
        "prompt = template.format(\n",
        "    instruction=\"i need help cancelling a purchase. Please provide detailed steps on how to proceed.\",\n",
        "    response=\"\",\n",
        ")\n",
        "\n",
        "print(gemma.generate(prompt, max_length=256))\n"
      ],
      "metadata": {
        "execution": {
          "iopub.status.busy": "2024-06-14T10:05:16.514977Z",
          "iopub.execute_input": "2024-06-14T10:05:16.515393Z",
          "iopub.status.idle": "2024-06-14T10:05:18.287148Z",
          "shell.execute_reply.started": "2024-06-14T10:05:16.51536Z",
          "shell.execute_reply": "2024-06-14T10:05:18.286087Z"
        },
        "trusted": true,
        "id": "cOSAkJ5ULnsH"
      },
      "execution_count": null,
      "outputs": []
    },
    {
      "cell_type": "code",
      "source": [],
      "metadata": {
        "id": "LypgBMfdLnsH"
      },
      "execution_count": null,
      "outputs": []
    }
  ]
}