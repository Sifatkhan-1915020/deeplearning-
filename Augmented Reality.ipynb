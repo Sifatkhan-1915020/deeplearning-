{
  "metadata": {
    "kernelspec": {
      "language": "python",
      "display_name": "Python 3",
      "name": "python3"
    },
    "language_info": {
      "name": "python",
      "version": "3.10.12",
      "mimetype": "text/x-python",
      "codemirror_mode": {
        "name": "ipython",
        "version": 3
      },
      "pygments_lexer": "ipython3",
      "nbconvert_exporter": "python",
      "file_extension": ".py"
    },
    "kaggle": {
      "accelerator": "gpu",
      "dataSources": [
        {
          "sourceId": 66155,
          "databundleVersionId": 7304743,
          "sourceType": "competition"
        },
        {
          "sourceId": 7169665,
          "sourceType": "datasetVersion",
          "datasetId": 4082628
        }
      ],
      "dockerImageVersionId": 30627,
      "isInternetEnabled": true,
      "language": "python",
      "sourceType": "notebook",
      "isGpuEnabled": true
    },
    "colab": {
      "name": "ar_real_object_detect_n_classify",
      "provenance": [],
      "include_colab_link": true
    }
  },
  "nbformat_minor": 0,
  "nbformat": 4,
  "cells": [
    {
      "cell_type": "markdown",
      "metadata": {
        "id": "view-in-github",
        "colab_type": "text"
      },
      "source": [
        "<a href=\"https://colab.research.google.com/github/Sifatkhan-1915020/deeplearning-/blob/main/Augmented%20Reality.ipynb\" target=\"_parent\"><img src=\"https://colab.research.google.com/assets/colab-badge.svg\" alt=\"Open In Colab\"/></a>"
      ]
    },
    {
      "source": [
        "\n",
        "# IMPORTANT: RUN THIS CELL IN ORDER TO IMPORT YOUR KAGGLE DATA SOURCES\n",
        "# TO THE CORRECT LOCATION (/kaggle/input) IN YOUR NOTEBOOK,\n",
        "# THEN FEEL FREE TO DELETE THIS CELL.\n",
        "# NOTE: THIS NOTEBOOK ENVIRONMENT DIFFERS FROM KAGGLE'S PYTHON\n",
        "# ENVIRONMENT SO THERE MAY BE MISSING LIBRARIES USED BY YOUR\n",
        "# NOTEBOOK.\n",
        "\n",
        "import os\n",
        "import sys\n",
        "from tempfile import NamedTemporaryFile\n",
        "from urllib.request import urlopen\n",
        "from urllib.parse import unquote, urlparse\n",
        "from urllib.error import HTTPError\n",
        "from zipfile import ZipFile\n",
        "import tarfile\n",
        "import shutil\n",
        "\n",
        "CHUNK_SIZE = 40960\n",
        "DATA_SOURCE_MAPPING = '112-1-ntut-ee-ai-hw3:https%3A%2F%2Fstorage.googleapis.com%2Fkaggle-competitions-data%2Fkaggle-v2%2F66155%2F7304743%2Fbundle%2Farchive.zip%3FX-Goog-Algorithm%3DGOOG4-RSA-SHA256%26X-Goog-Credential%3Dgcp-kaggle-com%2540kaggle-161607.iam.gserviceaccount.com%252F20241012%252Fauto%252Fstorage%252Fgoog4_request%26X-Goog-Date%3D20241012T152009Z%26X-Goog-Expires%3D259200%26X-Goog-SignedHeaders%3Dhost%26X-Goog-Signature%3D9856822204b292e8fde67eed99333c28c36946b2dcc7273056e5750dd9a8458fbcbdf719f86871ee9e182f2973d4597b79c447a4045201373160e065df7eb4f539a010141d563fe5daa6605a1f37e7eeebcdf3f01cdc3be3ed1add84ba0f80face80ea2c78911da760eef20cf8bf59819b921df05ff0f8d34592d48f7f823b5c74d6866d96351f9ff4b812d0dab2e4b3da3cc1825b02bc7b1f4e4cd39728a6c2fd597da849d7eb3732934786a624a23cf8d2f2506d2f9bf021f22874c6018b539957eb72764fcf3960608f9b161d43e0e96b9881cf32b0b9ba4164fd6a08e46cb113154efe43df5bbd80001121a1e25b17a89b4bfe9f5d67349fe68f42b1c469,ar-traffic-objects:https%3A%2F%2Fstorage.googleapis.com%2Fkaggle-data-sets%2F4082628%2F7169665%2Fbundle%2Farchive.zip%3FX-Goog-Algorithm%3DGOOG4-RSA-SHA256%26X-Goog-Credential%3Dgcp-kaggle-com%2540kaggle-161607.iam.gserviceaccount.com%252F20241012%252Fauto%252Fstorage%252Fgoog4_request%26X-Goog-Date%3D20241012T152009Z%26X-Goog-Expires%3D259200%26X-Goog-SignedHeaders%3Dhost%26X-Goog-Signature%3D48eff9abf9caf54f5d0d13e20be760c589cdc9381d4de1adebb9c1a448eb67e919ac3e24557d4289a8cb365b63219b2a6ce4e0b7c97f1c844ec737fc6eec3b408551a4be596c3391d1262ead98febf2652b938882144a75d36286d5005b6ff8439e9e156583e0567e2a59ca4b7fc18c16d3f2a00dcbcce2e1eaef3f89684a03120dfe92724c5d83dec4e3762e6ed1ed0c8f2357eefb62432e0a26febdfbd4ce6fc51f8453b3a1701401ca52c99f6ee114713d569ee40926af1d410efa0a51b6ae16416d4b06dec7d26a64cf005482a7ff3e1a4a6ed137aa724441457679bfa24303e620d722644fc0e485cdae7d2759427dd2f8dd0d3b9e0fd190626550dad37'\n",
        "\n",
        "KAGGLE_INPUT_PATH='/kaggle/input'\n",
        "KAGGLE_WORKING_PATH='/kaggle/working'\n",
        "KAGGLE_SYMLINK='kaggle'\n",
        "\n",
        "!umount /kaggle/input/ 2> /dev/null\n",
        "shutil.rmtree('/kaggle/input', ignore_errors=True)\n",
        "os.makedirs(KAGGLE_INPUT_PATH, 0o777, exist_ok=True)\n",
        "os.makedirs(KAGGLE_WORKING_PATH, 0o777, exist_ok=True)\n",
        "\n",
        "try:\n",
        "  os.symlink(KAGGLE_INPUT_PATH, os.path.join(\"..\", 'input'), target_is_directory=True)\n",
        "except FileExistsError:\n",
        "  pass\n",
        "try:\n",
        "  os.symlink(KAGGLE_WORKING_PATH, os.path.join(\"..\", 'working'), target_is_directory=True)\n",
        "except FileExistsError:\n",
        "  pass\n",
        "\n",
        "for data_source_mapping in DATA_SOURCE_MAPPING.split(','):\n",
        "    directory, download_url_encoded = data_source_mapping.split(':')\n",
        "    download_url = unquote(download_url_encoded)\n",
        "    filename = urlparse(download_url).path\n",
        "    destination_path = os.path.join(KAGGLE_INPUT_PATH, directory)\n",
        "    try:\n",
        "        with urlopen(download_url) as fileres, NamedTemporaryFile() as tfile:\n",
        "            total_length = fileres.headers['content-length']\n",
        "            print(f'Downloading {directory}, {total_length} bytes compressed')\n",
        "            dl = 0\n",
        "            data = fileres.read(CHUNK_SIZE)\n",
        "            while len(data) > 0:\n",
        "                dl += len(data)\n",
        "                tfile.write(data)\n",
        "                done = int(50 * dl / int(total_length))\n",
        "                sys.stdout.write(f\"\\r[{'=' * done}{' ' * (50-done)}] {dl} bytes downloaded\")\n",
        "                sys.stdout.flush()\n",
        "                data = fileres.read(CHUNK_SIZE)\n",
        "            if filename.endswith('.zip'):\n",
        "              with ZipFile(tfile) as zfile:\n",
        "                zfile.extractall(destination_path)\n",
        "            else:\n",
        "              with tarfile.open(tfile.name) as tarfile:\n",
        "                tarfile.extractall(destination_path)\n",
        "            print(f'\\nDownloaded and uncompressed: {directory}')\n",
        "    except HTTPError as e:\n",
        "        print(f'Failed to load (likely expired) {download_url} to path {destination_path}')\n",
        "        continue\n",
        "    except OSError as e:\n",
        "        print(f'Failed to load {download_url} to path {destination_path}')\n",
        "        continue\n",
        "\n",
        "print('Data source import complete.')\n"
      ],
      "metadata": {
        "id": "wQIgmbylUNhL"
      },
      "cell_type": "code",
      "outputs": [],
      "execution_count": null
    },
    {
      "cell_type": "code",
      "source": [
        "import numpy as np # linear algebra\n",
        "import pandas as pd # data processing, CSV file I/O (e.g. pd.read_csv)\n",
        "import os\n",
        "from IPython.display import Image"
      ],
      "metadata": {
        "_uuid": "8f2839f25d086af736a60e9eeb907d3b93b6e0e5",
        "_cell_guid": "b1076dfc-b9ad-4769-8c92-a6c4dae69d19",
        "execution": {
          "iopub.status.busy": "2023-12-17T02:55:33.04404Z",
          "iopub.execute_input": "2023-12-17T02:55:33.044285Z",
          "iopub.status.idle": "2023-12-17T02:55:33.397753Z",
          "shell.execute_reply.started": "2023-12-17T02:55:33.044262Z",
          "shell.execute_reply": "2023-12-17T02:55:33.396776Z"
        },
        "trusted": true,
        "id": "VN9qbJn6UNhN"
      },
      "execution_count": null,
      "outputs": []
    },
    {
      "cell_type": "markdown",
      "source": [
        "## Add and show the AR Traffic Objects dataset"
      ],
      "metadata": {
        "id": "-ZAmTYwQUNhN"
      }
    },
    {
      "cell_type": "code",
      "source": [
        "# The AR images are under \"ar-traffic-objects/train/ar/\"\" folder.\n",
        "# We use real data only for validation and testing\n",
        "DATA_ROOT = '/kaggle/input/ar-traffic-objects'\n",
        "for dirname, _, filenames in os.walk('/kaggle/input'):\n",
        "    print(dirname)"
      ],
      "metadata": {
        "execution": {
          "iopub.status.busy": "2023-12-17T02:55:33.399493Z",
          "iopub.execute_input": "2023-12-17T02:55:33.400267Z",
          "iopub.status.idle": "2023-12-17T02:55:49.416644Z",
          "shell.execute_reply.started": "2023-12-17T02:55:33.400232Z",
          "shell.execute_reply": "2023-12-17T02:55:49.415675Z"
        },
        "trusted": true,
        "id": "ciU_VydzUNhO"
      },
      "execution_count": null,
      "outputs": []
    },
    {
      "cell_type": "markdown",
      "source": [
        "## Install YOLOv5 and its requirements"
      ],
      "metadata": {
        "id": "269jHajJUNhO"
      }
    },
    {
      "cell_type": "code",
      "source": [
        "!git clone https://github.com/ultralytics/yolov5  # clone\n",
        "%cd yolov5\n",
        "!pip install -r requirements.txt  # install"
      ],
      "metadata": {
        "execution": {
          "iopub.status.busy": "2023-12-17T02:55:49.417855Z",
          "iopub.execute_input": "2023-12-17T02:55:49.418149Z",
          "iopub.status.idle": "2023-12-17T02:56:06.188705Z",
          "shell.execute_reply.started": "2023-12-17T02:55:49.418124Z",
          "shell.execute_reply": "2023-12-17T02:56:06.1874Z"
        },
        "trusted": true,
        "id": "ne0LEEJOUNhO"
      },
      "execution_count": null,
      "outputs": []
    },
    {
      "cell_type": "markdown",
      "source": [
        "## Create training YAML file using Jupyter %%writefile magic"
      ],
      "metadata": {
        "id": "GQ9iRkROUNhO"
      }
    },
    {
      "cell_type": "code",
      "source": [
        "%%writefile ar_traffic_objs.yaml\n",
        "\n",
        "#Train/val/test sets as 1) dir: path/to/imgs, 2) file: path/to/imgs.txt, or 3) list: [path/to/imgs1, path/to/imgs2, ..]\n",
        "path: /kaggle/input/ar-traffic-objects\n",
        "train: train_all_files.txt  # train images (relative to 'path')\n",
        "val: valid_real_files.txt # images/val  # val images (relative to 'path')\n",
        "test: test_real_files.txt # test images (optional)\n",
        "\n",
        "# Classes\n",
        "nc: 6  # number of classes\n",
        "names: ['cone','delineator','jersey barrier','curve mirror','transformer box','fence',]  # class names"
      ],
      "metadata": {
        "execution": {
          "iopub.status.busy": "2023-12-17T02:56:06.191925Z",
          "iopub.execute_input": "2023-12-17T02:56:06.19231Z",
          "iopub.status.idle": "2023-12-17T02:56:06.199958Z",
          "shell.execute_reply.started": "2023-12-17T02:56:06.192273Z",
          "shell.execute_reply": "2023-12-17T02:56:06.198986Z"
        },
        "trusted": true,
        "id": "45I6--VUUNhO"
      },
      "execution_count": null,
      "outputs": []
    },
    {
      "cell_type": "markdown",
      "source": [
        "## Start training with 1 line of code"
      ],
      "metadata": {
        "id": "-_eMzMpaUNhP"
      }
    },
    {
      "cell_type": "code",
      "source": [
        "# We use the option --exist-ok to save train results to the same folder 'runs/train/exp/',\n",
        "# You can remove it if you want to keep every training results, but make sure detect.py can get your best model\n",
        "\n",
        "!python train.py --img 640 --batch 32 --epochs 3 --data ar_traffic_objs.yaml --weights yolov5n.pt --exist-ok"
      ],
      "metadata": {
        "execution": {
          "iopub.status.busy": "2023-12-17T02:56:06.201333Z",
          "iopub.execute_input": "2023-12-17T02:56:06.202055Z",
          "iopub.status.idle": "2023-12-17T03:13:47.193663Z",
          "shell.execute_reply.started": "2023-12-17T02:56:06.202021Z",
          "shell.execute_reply": "2023-12-17T03:13:47.19262Z"
        },
        "trusted": true,
        "id": "_ojCqmZ4UNhP"
      },
      "execution_count": null,
      "outputs": []
    },
    {
      "cell_type": "code",
      "source": [
        "Image(\"./runs/train/exp/results.png\")"
      ],
      "metadata": {
        "execution": {
          "iopub.status.busy": "2023-12-17T03:13:47.195211Z",
          "iopub.execute_input": "2023-12-17T03:13:47.195568Z",
          "iopub.status.idle": "2023-12-17T03:13:47.224337Z",
          "shell.execute_reply.started": "2023-12-17T03:13:47.195523Z",
          "shell.execute_reply": "2023-12-17T03:13:47.223506Z"
        },
        "trusted": true,
        "id": "2eEZcAoYUNhP"
      },
      "execution_count": null,
      "outputs": []
    },
    {
      "cell_type": "markdown",
      "source": [
        "## Run the best model on validation set"
      ],
      "metadata": {
        "id": "wbYgGbH0UNhP"
      }
    },
    {
      "cell_type": "code",
      "source": [
        "# If you have test labels, you can also evalute the test set by using: --task test\n",
        "!python val.py --data ar_traffic_objs.yaml --weights runs/train/exp/weights/best.pt --save-txt --task val &> val_results.txt"
      ],
      "metadata": {
        "execution": {
          "iopub.status.busy": "2023-12-17T03:13:47.225731Z",
          "iopub.execute_input": "2023-12-17T03:13:47.22609Z",
          "iopub.status.idle": "2023-12-17T03:14:25.014805Z",
          "shell.execute_reply.started": "2023-12-17T03:13:47.226065Z",
          "shell.execute_reply": "2023-12-17T03:14:25.013269Z"
        },
        "trusted": true,
        "id": "bqRRxuW2UNhP"
      },
      "execution_count": null,
      "outputs": []
    },
    {
      "cell_type": "code",
      "source": [
        "!cat val_results.txt"
      ],
      "metadata": {
        "execution": {
          "iopub.status.busy": "2023-12-17T03:14:25.016322Z",
          "iopub.execute_input": "2023-12-17T03:14:25.016656Z",
          "iopub.status.idle": "2023-12-17T03:14:25.979976Z",
          "shell.execute_reply.started": "2023-12-17T03:14:25.016628Z",
          "shell.execute_reply": "2023-12-17T03:14:25.978936Z"
        },
        "trusted": true,
        "id": "Ffs9-GMvUNhP"
      },
      "execution_count": null,
      "outputs": []
    },
    {
      "cell_type": "code",
      "source": [
        "Image(\"./runs/val/exp/PR_curve.png\")"
      ],
      "metadata": {
        "execution": {
          "iopub.status.busy": "2023-12-17T03:14:25.981306Z",
          "iopub.execute_input": "2023-12-17T03:14:25.981608Z",
          "iopub.status.idle": "2023-12-17T03:14:25.994923Z",
          "shell.execute_reply.started": "2023-12-17T03:14:25.981569Z",
          "shell.execute_reply": "2023-12-17T03:14:25.994074Z"
        },
        "trusted": true,
        "id": "I5f8wp_oUNhP"
      },
      "execution_count": null,
      "outputs": []
    },
    {
      "cell_type": "code",
      "source": [
        "Image(\"./runs/val/exp/confusion_matrix.png\")"
      ],
      "metadata": {
        "execution": {
          "iopub.status.busy": "2023-12-17T03:14:25.998643Z",
          "iopub.execute_input": "2023-12-17T03:14:25.998983Z",
          "iopub.status.idle": "2023-12-17T03:14:26.008487Z",
          "shell.execute_reply.started": "2023-12-17T03:14:25.998958Z",
          "shell.execute_reply": "2023-12-17T03:14:26.007616Z"
        },
        "trusted": true,
        "id": "dsy7_a6oUNhQ"
      },
      "execution_count": null,
      "outputs": []
    },
    {
      "cell_type": "markdown",
      "source": [
        "## Detect objects on test set"
      ],
      "metadata": {
        "id": "WRnUfA8kUNhQ"
      }
    },
    {
      "cell_type": "code",
      "source": [
        "!python detect.py --source /kaggle/input/ar-traffic-objects/test/real/images --weights runs/train/exp/weights/best.pt --save-txt --save-conf --exist-ok"
      ],
      "metadata": {
        "execution": {
          "iopub.status.busy": "2023-12-17T03:14:26.009907Z",
          "iopub.execute_input": "2023-12-17T03:14:26.010174Z",
          "iopub.status.idle": "2023-12-17T03:15:13.640395Z",
          "shell.execute_reply.started": "2023-12-17T03:14:26.010151Z",
          "shell.execute_reply": "2023-12-17T03:15:13.639282Z"
        },
        "trusted": true,
        "id": "GKFPc_T6UNhQ"
      },
      "execution_count": null,
      "outputs": []
    },
    {
      "cell_type": "code",
      "source": [
        "Image('/kaggle/working/yolov5/runs/detect/exp/00000280.jpg')"
      ],
      "metadata": {
        "execution": {
          "iopub.status.busy": "2023-12-17T03:57:56.796375Z",
          "iopub.execute_input": "2023-12-17T03:57:56.796826Z",
          "iopub.status.idle": "2023-12-17T03:57:56.833006Z",
          "shell.execute_reply.started": "2023-12-17T03:57:56.796793Z",
          "shell.execute_reply": "2023-12-17T03:57:56.83185Z"
        },
        "trusted": true,
        "id": "RPtjdAVqUNhQ"
      },
      "execution_count": null,
      "outputs": []
    },
    {
      "cell_type": "markdown",
      "source": [
        "## Create download link of detection results"
      ],
      "metadata": {
        "id": "ivSWJlQRUNhQ"
      }
    },
    {
      "cell_type": "code",
      "source": [
        "!zip -r /kaggle/working/yolo_test_output.zip ./runs/detect/exp/ &> /dev/null"
      ],
      "metadata": {
        "execution": {
          "iopub.status.busy": "2023-12-17T03:15:13.641751Z",
          "iopub.execute_input": "2023-12-17T03:15:13.642056Z",
          "iopub.status.idle": "2023-12-17T03:15:19.003271Z",
          "shell.execute_reply.started": "2023-12-17T03:15:13.64203Z",
          "shell.execute_reply": "2023-12-17T03:15:19.002105Z"
        },
        "trusted": true,
        "id": "KCzqQEshUNhQ"
      },
      "execution_count": null,
      "outputs": []
    },
    {
      "cell_type": "code",
      "source": [
        "# !Note: Create FileLink only works under /kaggle/working\n",
        "%cd /kaggle/working"
      ],
      "metadata": {
        "execution": {
          "iopub.status.busy": "2023-12-17T03:15:19.004838Z",
          "iopub.execute_input": "2023-12-17T03:15:19.005181Z",
          "iopub.status.idle": "2023-12-17T03:15:19.011757Z",
          "shell.execute_reply.started": "2023-12-17T03:15:19.005153Z",
          "shell.execute_reply": "2023-12-17T03:15:19.01084Z"
        },
        "trusted": true,
        "id": "uhl3Xj4UUNhQ"
      },
      "execution_count": null,
      "outputs": []
    },
    {
      "cell_type": "code",
      "source": [
        "from IPython.display import FileLink\n",
        "FileLink(r'yolo_test_output.zip')"
      ],
      "metadata": {
        "execution": {
          "iopub.status.busy": "2023-12-17T03:15:19.013019Z",
          "iopub.execute_input": "2023-12-17T03:15:19.013394Z",
          "iopub.status.idle": "2023-12-17T03:15:19.029259Z",
          "shell.execute_reply.started": "2023-12-17T03:15:19.01337Z",
          "shell.execute_reply": "2023-12-17T03:15:19.028471Z"
        },
        "trusted": true,
        "id": "cXLBur4BUNhQ"
      },
      "execution_count": null,
      "outputs": []
    },
    {
      "cell_type": "markdown",
      "source": [
        "## Save predicted classes for each object using bounding-box only ground truth"
      ],
      "metadata": {
        "id": "Aexdv0auUNhQ"
      }
    },
    {
      "cell_type": "code",
      "source": [
        "def xywhn2xyxy(x, w=640, h=640, padw=0, padh=0):\n",
        "    # Convert nx4 boxes from [x, y, w, h] normalized to [x1, y1, x2, y2] where xy1=top-left, xy2=bottom-right\n",
        "    y = np.copy(x)\n",
        "    y[..., 0] = w * (x[..., 0] - x[..., 2] / 2) + padw  # top left x\n",
        "    y[..., 1] = h * (x[..., 1] - x[..., 3] / 2) + padh  # top left y\n",
        "    y[..., 2] = w * (x[..., 0] + x[..., 2] / 2) + padw  # bottom right x\n",
        "    y[..., 3] = h * (x[..., 1] + x[..., 3] / 2) + padh  # bottom right y\n",
        "    return y"
      ],
      "metadata": {
        "execution": {
          "iopub.status.busy": "2023-12-17T03:15:19.03049Z",
          "iopub.execute_input": "2023-12-17T03:15:19.030839Z",
          "iopub.status.idle": "2023-12-17T03:15:19.040443Z",
          "shell.execute_reply.started": "2023-12-17T03:15:19.030808Z",
          "shell.execute_reply": "2023-12-17T03:15:19.03967Z"
        },
        "trusted": true,
        "id": "n_CNqXynUNhQ"
      },
      "execution_count": null,
      "outputs": []
    },
    {
      "cell_type": "code",
      "source": [
        "# YOLO v5 util function\n",
        "\n",
        "def bbox_ioa(box1, box2, eps=1e-7):\n",
        "    \"\"\" Returns the intersection over box2 area given box1, box2. Boxes are x1y1x2y2\n",
        "    box1:       np.array of shape(4)\n",
        "    box2:       np.array of shape(nx4)\n",
        "    returns:    np.array of shape(n)\n",
        "    \"\"\"\n",
        "\n",
        "    # Get the coordinates of bounding boxes\n",
        "    b1_x1, b1_y1, b1_x2, b1_y2 = box1\n",
        "    b2_x1, b2_y1, b2_x2, b2_y2 = box2.T\n",
        "\n",
        "    # Intersection area\n",
        "    inter_area = (np.minimum(b1_x2, b2_x2) - np.maximum(b1_x1, b2_x1)).clip(0) * \\\n",
        "                 (np.minimum(b1_y2, b2_y2) - np.maximum(b1_y1, b2_y1)).clip(0)\n",
        "\n",
        "    # box2 area\n",
        "    box2_area = (b2_x2 - b2_x1) * (b2_y2 - b2_y1) + eps\n",
        "\n",
        "    # Intersection over box2 area\n",
        "    return inter_area / box2_area"
      ],
      "metadata": {
        "execution": {
          "iopub.status.busy": "2023-12-17T03:15:19.041357Z",
          "iopub.execute_input": "2023-12-17T03:15:19.041626Z",
          "iopub.status.idle": "2023-12-17T03:15:19.052323Z",
          "shell.execute_reply.started": "2023-12-17T03:15:19.041595Z",
          "shell.execute_reply": "2023-12-17T03:15:19.051377Z"
        },
        "trusted": true,
        "id": "K6tfiD2sUNhQ"
      },
      "execution_count": null,
      "outputs": []
    },
    {
      "cell_type": "code",
      "source": [
        "def read_yolo_labels(filename):\n",
        "    detections = []\n",
        "    if os.path.exists(filename):\n",
        "        with open(filename, 'r') as fp:\n",
        "            lines = fp.readlines();\n",
        "            for line in lines:\n",
        "                detect = line.strip().split(' ')\n",
        "                detections.append(detect)\n",
        "    else:\n",
        "        print(\"Warning! {} not exist! Return empty detection numpy array.\".format(filename))\n",
        "\n",
        "    return np.array(detections).astype(np.float32)"
      ],
      "metadata": {
        "execution": {
          "iopub.status.busy": "2023-12-17T03:15:19.053451Z",
          "iopub.execute_input": "2023-12-17T03:15:19.05378Z",
          "iopub.status.idle": "2023-12-17T03:15:19.062912Z",
          "shell.execute_reply.started": "2023-12-17T03:15:19.05375Z",
          "shell.execute_reply": "2023-12-17T03:15:19.062104Z"
        },
        "trusted": true,
        "id": "BLLalwEGUNhR"
      },
      "execution_count": null,
      "outputs": []
    },
    {
      "cell_type": "code",
      "source": [
        "# Create Object Classification result csv file for Kaggle\n",
        "# Missing detection files usually means no detection found in the target.\n",
        "#\n",
        "GT_DIR = '/kaggle/input/112-1-ntut-ee-ai-hw3/bbox_labels'\n",
        "DETECT_DIR = '/kaggle/working/yolov5/runs/detect/exp/labels'\n",
        "\n",
        "IM_WIDTH = 640; IM_HEIGHT = 640;\n",
        "NC=6  # Number of classes\n",
        "CONF=0.2; IOU_THRES=0.45 # Please don't modify the threshold\n",
        "\n",
        "out_fp = open('ar_tf_obj_kaggle_pred.csv', 'w')\n",
        "out_fp.write(\"Id,Class\\n\");\n",
        "\n",
        "obj_id = 0\n",
        "for item in sorted(os.listdir(GT_DIR)):\n",
        "    gt_file = os.path.join(GT_DIR, item).replace('\\\\','/') # Force to use Linux-style path\n",
        "    if os.path.isfile(gt_file):\n",
        "        pred_classes = []\n",
        "        box_labels = read_yolo_labels(gt_file)  # labels (Array[M, 5]): [class, x1, y1, x2, y2]\n",
        "        if len(box_labels) == 0:\n",
        "            print('Warning: Empty ground truth label file!')\n",
        "            continue\n",
        "\n",
        "        # Read detections (Array[N, 6]): [class, x1, y1, x2, y2, conf]\n",
        "        detect_file = os.path.join(DETECT_DIR, item).replace('\\\\','/') # Force to use Linux-style path\n",
        "        detections = read_yolo_labels(detect_file)\n",
        "        # Convert YOLO bbox format into\n",
        "        # upper-left (x1,y1) and lower-right point (x2,y2) format\n",
        "        if len(detections) == 0:\n",
        "            m0 = [] # No predictions for all ground truth objecs. Classify all as background FN\n",
        "        else:\n",
        "            detections = detections[detections[:, 5] > CONF]\n",
        "            detection_classes = detections[:, 0]\n",
        "            iou_list = []\n",
        "            for label in box_labels:\n",
        "                box_xyxy = xywhn2xyxy(label, IM_WIDTH, IM_HEIGHT)\n",
        "                detect_xyxy = xywhn2xyxy(detections[:,1:5], IM_WIDTH, IM_HEIGHT)\n",
        "                iou_list.append(bbox_ioa(box_xyxy, detect_xyxy)) # return Array[1, N]\n",
        "            iou = np.array(iou_list) # return IoU score Array[M, N]\n",
        "            x = np.where(iou > IOU_THRES) # Np where return (index_array1[], index_array2, ..., iou_scores]\n",
        "\n",
        "            if x[0].shape[0]:\n",
        "                matches = np.concatenate((np.stack(x, 1), iou[x[0], x[1]][:, None]), 1)\n",
        "                if x[0].shape[0] > 1:\n",
        "                    matches = matches[matches[:, 2].argsort()[::-1]]\n",
        "                    matches = matches[np.unique(matches[:, 1], return_index=True)[1]] # Remove same detection boxes\n",
        "                    matches = matches[matches[:, 2].argsort()[::-1]]\n",
        "                    matches = matches[np.unique(matches[:, 0], return_index=True)[1]] # Remove same label boxes\n",
        "            else:\n",
        "                matches = np.zeros((0, 3))\n",
        "\n",
        "            m0, m1, _ = matches.transpose().astype(int)\n",
        "\n",
        "        # Write predicted classes to the file\n",
        "        for id, label in enumerate(box_labels):\n",
        "            id_list = np.where(m0 == id)[0]\n",
        "            if len(id_list) == 0:\n",
        "                # out_fp.write(\"{:d},{:d},{}\\n\".format(obj_id, NC,item)) # Print filename for debug\n",
        "                out_fp.write(\"{:d},{:d}\\n\".format(obj_id, NC)) # No detection. Classify as background\n",
        "            else:\n",
        "                out_fp.write(\"{:d},{:d}\\n\".format(obj_id, int(detections[m1[id_list[0]]][0]))) # Print the class of detection\n",
        "            obj_id = obj_id + 1\n",
        "\n",
        "out_fp.close()"
      ],
      "metadata": {
        "execution": {
          "iopub.status.busy": "2023-12-17T03:15:19.064161Z",
          "iopub.execute_input": "2023-12-17T03:15:19.064476Z",
          "iopub.status.idle": "2023-12-17T03:15:21.087113Z",
          "shell.execute_reply.started": "2023-12-17T03:15:19.06445Z",
          "shell.execute_reply": "2023-12-17T03:15:21.086126Z"
        },
        "trusted": true,
        "id": "SefSpeF0UNhR"
      },
      "execution_count": null,
      "outputs": []
    },
    {
      "cell_type": "code",
      "source": [
        "# Predcited object classes for submission\n",
        "FileLink(r'ar_tf_obj_kaggle_pred.csv')"
      ],
      "metadata": {
        "execution": {
          "iopub.status.busy": "2023-12-17T03:15:21.088381Z",
          "iopub.execute_input": "2023-12-17T03:15:21.088696Z",
          "iopub.status.idle": "2023-12-17T03:15:21.094965Z",
          "shell.execute_reply.started": "2023-12-17T03:15:21.08867Z",
          "shell.execute_reply": "2023-12-17T03:15:21.093988Z"
        },
        "trusted": true,
        "id": "lPQ-CT5nUNhR"
      },
      "execution_count": null,
      "outputs": []
    }
  ]
}