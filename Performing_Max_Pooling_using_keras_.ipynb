{
  "nbformat": 4,
  "nbformat_minor": 0,
  "metadata": {
    "colab": {
      "provenance": [],
      "authorship_tag": "ABX9TyMLMzQyu8J40McmLQXbfPLs",
      "include_colab_link": true
    },
    "kernelspec": {
      "name": "python3",
      "display_name": "Python 3"
    },
    "language_info": {
      "name": "python"
    }
  },
  "cells": [
    {
      "cell_type": "markdown",
      "metadata": {
        "id": "view-in-github",
        "colab_type": "text"
      },
      "source": [
        "<a href=\"https://colab.research.google.com/github/Sifatkhan-1915020/deeplearning-/blob/main/Performing_Max_Pooling_using_keras_.ipynb\" target=\"_parent\"><img src=\"https://colab.research.google.com/assets/colab-badge.svg\" alt=\"Open In Colab\"/></a>"
      ]
    },
    {
      "cell_type": "code",
      "execution_count": 16,
      "metadata": {
        "id": "4sfUzJviDKFP"
      },
      "outputs": [],
      "source": [
        "import numpy as np\n",
        "from keras.models import Sequential\n",
        "from keras.layers import MaxPooling2D\n",
        "\n",
        "#image defination\n",
        "\n",
        "image = np.array([[2, 2, 7, 3],\n",
        "                  [9, 4, 6, 1],\n",
        "                  [8, 5, 2, 4],\n",
        "                  [3, 1, 2, 6]])"
      ]
    },
    {
      "cell_type": "code",
      "source": [
        "image = image.reshape(1,4,4,1)"
      ],
      "metadata": {
        "id": "DO3kzcUjESN-"
      },
      "execution_count": 20,
      "outputs": []
    },
    {
      "cell_type": "code",
      "source": [
        "model = Sequential([MaxPooling2D(pool_size=2,strides=2)])"
      ],
      "metadata": {
        "id": "n5YPvMVJEnvc"
      },
      "execution_count": 22,
      "outputs": []
    },
    {
      "cell_type": "code",
      "source": [
        "output = model.predict(image)"
      ],
      "metadata": {
        "colab": {
          "base_uri": "https://localhost:8080/"
        },
        "id": "X0IN7VfBExxr",
        "outputId": "d6df9b3d-503a-4a17-fd06-b4c43fbdd668"
      },
      "execution_count": 23,
      "outputs": [
        {
          "output_type": "stream",
          "name": "stdout",
          "text": [
            "1/1 [==============================] - 0s 41ms/step\n"
          ]
        }
      ]
    },
    {
      "cell_type": "code",
      "source": [
        "output = np.squeeze(output)"
      ],
      "metadata": {
        "id": "--p01OICE3fD"
      },
      "execution_count": 24,
      "outputs": []
    },
    {
      "cell_type": "code",
      "source": [
        "output"
      ],
      "metadata": {
        "colab": {
          "base_uri": "https://localhost:8080/"
        },
        "id": "p5c7K28OE9PL",
        "outputId": "1d33acf6-d8c2-42f5-f2d8-3f9f29b6cbce"
      },
      "execution_count": 25,
      "outputs": [
        {
          "output_type": "execute_result",
          "data": {
            "text/plain": [
              "array([[9, 7],\n",
              "       [8, 6]])"
            ]
          },
          "metadata": {},
          "execution_count": 25
        }
      ]
    }
  ]
}