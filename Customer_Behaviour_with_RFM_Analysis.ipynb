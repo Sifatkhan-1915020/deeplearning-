{
  "metadata": {
    "kernelspec": {
      "language": "python",
      "display_name": "Python 3",
      "name": "python3"
    },
    "language_info": {
      "name": "python",
      "version": "3.10.13",
      "mimetype": "text/x-python",
      "codemirror_mode": {
        "name": "ipython",
        "version": 3
      },
      "pygments_lexer": "ipython3",
      "nbconvert_exporter": "python",
      "file_extension": ".py"
    },
    "kaggle": {
      "accelerator": "none",
      "dataSources": [
        {
          "sourceId": 5596,
          "sourceType": "datasetVersion",
          "datasetId": 3466
        },
        {
          "sourceId": 764509,
          "sourceType": "datasetVersion",
          "datasetId": 397875
        },
        {
          "sourceId": 804181,
          "sourceType": "datasetVersion",
          "datasetId": 421200
        },
        {
          "sourceId": 821251,
          "sourceType": "datasetVersion",
          "datasetId": 430934
        },
        {
          "sourceId": 2113058,
          "sourceType": "datasetVersion",
          "datasetId": 1267762
        },
        {
          "sourceId": 2643768,
          "sourceType": "datasetVersion",
          "datasetId": 1607581
        },
        {
          "sourceId": 4877104,
          "sourceType": "datasetVersion",
          "datasetId": 2827948
        },
        {
          "sourceId": 5528041,
          "sourceType": "datasetVersion",
          "datasetId": 3187021
        },
        {
          "sourceId": 6311832,
          "sourceType": "datasetVersion",
          "datasetId": 3631532
        },
        {
          "sourceId": 7251364,
          "sourceType": "datasetVersion",
          "datasetId": 4201369
        }
      ],
      "dockerImageVersionId": 30698,
      "isInternetEnabled": true,
      "language": "python",
      "sourceType": "notebook",
      "isGpuEnabled": false
    },
    "colab": {
      "name": "Customer Behaviour: with RFM Analysis",
      "provenance": [],
      "include_colab_link": true
    }
  },
  "nbformat_minor": 0,
  "nbformat": 4,
  "cells": [
    {
      "cell_type": "markdown",
      "metadata": {
        "id": "view-in-github",
        "colab_type": "text"
      },
      "source": [
        "<a href=\"https://colab.research.google.com/github/Sifatkhan-1915020/deeplearning-/blob/main/Customer_Behaviour_with_RFM_Analysis.ipynb\" target=\"_parent\"><img src=\"https://colab.research.google.com/assets/colab-badge.svg\" alt=\"Open In Colab\"/></a>"
      ]
    },
    {
      "source": [
        "\n",
        "# IMPORTANT: RUN THIS CELL IN ORDER TO IMPORT YOUR KAGGLE DATA SOURCES\n",
        "# TO THE CORRECT LOCATION (/kaggle/input) IN YOUR NOTEBOOK,\n",
        "# THEN FEEL FREE TO DELETE THIS CELL.\n",
        "# NOTE: THIS NOTEBOOK ENVIRONMENT DIFFERS FROM KAGGLE'S PYTHON\n",
        "# ENVIRONMENT SO THERE MAY BE MISSING LIBRARIES USED BY YOUR\n",
        "# NOTEBOOK.\n",
        "\n",
        "import os\n",
        "import sys\n",
        "from tempfile import NamedTemporaryFile\n",
        "from urllib.request import urlopen\n",
        "from urllib.parse import unquote, urlparse\n",
        "from urllib.error import HTTPError\n",
        "from zipfile import ZipFile\n",
        "import tarfile\n",
        "import shutil\n",
        "\n",
        "CHUNK_SIZE = 40960\n",
        "DATA_SOURCE_MAPPING = 'onlineretail:https%3A%2F%2Fstorage.googleapis.com%2Fkaggle-data-sets%2F3466%2F5596%2Fbundle%2Farchive.zip%3FX-Goog-Algorithm%3DGOOG4-RSA-SHA256%26X-Goog-Credential%3Dgcp-kaggle-com%2540kaggle-161607.iam.gserviceaccount.com%252F20241012%252Fauto%252Fstorage%252Fgoog4_request%26X-Goog-Date%3D20241012T145850Z%26X-Goog-Expires%3D259200%26X-Goog-SignedHeaders%3Dhost%26X-Goog-Signature%3D8eaf6f90c20758cfbc75365d93e1d1a6fd93655f13e88c68cd6e844db6491c3e1f4a4b0065f6e1ef535f47a8afc8ac9995d0a4d5a85aa8aa9f40332731d530ab3eb0fa6cde402cee9fa8760034bebefccd943b436868f641e4bf61b89b40afb572396e1ebfc6886f77eafc405800e47ea184621d41dbfaccaa6143e94ba600b5c3939f21b5bc314c74a1a4e13f804ac4f3051a8024799212b7f5927648e25d53ad2e4eed520fe0345fa51bc4b2dee9b6c01f1e317e8687d244dd065cb341b725aff05a56b57346fe05c838e88064964edd816227c9dc80339b209f30307eec7f35660266db054b9cfd6404d5b72742e8267a2821b06f57ef6e39dfa172be2993,online-retail-customer-clustering:https%3A%2F%2Fstorage.googleapis.com%2Fkaggle-data-sets%2F397875%2F764509%2Fbundle%2Farchive.zip%3FX-Goog-Algorithm%3DGOOG4-RSA-SHA256%26X-Goog-Credential%3Dgcp-kaggle-com%2540kaggle-161607.iam.gserviceaccount.com%252F20241012%252Fauto%252Fstorage%252Fgoog4_request%26X-Goog-Date%3D20241012T145850Z%26X-Goog-Expires%3D259200%26X-Goog-SignedHeaders%3Dhost%26X-Goog-Signature%3D998e8239865c0db3468a92dc266dc05789d9368fdc93a204df4b3467f9f4ba516f8eeb081474a8cbdd880bd889c89f8f8a8eae273393b9144cdeb09c6bda497e41fc003a85fecb754029b6611133fc158452a2b49caf823d4a898768dee732aa9bf13e750dad7344fa9799ba574158559ba2eae38c3ea69b9b2faac25eb0886259cd295f73676ff42b44e0b2d76cde252f718dc0ee4c17a84083a34bca0fdda3025e3a6a698530530bf1b2837201ce4c7d83c2fa52ed02daa02efc7ad341805543def3e7bce4c312f65874b8fc808f33cbc3fd875eac53b22ebb97cdc1da8d7d6d41ac9681a69589b719c30d7204b1b2ceb16f948aa26c44b93ddf77f6caf632,d/lakshmi25npathi/online-retail-dataset:https%3A%2F%2Fstorage.googleapis.com%2Fkaggle-data-sets%2F421200%2F804181%2Fbundle%2Farchive.zip%3FX-Goog-Algorithm%3DGOOG4-RSA-SHA256%26X-Goog-Credential%3Dgcp-kaggle-com%2540kaggle-161607.iam.gserviceaccount.com%252F20241012%252Fauto%252Fstorage%252Fgoog4_request%26X-Goog-Date%3D20241012T145850Z%26X-Goog-Expires%3D259200%26X-Goog-SignedHeaders%3Dhost%26X-Goog-Signature%3D0ceabbe97e4bacefe640e9f4d43dfb6d3c588bc056479c538c8130e42a0ba032b9863b2294e588f958092759cb9ba3b1c239dd0c41d79c2fd89c0631ce84900d9fd4e1b846d13c6b538d568ed5f6c8c3fc58377bb932fe0f803469ba91653098365c827639dd2c8cf9d953065dfcfaab5181d273e67afbba438db30f997e14331422cdbb9c2f42be6043a049b5c1fde75aef6474388d14da20f0097c3983ab1ea7ce9dd5822d8e0da10371622ebff14acd0bc85afd3f40b63f80209d51d2152cc75c4640ba74b559c9a3ed670863fdb22af8dcfcf9d9b15a577b0ef04e76096743165aad1b41a64714467c63cdeef3bba4ea6c576aba72c677fef21cac07319c,online-retail-ii-uci:https%3A%2F%2Fstorage.googleapis.com%2Fkaggle-data-sets%2F430934%2F821251%2Fbundle%2Farchive.zip%3FX-Goog-Algorithm%3DGOOG4-RSA-SHA256%26X-Goog-Credential%3Dgcp-kaggle-com%2540kaggle-161607.iam.gserviceaccount.com%252F20241012%252Fauto%252Fstorage%252Fgoog4_request%26X-Goog-Date%3D20241012T145850Z%26X-Goog-Expires%3D259200%26X-Goog-SignedHeaders%3Dhost%26X-Goog-Signature%3D63b4337ac3fb46b4ee115013dd2b08840f7224e4e4a105da1f25661112ab2bf7b14f97d960649c4947f49e65d7029f44692496909962d7d75c67b696160b17ddd8c7d1e13701b7986648034da53821de25a5442b8364bafbe1080f0043634470a8b94268f79a2029b42d1aea4cb9c721227a0b0e4ddab4bd8bd673e072f25869e973b5807bcf0fc0705494bf88db90adeb7c31a48659ab349809ff2a54cc6a429710a574c85618330054708da5893acf2b78d38b03752a3d4358e3b7734c35ff2e2a4ebbf95ca5c7028534fc6c3e4b536103509cadb43f179093980d66a086d0b68b58b6f8846398824a8b2326471b35f7aa92ec7ccff7fca95893109d03927a,online-retail:https%3A%2F%2Fstorage.googleapis.com%2Fkaggle-data-sets%2F1267762%2F2113058%2Fbundle%2Farchive.zip%3FX-Goog-Algorithm%3DGOOG4-RSA-SHA256%26X-Goog-Credential%3Dgcp-kaggle-com%2540kaggle-161607.iam.gserviceaccount.com%252F20241012%252Fauto%252Fstorage%252Fgoog4_request%26X-Goog-Date%3D20241012T145850Z%26X-Goog-Expires%3D259200%26X-Goog-SignedHeaders%3Dhost%26X-Goog-Signature%3D430006501943a5f60bc4683db7ea74c40f9c6dd735acef8c0ef656e2a2ed94fd4b2c65b45b27be7c192544360b0412dab97df31f3da67319df52e4277b02a3a749a4832ecaa974078685df5441b50416eb8dc4e3f37aee32385c8ea4e6041d34950693aebf89bf162ff0711ee934a108aba15dd03539ea2abe412b8d43da6327943b262dbb9dbfe455257275f367183700978a838fae917a01b20f4309c610f776d94b6fcb5ab5704fc4139c9678d7502a5b28b91eef51c21b74e36d044a9ab93b9a2f6a687d2d7bf944e4beb216bbd66de4fcd39457cfd591ff2abeb024c8df377bcc6081a1ec17c3c6703847730ba011757bf6e22714d7c9584b42ed52b788,online-retail-listing:https%3A%2F%2Fstorage.googleapis.com%2Fkaggle-data-sets%2F1607581%2F2643768%2Fbundle%2Farchive.zip%3FX-Goog-Algorithm%3DGOOG4-RSA-SHA256%26X-Goog-Credential%3Dgcp-kaggle-com%2540kaggle-161607.iam.gserviceaccount.com%252F20241012%252Fauto%252Fstorage%252Fgoog4_request%26X-Goog-Date%3D20241012T145851Z%26X-Goog-Expires%3D259200%26X-Goog-SignedHeaders%3Dhost%26X-Goog-Signature%3D2a526f8086e559a5144133853a6e36b340e15d919054bb324401aaaa9753d79d970043f8aa45db1ca633f59d3f6efbd1d2be5ec94f1d1588e5f691f1308b6878eac3d5fffce976ae2fc8a5eaacc18f355e16a0ef5083b36b8d07576a77f18756af6430b3e899ae7eca4c982da9a699e0a2db5e73c79b4bab8930cce971d58c8e6b248e63635de0238f6a2b51a0654fc0f8dab82f5586603b0269544a89f5c572f444c2082a9ce53d821e386fa094878c1e97d5d33744460c15c7549b2b4680fbddce9c1fb4c19e6a2547487837418f1adbaf30c5ef9c1adfec41ae998cf17ad0a1c267cec718c6bc39a85d80bbc3a3181ae4fafc0b53b1d1af569f42ebf1c964,online-retail-dataset:https%3A%2F%2Fstorage.googleapis.com%2Fkaggle-data-sets%2F2827948%2F4877104%2Fbundle%2Farchive.zip%3FX-Goog-Algorithm%3DGOOG4-RSA-SHA256%26X-Goog-Credential%3Dgcp-kaggle-com%2540kaggle-161607.iam.gserviceaccount.com%252F20241012%252Fauto%252Fstorage%252Fgoog4_request%26X-Goog-Date%3D20241012T145851Z%26X-Goog-Expires%3D259200%26X-Goog-SignedHeaders%3Dhost%26X-Goog-Signature%3Da527deb4832100740b96aa3d3bf4eb7fa761fb7cacb01fc0746a210083c70518d22a36657e534efdda88d7dd9c129f6e0375aa064592130f788864bbb07c85346fc5df6bec5150ba241f518b6d2d1366f63ba2b77c292ef373711c3f943f044973bf795d29cd86fab1b3a40ab62b65404751912430ce6a15afa5269eb10cb1e97de2c56f2355726fb6e77885539b448a94c2902dc3831d080b34232666e705bdd3e2d5bcbac3dfa65d35d7d69f6dbb8a59c459621ae8b48421bf2302386a843a531fe89e3f7de01460ef554054be51dbc4e3b5afdbfe8dd314b6dccd2b5405e5f71d0e9e7c77d12558706c7e2fc79855a006a4550cf25222bd0762816dec1c7e,d/sanlian/online-retail-dataset:https%3A%2F%2Fstorage.googleapis.com%2Fkaggle-data-sets%2F3187021%2F5528041%2Fbundle%2Farchive.zip%3FX-Goog-Algorithm%3DGOOG4-RSA-SHA256%26X-Goog-Credential%3Dgcp-kaggle-com%2540kaggle-161607.iam.gserviceaccount.com%252F20241012%252Fauto%252Fstorage%252Fgoog4_request%26X-Goog-Date%3D20241012T145851Z%26X-Goog-Expires%3D259200%26X-Goog-SignedHeaders%3Dhost%26X-Goog-Signature%3D8194e29cf5edc7ac8e8c058f16806442ed465070781c92ea9b147d8936d06dd59424d12c6bea252475c2c2b8c9f16ddb0f7f2149a14056406d3e607e17337f3b06f302fe9bd570b84caede649fef92c4148aaf6651597c5fbfb823eb45fec994de5798ac5bffdd5cd5fea221fb1bb5758b71c47efc2786dfc17fbc032e83237e4e429bc624cbcdbe31a008da21ea092fcb9224bf756f38b0d81225efd60151184fab9799ffc3b6ec9d76db8cb0359f41f0af7c8c46e898a093d63510d18768e338dbdf8e6c801e255b2de8682695ce597cff0aabe2a7fa17f92d5ace132998335599fe9e77576be727f60574f0afe4e64020e513ba6b3e852d26b34c28f943a0,tata-online-retail-dataset:https%3A%2F%2Fstorage.googleapis.com%2Fkaggle-data-sets%2F3631532%2F6311832%2Fbundle%2Farchive.zip%3FX-Goog-Algorithm%3DGOOG4-RSA-SHA256%26X-Goog-Credential%3Dgcp-kaggle-com%2540kaggle-161607.iam.gserviceaccount.com%252F20241012%252Fauto%252Fstorage%252Fgoog4_request%26X-Goog-Date%3D20241012T145851Z%26X-Goog-Expires%3D259200%26X-Goog-SignedHeaders%3Dhost%26X-Goog-Signature%3D3416bc63ed78d99a8bf688d75be3d5428a1ab1b8d572bd4a3d3ce1bda5fc06a913614dc915cba145707b451ca07eb2a4e8f6a35921b0d8e1c7d2b784c9878d9ba8fe8644c5ee95b3a009ca775cb4edebc461132eaa1bade7d4b0a3c7a2a0294f8e946c2608b5550b1b8817e11a7fb7834b12f87654c804475c0bab408a1d6130b5f70cff5739402f3be8062d661f5548488117dab21788cfd347aabb3a204036d649c836eda7e854aad9dda9c8c07c774224a224b13f5a462f875fe543accc0dfedf7e498393e5dad355b06de021bd8b453afb4193fdaf6f6796bb0a78bd48cadfa5176d777e965bd3781de727a3a0d33ba908533866150fddfb08ec0ebd2498,online-retail-transaction-data:https%3A%2F%2Fstorage.googleapis.com%2Fkaggle-data-sets%2F4201369%2F7251364%2Fbundle%2Farchive.zip%3FX-Goog-Algorithm%3DGOOG4-RSA-SHA256%26X-Goog-Credential%3Dgcp-kaggle-com%2540kaggle-161607.iam.gserviceaccount.com%252F20241012%252Fauto%252Fstorage%252Fgoog4_request%26X-Goog-Date%3D20241012T145851Z%26X-Goog-Expires%3D259200%26X-Goog-SignedHeaders%3Dhost%26X-Goog-Signature%3D73b41ffc836adf69d0a5de7c9ca18377964ade7236dfc7a628996a29efb771b83bf34bb869a92399aeb85606a071c39b4d8f88649f1f5a3ceb4e50f690af392880038ed07e4a4386a1522ac510855dd2f65884743319950407ffa95511510afa031f4610700762dbf460754c43645999149c6d1845123d5a96a3f6a198879850c6b58f80183dbb848dc3f191253d80aaf4910cff53a9fe0349365b3d162497013c783a469ef7e7daa849f6050a1c2193e36bcff4a703cdb771e8682dd85b67ea774811e2da71ff8db59d88686f81d56312529ed26af06c2317c42370862834a64e46e352d40e26544b22b2a421eaeb7fc97c449b04a387ed08d0e01aa2246a4b'\n",
        "\n",
        "KAGGLE_INPUT_PATH='/kaggle/input'\n",
        "KAGGLE_WORKING_PATH='/kaggle/working'\n",
        "KAGGLE_SYMLINK='kaggle'\n",
        "\n",
        "!umount /kaggle/input/ 2> /dev/null\n",
        "shutil.rmtree('/kaggle/input', ignore_errors=True)\n",
        "os.makedirs(KAGGLE_INPUT_PATH, 0o777, exist_ok=True)\n",
        "os.makedirs(KAGGLE_WORKING_PATH, 0o777, exist_ok=True)\n",
        "\n",
        "try:\n",
        "  os.symlink(KAGGLE_INPUT_PATH, os.path.join(\"..\", 'input'), target_is_directory=True)\n",
        "except FileExistsError:\n",
        "  pass\n",
        "try:\n",
        "  os.symlink(KAGGLE_WORKING_PATH, os.path.join(\"..\", 'working'), target_is_directory=True)\n",
        "except FileExistsError:\n",
        "  pass\n",
        "\n",
        "for data_source_mapping in DATA_SOURCE_MAPPING.split(','):\n",
        "    directory, download_url_encoded = data_source_mapping.split(':')\n",
        "    download_url = unquote(download_url_encoded)\n",
        "    filename = urlparse(download_url).path\n",
        "    destination_path = os.path.join(KAGGLE_INPUT_PATH, directory)\n",
        "    try:\n",
        "        with urlopen(download_url) as fileres, NamedTemporaryFile() as tfile:\n",
        "            total_length = fileres.headers['content-length']\n",
        "            print(f'Downloading {directory}, {total_length} bytes compressed')\n",
        "            dl = 0\n",
        "            data = fileres.read(CHUNK_SIZE)\n",
        "            while len(data) > 0:\n",
        "                dl += len(data)\n",
        "                tfile.write(data)\n",
        "                done = int(50 * dl / int(total_length))\n",
        "                sys.stdout.write(f\"\\r[{'=' * done}{' ' * (50-done)}] {dl} bytes downloaded\")\n",
        "                sys.stdout.flush()\n",
        "                data = fileres.read(CHUNK_SIZE)\n",
        "            if filename.endswith('.zip'):\n",
        "              with ZipFile(tfile) as zfile:\n",
        "                zfile.extractall(destination_path)\n",
        "            else:\n",
        "              with tarfile.open(tfile.name) as tarfile:\n",
        "                tarfile.extractall(destination_path)\n",
        "            print(f'\\nDownloaded and uncompressed: {directory}')\n",
        "    except HTTPError as e:\n",
        "        print(f'Failed to load (likely expired) {download_url} to path {destination_path}')\n",
        "        continue\n",
        "    except OSError as e:\n",
        "        print(f'Failed to load {download_url} to path {destination_path}')\n",
        "        continue\n",
        "\n",
        "print('Data source import complete.')\n"
      ],
      "metadata": {
        "id": "cqjhO0WKPV8C"
      },
      "cell_type": "code",
      "outputs": [],
      "execution_count": null
    },
    {
      "cell_type": "markdown",
      "source": [
        "<h1 align = \"center\">Customer Behaviour: with RFM Analysis</h1>"
      ],
      "metadata": {
        "id": "HXjdKEGtPV8F"
      }
    },
    {
      "cell_type": "markdown",
      "source": [
        "## PROJECT CONTENT"
      ],
      "metadata": {
        "id": "eaOtCGrbPV8G"
      }
    },
    {
      "cell_type": "markdown",
      "source": [
        "1. [Introduction](#1)\n",
        "\n",
        "2. [Overview of RFM Analysis](#2)\n",
        "\n",
        "3. [Importance of RFM in Business Strategies](#3)\n",
        "\n",
        "4. [First Organization](#4)\n",
        "    * 4.1 [Loading our Dataset](#5)\n",
        "    * 4.2 [Initial Analysis on our Dataset](#6)\n",
        "        * 4.2.1 [Analysis Outputs (1)](#7)\n",
        "\n",
        "5. [Exploratory Data Analysis](#8)\n",
        "    * 5.1 [Dropping Duplicates](#9)\n",
        "    * 5.2 [Dropping Missing Values](#10)\n",
        "    * 5.3 [Creating \"Total\" Column](#11)\n",
        "    * 5.4 [Calculating RFM Metrics](#12)\n",
        "    \n",
        "6. [Data Visualization](#13)\n",
        "    * 6.1 [Recency Distribution](#14)\n",
        "    * 6.2 [Frequency Distribution](#15)\n",
        "    * 6.3 [Monetary Distribution](#16)\n",
        "    \n",
        "7. [Customer Segmentation](#17)\n",
        "    * 7.1 [Data Standardization](#18)\n",
        "    * 7.2 [KMeans Clustering](#19)\n",
        "    \n",
        "8. [Prediction](#20)\n",
        "    * 8.1 [Predicting Future Customer Spending](#21)\n",
        "    * 8.2 [Creating a Dummy Target Variable](#22)\n",
        "    * 8.3 [Splitting our Dataset](#23)\n",
        "    * 8.4 [Linear Regression Model](#24)\n",
        "        * 8.4.1 [Evaluating our Model](#25)\n",
        "    * 8.5 [Decision Tree Regressor](#26)\n",
        "        * 8.5.1 [Evaluating our Model](#27)\n",
        "    * 8.6 [Future Predictions](#28)\n",
        "    \n",
        "9. [Analysis Report](#29)\n",
        "    \n",
        "10. [Conclusion](#30)"
      ],
      "metadata": {
        "id": "UAvJAzpIPV8G"
      }
    },
    {
      "cell_type": "markdown",
      "source": [
        "## INTRODUCTION<a id=\"1\"></a>"
      ],
      "metadata": {
        "id": "rf3hA1uOPV8H"
      }
    },
    {
      "cell_type": "markdown",
      "source": [
        "![071123_blog_Mobile_open_graph_1200x675.png](attachment:d86119d0-006b-41e8-8b1d-3dc6fcf8c113.png)\n",
        "\n",
        "\n",
        "https://www.google.com/search?q=high+resolution+shopping+hd&udm=2&sa=X&ved=2ahUKEwjfnLTSo_6FAxVxZ0EAHTPrD6UQrNwCegUIgQEQAA&biw=1535&bih=778&dpr=1.25#vhid=DR4mvBD4k9WpjM&vssid=mosaic"
      ],
      "metadata": {
        "id": "5VjnPym_PV8H"
      }
    },
    {
      "cell_type": "markdown",
      "source": [
        "In today's competitive business, it is vital to understand the long-term value of a customer.\n",
        "Customer Lifetime Value (CLTV) is a metric that represents the total amount of money a customer is expected to spend in your business or your products during their lifetime.\n",
        "It's a crucial measure that helps businesses in strategizing their marketing efforts, resource allocation and product development.\n",
        "\n",
        "\n",
        "**IMPORTANCE OF CLTV:**\n",
        "* **Resource Allocation:** It helps in allocatingresources more efficiently. Instead of spreading resources over all customers, businesses can focus on those who bring in the most value.\n",
        "\n",
        "* **Product Development and Pricing Strategies:** Understanding the lifetime value of a customer can influence product development strategies. Businesses can design products and services nthat cater to the needs of their most profitable customers. It also helps in setting pricing strategies that maximize profit without losing valuable customers.\n",
        "\n",
        "* **Predictive Analysis:** It helps in forecasting future revenues and making informed decisions about potential investments in customer acquisition and retention.\n",
        "\n",
        "* **Focused Marketing and Customer retention:** It enables businesses to identify the most valuable customers, allowing for more targeted and personalized marketing strategies. By understanding who your high-value customers are, you can tailor your marketing efforts to retain these profitable segments."
      ],
      "metadata": {
        "id": "SpVBVkUMPV8H"
      }
    },
    {
      "cell_type": "markdown",
      "source": [
        "## OVERVIEW OF RFM ANALYSIS<a id=\"2\"></a>"
      ],
      "metadata": {
        "id": "TDfDpHSSPV8H"
      }
    },
    {
      "cell_type": "markdown",
      "source": [
        "RFM(RECENCY, FREQUENCY, MONETARY) Analysis is a marketing technique used for quantifying and evaluating customer behaviour. It segments customers based on their tranaction history - how recently and how often they purchased, and how much they spent.\n",
        "\n",
        "\n",
        "* **Recency(R):** This is the measure of how recently a customer has made a purchase. A recent purchase is a strong indicator that the customer is active and more likely to buy again.\n",
        "\n",
        "\n",
        "* **Frequency(F):** This accesses how often a customer makes a purchase. Frequent buyers are more likely to continue purchasing in the future, indicating higher loyalty, satisfaction and engagement. While infrequent purchases suggests a need for re-engagement strategies.\n",
        "\n",
        "\n",
        "* **Monetary Value(M):** This evaluates how much money a customer has spent over time. Customers who spend more are the valuable. This determines the customer's value to the business. High monetary customers contribute more to revenue, while lower spenders may require targeted strategies to increase their purchasing activity.\n",
        "\n",
        "\n",
        "To successfully perform RFM, our dataset must have some crucial features:\n",
        "\n",
        "* **Customer Identifier:** A unique identifier for each customer to differentiate between customers and aggregate purchases on a per-customer basis.\n",
        "\n",
        "* **Transaction/Purchase Date:** Date and time the purchases were made to calculate the Recency component of RFM.\n",
        "\n",
        "* **Transaction Value:** The monetary value of each transaction to compute the Monetary component of RFM, which is total amount spent by the customer.\n",
        "\n",
        "* **Transaction Frequency (Optional):** Information on the frequency of transactions. It can as well be done by counting the number of transactions per customer."
      ],
      "metadata": {
        "id": "pUrjiCHLPV8I"
      }
    },
    {
      "cell_type": "markdown",
      "source": [
        "## IMPORTANCE OF RFM IN BUSINESS STRATEGIES<a id=\"3\"></a>"
      ],
      "metadata": {
        "id": "UeVOP2CvPV8I"
      }
    },
    {
      "cell_type": "markdown",
      "source": [
        "By integrating RFM analysis into business strategies, companies can:\n",
        "\n",
        "* **Optimize Marketing Campaigns:** RFM analysis can drive more effective marketing campaigns by targeting the right customers with the right message at the right time.\n",
        "\n",
        "* **Improve Customer Service:** Understanding different segments helps in tailoring customer service efforts to meet the specific needs and preferences of each group.\n",
        "\n",
        "* **Increase Customer Loyalty:** By focusing on customers who are more likely to make frequent and recent purchases, businesses can implement strategies to boost customer loyalty.\n",
        "\n",
        "* **Identify Potential High-Value Customers:** It helps in spotting customers with the potential to become high-value patrons based on their buying patterns.\n",
        "\n",
        "* **Personalized Customer Engagement:** It gives room for more personalized communications and offers, as customers are segmented based on their purchasing behaviour.\n",
        "\n",
        "\n",
        "It is a great tool for business aiming to thrive in a customer-centric era. It helps in serving current customers and also in predicting and shaping future customer interactions and profitability."
      ],
      "metadata": {
        "id": "QqnCTpJQPV8I"
      }
    },
    {
      "cell_type": "markdown",
      "source": [
        "## FIRST ORGANIZATION<a id=\"4\"></a>"
      ],
      "metadata": {
        "id": "DVTSlUyBPV8I"
      }
    },
    {
      "cell_type": "markdown",
      "source": [
        "### 4.1 Loading Our DataSet<a id=\"5\"></a>"
      ],
      "metadata": {
        "id": "e0NBvg1dPV8J"
      }
    },
    {
      "cell_type": "code",
      "source": [
        "import pandas as pd"
      ],
      "metadata": {
        "_uuid": "8f2839f25d086af736a60e9eeb907d3b93b6e0e5",
        "_cell_guid": "b1076dfc-b9ad-4769-8c92-a6c4dae69d19",
        "execution": {
          "iopub.status.busy": "2024-05-17T13:04:04.995436Z",
          "iopub.execute_input": "2024-05-17T13:04:04.996279Z",
          "iopub.status.idle": "2024-05-17T13:04:05.003443Z",
          "shell.execute_reply.started": "2024-05-17T13:04:04.99624Z",
          "shell.execute_reply": "2024-05-17T13:04:05.001592Z"
        },
        "trusted": true,
        "id": "48pTmqcfPV8J"
      },
      "execution_count": null,
      "outputs": []
    },
    {
      "cell_type": "code",
      "source": [
        "retail_df = pd.read_excel('https://github.com/fenago/datasets/raw/main/Online%20Retail.xlsx')"
      ],
      "metadata": {
        "execution": {
          "iopub.status.busy": "2024-05-17T13:04:05.006202Z",
          "iopub.status.idle": "2024-05-17T13:06:02.59652Z",
          "shell.execute_reply.started": "2024-05-17T13:04:05.006738Z",
          "shell.execute_reply": "2024-05-17T13:06:02.5951Z"
        },
        "trusted": true,
        "id": "8_FDiXAoPV8J"
      },
      "execution_count": null,
      "outputs": []
    },
    {
      "cell_type": "code",
      "source": [
        "retail_df.head()"
      ],
      "metadata": {
        "execution": {
          "iopub.status.busy": "2024-05-17T13:06:02.59829Z",
          "iopub.execute_input": "2024-05-17T13:06:02.5987Z",
          "iopub.status.idle": "2024-05-17T13:06:02.617938Z",
          "shell.execute_reply.started": "2024-05-17T13:06:02.598664Z",
          "shell.execute_reply": "2024-05-17T13:06:02.616613Z"
        },
        "trusted": true,
        "id": "8KSMeInKPV8J"
      },
      "execution_count": null,
      "outputs": []
    },
    {
      "cell_type": "markdown",
      "source": [
        "### 4.2 Initial Analysis On Our Dataset<a id=\"6\"></a>"
      ],
      "metadata": {
        "id": "fvOx9l2gPV8J"
      }
    },
    {
      "cell_type": "code",
      "source": [
        "retail_df.info()"
      ],
      "metadata": {
        "execution": {
          "iopub.status.busy": "2024-05-17T13:06:02.621587Z",
          "iopub.execute_input": "2024-05-17T13:06:02.622528Z",
          "iopub.status.idle": "2024-05-17T13:06:02.893547Z",
          "shell.execute_reply.started": "2024-05-17T13:06:02.622486Z",
          "shell.execute_reply": "2024-05-17T13:06:02.892141Z"
        },
        "trusted": true,
        "id": "-VQEPhDiPV8K"
      },
      "execution_count": null,
      "outputs": []
    },
    {
      "cell_type": "code",
      "source": [
        "retail_df.shape"
      ],
      "metadata": {
        "execution": {
          "iopub.status.busy": "2024-05-17T13:06:02.895142Z",
          "iopub.execute_input": "2024-05-17T13:06:02.895674Z",
          "iopub.status.idle": "2024-05-17T13:06:02.905047Z",
          "shell.execute_reply.started": "2024-05-17T13:06:02.895628Z",
          "shell.execute_reply": "2024-05-17T13:06:02.903673Z"
        },
        "trusted": true,
        "id": "zjE_K8zFPV8K"
      },
      "execution_count": null,
      "outputs": []
    },
    {
      "cell_type": "code",
      "source": [
        "retail_df.isnull().sum()"
      ],
      "metadata": {
        "execution": {
          "iopub.status.busy": "2024-05-17T13:06:02.906746Z",
          "iopub.execute_input": "2024-05-17T13:06:02.907318Z",
          "iopub.status.idle": "2024-05-17T13:06:03.16488Z",
          "shell.execute_reply.started": "2024-05-17T13:06:02.907271Z",
          "shell.execute_reply": "2024-05-17T13:06:03.163461Z"
        },
        "trusted": true,
        "id": "F7UOBtYSPV8K"
      },
      "execution_count": null,
      "outputs": []
    },
    {
      "cell_type": "markdown",
      "source": [
        "#### 4.2.1 Analysis Outputs (1)<a id=\"7\"></a>"
      ],
      "metadata": {
        "id": "LFaheopiPV8K"
      }
    },
    {
      "cell_type": "markdown",
      "source": [
        "* Our dataset has 541909 rows and 8 columns.\n",
        "\n",
        "* Our dataset has 1 datetime, 2 floats, 1 integer and 4 objects data types.\n",
        "\n",
        "* There are 1454 and 135080 missing values in Description and CustomerID columns respectively."
      ],
      "metadata": {
        "id": "-Hg_E399PV8K"
      }
    },
    {
      "cell_type": "markdown",
      "source": [
        "## EXPLORATORY DATA ANALYSIS (EDA)<a id=\"8\"></a>"
      ],
      "metadata": {
        "id": "Z-M2rKEvPV8K"
      }
    },
    {
      "cell_type": "markdown",
      "source": [
        "### 5.1 Dropping Duplicates<a id=\"9\"></a>"
      ],
      "metadata": {
        "id": "X3XyskRsPV8K"
      }
    },
    {
      "cell_type": "code",
      "source": [
        "# Removing duplicates\n",
        "retail_df.drop_duplicates(inplace = True)"
      ],
      "metadata": {
        "execution": {
          "iopub.status.busy": "2024-05-17T13:06:03.166617Z",
          "iopub.execute_input": "2024-05-17T13:06:03.167083Z",
          "iopub.status.idle": "2024-05-17T13:06:03.68963Z",
          "shell.execute_reply.started": "2024-05-17T13:06:03.167042Z",
          "shell.execute_reply": "2024-05-17T13:06:03.688411Z"
        },
        "trusted": true,
        "id": "VzRk_nhcPV8K"
      },
      "execution_count": null,
      "outputs": []
    },
    {
      "cell_type": "markdown",
      "source": [
        "### 5.2 Dropping Missing Values<a id=\"10\"></a>"
      ],
      "metadata": {
        "id": "VdpFoX8xPV8L"
      }
    },
    {
      "cell_type": "code",
      "source": [
        "# Dropping missing values\n",
        "retail_df.dropna(subset = ['CustomerID'], inplace = True)"
      ],
      "metadata": {
        "execution": {
          "iopub.status.busy": "2024-05-17T13:06:03.691071Z",
          "iopub.execute_input": "2024-05-17T13:06:03.691433Z",
          "iopub.status.idle": "2024-05-17T13:06:03.745633Z",
          "shell.execute_reply.started": "2024-05-17T13:06:03.691401Z",
          "shell.execute_reply": "2024-05-17T13:06:03.744304Z"
        },
        "trusted": true,
        "id": "zu_Ebh-1PV8L"
      },
      "execution_count": null,
      "outputs": []
    },
    {
      "cell_type": "markdown",
      "source": [
        "### 5.3 Creating \"Total\" Column<a id=\"11\"></a>"
      ],
      "metadata": {
        "id": "-Ica7L1mPV8L"
      }
    },
    {
      "cell_type": "code",
      "source": [
        "# Creating \"Total\" column representing total spending per transaction\n",
        "retail_df['Total'] = retail_df['Quantity'] * retail_df['UnitPrice']"
      ],
      "metadata": {
        "execution": {
          "iopub.status.busy": "2024-05-17T13:06:03.747211Z",
          "iopub.execute_input": "2024-05-17T13:06:03.747629Z",
          "iopub.status.idle": "2024-05-17T13:06:03.755827Z",
          "shell.execute_reply.started": "2024-05-17T13:06:03.747595Z",
          "shell.execute_reply": "2024-05-17T13:06:03.754452Z"
        },
        "trusted": true,
        "id": "4IIl_DchPV8L"
      },
      "execution_count": null,
      "outputs": []
    },
    {
      "cell_type": "code",
      "source": [
        "retail_df[\"InvoiceDate\"].max()"
      ],
      "metadata": {
        "execution": {
          "iopub.status.busy": "2024-05-17T13:06:03.759731Z",
          "iopub.execute_input": "2024-05-17T13:06:03.760149Z",
          "iopub.status.idle": "2024-05-17T13:06:03.772176Z",
          "shell.execute_reply.started": "2024-05-17T13:06:03.760114Z",
          "shell.execute_reply": "2024-05-17T13:06:03.770843Z"
        },
        "trusted": true,
        "id": "EiIsmrfePV8M"
      },
      "execution_count": null,
      "outputs": []
    },
    {
      "cell_type": "markdown",
      "source": [
        "### 5.4 Calculating RFM Metrics<a id=\"12\"></a>"
      ],
      "metadata": {
        "id": "4c69nN6UPV8M"
      }
    },
    {
      "cell_type": "code",
      "source": [
        "import datetime as dt\n",
        "\n",
        "#Recency\n",
        "latest_date = retail_df['InvoiceDate'].max() + dt.timedelta(days = 1)\n",
        "\n",
        "rfm = retail_df.groupby('CustomerID').agg({\n",
        "    'InvoiceDate': lambda x: (latest_date - x.max()).days,\n",
        "    'InvoiceNo': 'count',\n",
        "    'Total': 'sum'\n",
        "}).reset_index()\n",
        "\n",
        "rfm.rename(columns = {\n",
        "    'InvoiceDate': 'Recency',\n",
        "    'InvoiceNo': 'Frequency',\n",
        "    'Total': 'MonetaryValue'\n",
        "}, inplace = True)"
      ],
      "metadata": {
        "execution": {
          "iopub.status.busy": "2024-05-17T13:06:03.77387Z",
          "iopub.execute_input": "2024-05-17T13:06:03.774888Z",
          "iopub.status.idle": "2024-05-17T13:06:04.532995Z",
          "shell.execute_reply.started": "2024-05-17T13:06:03.774842Z",
          "shell.execute_reply": "2024-05-17T13:06:04.531589Z"
        },
        "trusted": true,
        "id": "wQoo_woyPV8M"
      },
      "execution_count": null,
      "outputs": []
    },
    {
      "cell_type": "code",
      "source": [
        "#Recency score based on quantiles\n",
        "#Assigning labels from 1-5,  1 being the lowest recency\n",
        "rfm[\"Recency_score\"] = pd.qcut(rfm['Recency'], 5, labels = [5, 4, 3, 2, 1])\n",
        "\n",
        "#Frequency score\n",
        "rfm[\"Frequency_score\"] = pd.qcut(rfm['Frequency'].rank(method = \"first\"), 5, labels = [1, 2, 3, 4, 5])"
      ],
      "metadata": {
        "trusted": true,
        "id": "mJ-wadN_PV8M"
      },
      "execution_count": null,
      "outputs": []
    },
    {
      "cell_type": "code",
      "source": [
        "#Combine Recency and Frequency scores to create RFM Segment\n",
        "rfm[\"rfm_segment\"] = rfm['Recency_score'].astype(str) + rfm['Frequency_score'].astype(str)"
      ],
      "metadata": {
        "trusted": true,
        "id": "3RW8FIMEPV8N"
      },
      "execution_count": null,
      "outputs": []
    },
    {
      "cell_type": "code",
      "source": [
        "rfm"
      ],
      "metadata": {
        "trusted": true,
        "id": "yJXZagDFPV8N"
      },
      "execution_count": null,
      "outputs": []
    },
    {
      "cell_type": "markdown",
      "source": [
        "## DATA VISUALIZATION<a id=\"13\"></a>"
      ],
      "metadata": {
        "id": "7xgjvp1IPV8N"
      }
    },
    {
      "cell_type": "markdown",
      "source": [
        "I was getting an error: /opt/conda/lib/python3.10/site-packages/seaborn/_oldcore.py:1119: FutureWarning: use_inf_as_na option is deprecated and will be removed in a future version. Convert inf values to NaN before operating instead.\n",
        "  with pd.option_context('mode.use_inf_as_na', True):\n",
        "\n",
        "So, I got the solution from the link below.\n",
        "\n",
        "https://machinelearningmastery.com/how-to-fix-futurewarning-messages-in-scikit-learn/"
      ],
      "metadata": {
        "id": "vnNVjZNOPV8N"
      }
    },
    {
      "cell_type": "markdown",
      "source": [
        "### 6.1 Recency Distribution<a id=\"14\"></a>"
      ],
      "metadata": {
        "id": "hC43qA8ePV8N"
      }
    },
    {
      "cell_type": "code",
      "source": [
        "import seaborn as sns\n",
        "import matplotlib.pyplot as plt\n",
        "#Eliminating Future warning\n",
        "from warnings import simplefilter\n",
        "simplefilter(action='ignore', category=FutureWarning)\n",
        "####################################\n",
        "# recency Distribution\n",
        "sns.histplot(data = rfm, x = 'Recency', bins = 30)\n",
        "plt.title('Recency Distribution')\n",
        "plt.show()"
      ],
      "metadata": {
        "trusted": true,
        "id": "kAoasZ2sPV8N"
      },
      "execution_count": null,
      "outputs": []
    },
    {
      "cell_type": "markdown",
      "source": [
        "### 6.2 Frequency Distribution<a id=\"15\"></a>"
      ],
      "metadata": {
        "id": "aswFQP-_PV8T"
      }
    },
    {
      "cell_type": "code",
      "source": [
        "# Frequency Distribution\n",
        "sns.histplot(data = rfm, x = 'Frequency', bins = 30)\n",
        "plt.title('Frequency Distribution')\n",
        "plt.show()"
      ],
      "metadata": {
        "trusted": true,
        "id": "lJhvucv9PV8U"
      },
      "execution_count": null,
      "outputs": []
    },
    {
      "cell_type": "markdown",
      "source": [
        "### 6.3 Monetary Distribution<a id=\"16\"></a>"
      ],
      "metadata": {
        "id": "AHNQlcDmPV8U"
      }
    },
    {
      "cell_type": "code",
      "source": [
        "# Monetary Distribution\n",
        "sns.histplot(data = rfm, x = 'MonetaryValue', bins = 30)\n",
        "plt.title('Monetary Value Distribution')\n",
        "plt.show()"
      ],
      "metadata": {
        "trusted": true,
        "id": "pFYVwfxBPV8U"
      },
      "execution_count": null,
      "outputs": []
    },
    {
      "cell_type": "markdown",
      "source": [
        "## CUSTOMER SEGMENTATION<a id=\"17\"></a>"
      ],
      "metadata": {
        "id": "KgTyv8vMPV8V"
      }
    },
    {
      "cell_type": "code",
      "source": [
        "#Mapping segments to their corresponding customer segments\n",
        "segment_map = {\n",
        "    r'[1-2][1-2]' : 'Hibernating',\n",
        "    r'[1-2][3-4]' : 'At-Risk',\n",
        "    r'[1-2]5' : \"Can\\'t Loose\",\n",
        "    r'3[1-2]' : 'About to Slip',\n",
        "    r'33' : 'Need Attention',\n",
        "    r'[3-4][4-5]' : 'Loyal Customers',\n",
        "    r'41' : 'Promising',\n",
        "    r'51' : 'New Customers',\n",
        "    r'[4-5][2-3]' : 'Potential Loyalists',\n",
        "    r'5[4-5]' : 'Champions',\n",
        "}"
      ],
      "metadata": {
        "trusted": true,
        "id": "FF5CZOsLPV8V"
      },
      "execution_count": null,
      "outputs": []
    },
    {
      "cell_type": "code",
      "source": [
        "#Mapping RFM segments to corresponding customer segments\n",
        "rfm['rfm_segment'] = rfm['rfm_segment'].replace(segment_map, regex = True)"
      ],
      "metadata": {
        "trusted": true,
        "id": "sgs-4MLjPV8V"
      },
      "execution_count": null,
      "outputs": []
    },
    {
      "cell_type": "code",
      "source": [
        "rfm"
      ],
      "metadata": {
        "trusted": true,
        "id": "YqKogk_3PV8W"
      },
      "execution_count": null,
      "outputs": []
    },
    {
      "cell_type": "markdown",
      "source": [
        "### 7.1 Data Standardization<a id=\"18\"></a>"
      ],
      "metadata": {
        "id": "gStQarhRPV8W"
      }
    },
    {
      "cell_type": "code",
      "source": [
        "from sklearn.preprocessing import StandardScaler\n",
        "scaler = StandardScaler()\n",
        "rfm_scaled = scaler.fit_transform(rfm[['Recency', 'Frequency', 'MonetaryValue']])\n",
        "\n",
        "rfm_scaled"
      ],
      "metadata": {
        "trusted": true,
        "id": "5dkuQIAfPV8X"
      },
      "execution_count": null,
      "outputs": []
    },
    {
      "cell_type": "markdown",
      "source": [
        "### 7.2 KMeans Clustering<a id=\"19\"></a>"
      ],
      "metadata": {
        "id": "g8woSJZRPV8a"
      }
    },
    {
      "cell_type": "code",
      "source": [
        "from sklearn.cluster import KMeans\n",
        "kmeans = KMeans(n_clusters = 4, random_state = 42)\n",
        "kmeans.fit(rfm_scaled)\n",
        "rfm['Cluster'] = kmeans.labels_"
      ],
      "metadata": {
        "trusted": true,
        "id": "gUg3HacSPV8a"
      },
      "execution_count": null,
      "outputs": []
    },
    {
      "cell_type": "markdown",
      "source": [
        "We will categorize the customers based on their RFM values into groups such as **\"Loyal Customers\"**, **\"New Customers\"**, **\"At-Risk Customers\"** and **\"Lost Customers\"**.\n",
        "\n",
        "* **Champions:** Bought recently, buy often and spend the most.\n",
        "\n",
        "* **Loyal Customers (High Frequency, Low Recency, High Monetary):** These customers buy often and spend a lot. They are recent buyers, indicating ongoing engagement.\n",
        "\n",
        "* **Potential Loyalist:** Recent customers but spent a good amount and bought more than once.\n",
        "\n",
        "* **Recent Customers:** Bought most recently but not often.\n",
        "\n",
        "* **Promising:** Recent buyers but haven't spent much.\n",
        "\n",
        "* **Customers Needing Attention:** Above average recency, frequency and monetary values. May not have bought very recently though.\n",
        "\n",
        "* **About to Slip:** Below average recency, frequency and monetary values. Will lose them if not reactivated.\n",
        "\n",
        "* **New Customers (Low Frequency, Low Recency, Low/Medium Monetary):** These are customers who have started buying recently but have not yet bought frequently or spent a lot.\n",
        "\n",
        "\n",
        "* **At-Risk Customers (Low Frequency, High Recency, Medium/High Monetary):** These are customers who used to buy frequently and spend a significant amount, but it's been long time they purchased.\n",
        "\n",
        "* **Lost Customers (Low Frequency, High Recency, Low Monetary):** These customers have not purchased in a long time, they seldom bought and when they do, they spend little.\n",
        "\n",
        "* **Can't Lose Them:** Made biggest purchases and often. But haven't returned for a long time.\n",
        "\n",
        "* **Hibernating:** Last purchases was long back, with low spenders and low number of orders."
      ],
      "metadata": {
        "id": "kV2RfCb0PV8a"
      }
    },
    {
      "cell_type": "code",
      "source": [
        "rfm"
      ],
      "metadata": {
        "execution": {
          "iopub.status.busy": "2024-05-17T13:08:40.672917Z",
          "iopub.execute_input": "2024-05-17T13:08:40.673374Z",
          "iopub.status.idle": "2024-05-17T13:08:40.690356Z",
          "shell.execute_reply.started": "2024-05-17T13:08:40.673339Z",
          "shell.execute_reply": "2024-05-17T13:08:40.689134Z"
        },
        "trusted": true,
        "id": "brzWWPM_PV8b"
      },
      "execution_count": null,
      "outputs": []
    },
    {
      "cell_type": "code",
      "source": [
        "new_rfm = rfm[[\"Recency\", \"Frequency\", \"MonetaryValue\", \"rfm_segment\"]]"
      ],
      "metadata": {
        "trusted": true,
        "id": "AoTlnpIuPV8b"
      },
      "execution_count": null,
      "outputs": []
    },
    {
      "cell_type": "code",
      "source": [
        "#Convert index to integer\n",
        "new_rfm.index = new_rfm.index.astype(int)\n",
        "new_rfm.head()"
      ],
      "metadata": {
        "trusted": true,
        "id": "J5IW3-WZPV8b"
      },
      "execution_count": null,
      "outputs": []
    },
    {
      "cell_type": "code",
      "source": [
        "plt.figure(figsize = (10, 6))\n",
        "sns.scatterplot(x = 'Recency', y = 'Frequency', hue = 'rfm_segment', data = new_rfm, palette = 'viridis')\n",
        "plt.title('Customer Cluster based on Recency and Frequency')\n",
        "plt.show()"
      ],
      "metadata": {
        "execution": {
          "iopub.status.busy": "2024-05-17T13:14:07.210036Z",
          "iopub.execute_input": "2024-05-17T13:14:07.210998Z",
          "iopub.status.idle": "2024-05-17T13:14:08.116602Z",
          "shell.execute_reply.started": "2024-05-17T13:14:07.210956Z",
          "shell.execute_reply": "2024-05-17T13:14:08.115355Z"
        },
        "trusted": true,
        "id": "S2CAOWwaPV8b"
      },
      "execution_count": null,
      "outputs": []
    },
    {
      "cell_type": "code",
      "source": [
        " import plotly.express as px\n",
        "#Top 10 most preferred products\n",
        "segments = new_rfm['rfm_segment'].value_counts()\n",
        "\n",
        "fig = px.bar(\n",
        "     x = segments.index,\n",
        "     y = segments.values,\n",
        "     color = segments.index,\n",
        "     text = segments.values,\n",
        "     title = \"RFM Segments\"\n",
        ")\n",
        "fig.update_layout(\n",
        "    xaxis_title=\"Segment\",\n",
        "    yaxis_title=\"Count\",\n",
        "    font=dict(size=15, family=\"Arial\"),\n",
        "    title_font=dict(size=20, family=\"Arial\")\n",
        ")\n",
        "fig.show()"
      ],
      "metadata": {
        "trusted": true,
        "id": "_Cnif6x0PV8c"
      },
      "execution_count": null,
      "outputs": []
    },
    {
      "cell_type": "code",
      "source": [
        "plt.figure(figsize = (10, 8), )\n",
        "explode = (0.1, 0, 0, 0, 0, 0, 0, 0, 0, 0)\n",
        "\n",
        "segments.plot(\n",
        "    kind = 'pie',\n",
        "    color=segments.index,\n",
        "    explode = explode,\n",
        "    autopct = '%1.2f%%')\n",
        "plt.axis('equal')\n",
        "plt.legend(labels = segments.index, loc = \"best\")\n",
        "plt.show()"
      ],
      "metadata": {
        "trusted": true,
        "id": "6CIpVxygPV8c"
      },
      "execution_count": null,
      "outputs": []
    },
    {
      "cell_type": "code",
      "source": [
        "sns.set_style(\"darkgrid\")\n",
        "colors = sns.color_palette(\"dark\")\n",
        "\n",
        "# Create the plot\n",
        "plt.figure(figsize=(15, 7))\n",
        "sns.barplot(x = \"rfm_segment\", y = \"Frequency\", data = new_rfm, palette=colors)\n",
        "plt.title(\"Customer Segments by Frequency\", color='black', fontsize=16, fontweight='bold')\n",
        "plt.xlabel(\"Segment\", color='black', fontsize=14)\n",
        "plt.ylabel(\"Frequency\", color='black', fontsize=14)\n",
        "plt.xticks(rotation=45, color='black', fontsize=12)\n",
        "plt.yticks(color='black', fontsize=12)\n",
        "plt.show()"
      ],
      "metadata": {
        "trusted": true,
        "id": "VgPnOZtOPV8d"
      },
      "execution_count": null,
      "outputs": []
    },
    {
      "cell_type": "code",
      "source": [
        "new_rfm[[\"rfm_segment\",\"Recency\", \"Frequency\", \"MonetaryValue\"]].groupby(\"rfm_segment\").agg([\"mean\", \"count\",\"sum\"])"
      ],
      "metadata": {
        "trusted": true,
        "id": "SDRWomcJPV8d"
      },
      "execution_count": null,
      "outputs": []
    },
    {
      "cell_type": "markdown",
      "source": [
        "## PREDICTION<a id=\"20\"></a>"
      ],
      "metadata": {
        "id": "ImQy1BIjPV8d"
      }
    },
    {
      "cell_type": "markdown",
      "source": [
        "### 8.1 Predicting Future Customer Spending<a id=\"21\"></a>"
      ],
      "metadata": {
        "id": "tj5QSTmDPV8e"
      }
    },
    {
      "cell_type": "code",
      "source": [
        "features = rfm[['Recency', 'Frequency', 'MonetaryValue']]"
      ],
      "metadata": {
        "trusted": true,
        "id": "vOWW3_MqPV8e"
      },
      "execution_count": null,
      "outputs": []
    },
    {
      "cell_type": "markdown",
      "source": [
        "### 8.2 Creating a Dummy Target Variable<a id=\"22\"></a>"
      ],
      "metadata": {
        "id": "PBpWxY9PPV8e"
      }
    },
    {
      "cell_type": "code",
      "source": [
        "# Target Variable\n",
        "import numpy as np\n",
        "#MoneytaryValue = rfm['MonetaryValue']\n",
        "rfm['FutureSpending'] = np.random.rand(len(rfm)) * 3000"
      ],
      "metadata": {
        "trusted": true,
        "id": "9FWfC4OOPV8f"
      },
      "execution_count": null,
      "outputs": []
    },
    {
      "cell_type": "code",
      "source": [
        "rfm"
      ],
      "metadata": {
        "trusted": true,
        "id": "waWyt7NXPV8f"
      },
      "execution_count": null,
      "outputs": []
    },
    {
      "cell_type": "markdown",
      "source": [
        "### 8.3 Splitting Our Dataset<a id=\"23\"></a>"
      ],
      "metadata": {
        "id": "VrJOYEQOPV8f"
      }
    },
    {
      "cell_type": "code",
      "source": [
        "from sklearn.model_selection import train_test_split\n",
        "\n",
        "X = features\n",
        "y = rfm['FutureSpending']\n",
        "\n",
        "X_train, X_test, y_train, y_test = train_test_split(X, y, test_size = 0.2, random_state = 42)"
      ],
      "metadata": {
        "trusted": true,
        "id": "pU_E0WGrPV8g"
      },
      "execution_count": null,
      "outputs": []
    },
    {
      "cell_type": "markdown",
      "source": [
        "### 8.4 Linear Regression Modelling<a id=\"24\"></a>"
      ],
      "metadata": {
        "id": "7J3Cb-tXPV8g"
      }
    },
    {
      "cell_type": "code",
      "source": [
        "from sklearn.linear_model import LinearRegression\n",
        "\n",
        "lin_reg = LinearRegression()\n",
        "lin_reg.fit(X_train, y_train)"
      ],
      "metadata": {
        "trusted": true,
        "id": "mD5Cr0GNPV8g"
      },
      "execution_count": null,
      "outputs": []
    },
    {
      "cell_type": "markdown",
      "source": [
        "### 8.4.1 Evaluating our Model<a id=\"25\"></a>"
      ],
      "metadata": {
        "id": "ZsJ5u60YPV8h"
      }
    },
    {
      "cell_type": "code",
      "source": [
        "from sklearn.metrics import mean_squared_error, r2_score\n",
        "\n",
        "pred = lin_reg.predict(X_test)\n",
        "\n",
        "mse = mean_squared_error(y_test, pred)\n",
        "r2 = r2_score(y_test, pred)\n",
        "\n",
        "print(f\"Mean Squared Error: {mse}\")\n",
        "print(f\"R^2 Score: {r2}\")"
      ],
      "metadata": {
        "trusted": true,
        "id": "tS6745SYPV8h"
      },
      "execution_count": null,
      "outputs": []
    },
    {
      "cell_type": "code",
      "source": [
        "results_df = pd.DataFrame({'Future Spending': y_test, 'Predicted Spending': pred})\n",
        "results_df"
      ],
      "metadata": {
        "trusted": true,
        "id": "BIuLEg4FPV8h"
      },
      "execution_count": null,
      "outputs": []
    },
    {
      "cell_type": "markdown",
      "source": [
        "## 8.5 Decision Tree Regressor<a id = \"26\"></a>"
      ],
      "metadata": {
        "id": "0v_R-twhPV8h"
      }
    },
    {
      "cell_type": "code",
      "source": [
        "from sklearn.tree import DecisionTreeRegressor\n",
        "\n",
        "dtr = DecisionTreeRegressor()\n",
        "dtr.fit(X_train, y_train)"
      ],
      "metadata": {
        "trusted": true,
        "id": "h6QQJC33PV8h"
      },
      "execution_count": null,
      "outputs": []
    },
    {
      "cell_type": "markdown",
      "source": [
        "#### 8.5.1 Evaluating our Model<a id=\"27\"></a>"
      ],
      "metadata": {
        "id": "_QkRU9THPV8i"
      }
    },
    {
      "cell_type": "code",
      "source": [
        "dtr_pred = dtr.predict(X_test)\n",
        "mse = mean_squared_error(y_test, dtr_pred)\n",
        "r2 = r2_score(y_test, dtr_pred)\n",
        "\n",
        "print(f\"Mean Squared Error: {mse}\")\n",
        "print(f\"R^2 Score: {r2}\")"
      ],
      "metadata": {
        "trusted": true,
        "id": "IQWOtFh_PV8i"
      },
      "execution_count": null,
      "outputs": []
    },
    {
      "cell_type": "code",
      "source": [
        "results_df = pd.DataFrame({'Future Spending': y_test, 'Predicted Spending': dtr_pred})\n",
        "results_df"
      ],
      "metadata": {
        "trusted": true,
        "id": "ujJF_bBhPV8j"
      },
      "execution_count": null,
      "outputs": []
    },
    {
      "cell_type": "markdown",
      "source": [
        "### 8.6 Future Predictions<a id=\"28\"></a>"
      ],
      "metadata": {
        "id": "xnxXBvahPV8j"
      }
    },
    {
      "cell_type": "code",
      "source": [
        "new_customer_rfm = np.array([[10, 5, 300]])\n",
        "pred_spending = lin_reg.predict(new_customer_rfm)\n",
        "\n",
        "print(f\"Predicted Future Spending: {pred_spending[0]}\")"
      ],
      "metadata": {
        "trusted": true,
        "id": "GWbLDllIPV8k"
      },
      "execution_count": null,
      "outputs": []
    },
    {
      "cell_type": "markdown",
      "source": [
        "## ANALYSIS REPORT<a id=\"29\"></a>"
      ],
      "metadata": {
        "id": "c-aD9ezsPV8k"
      }
    },
    {
      "cell_type": "markdown",
      "source": [
        "* We were able to segment customers based on their recency, frequency and monetary value.\n",
        "\n",
        "* We were able to detect our most valuable customers.\n",
        "\n",
        "* We were able to detect our loyal customers.\n",
        "\n",
        "* We were able to detect our new customers.\n",
        "\n",
        "* We were able to detect our lost customers, so we will probably find out why they left us and how to regain their loyalties.\n",
        "\n",
        "* We were able to develop a model for predicting future customer spending based on RFM analysis.\n"
      ],
      "metadata": {
        "id": "u5nfwUXiPV8k"
      }
    },
    {
      "cell_type": "markdown",
      "source": [
        "## CONCLUSION<a id=\"30\"></a>"
      ],
      "metadata": {
        "id": "4W_i1WqpPV8k"
      }
    },
    {
      "cell_type": "markdown",
      "source": [
        "* RFM Analysis is a crucial tool for understanding customer behaviour and segmenting them based on purchasing habits.\n",
        "\n",
        "* RFM helps in personalizing marketing strategies and improving customer engagement and retention."
      ],
      "metadata": {
        "id": "4QjdaL3nPV8l"
      }
    },
    {
      "cell_type": "markdown",
      "source": [
        "## ANALYSIS RECOMENDATIONS"
      ],
      "metadata": {
        "id": "JWvlEoBvPV8l"
      }
    },
    {
      "cell_type": "markdown",
      "source": [
        "**About to Slip**\n",
        "* Mean Recency: 52.24 (321 Customers)\n",
        "* Mean Frequency: 15.73 (5050 Purchases)\n",
        "* Mean Monetary Value: 410.64(Sum: 131,816.47)\n",
        "\n",
        "**Recommendations:**\n",
        "* Offer loyalty rewards or VIP programs to further incentivize their frequent purchases.\n",
        "* Provide exclusive offers or early access to new products/services to maintain their engagement.\n",
        "\n",
        "\n",
        "\n",
        "**At Risk**\n",
        "* Mean Recency:164.71 (590 Customers)\n",
        "* Mean Frequency: 56.53 (33,354 Purchases)\n",
        "* Mean Monetary Value: 949.999(Sum: 560,499.29)\n",
        "\n",
        "**Recommendations:**\n",
        "* Implement targeted re-engagement campaigns to remind them of your value proposition.\n",
        "* Offer personalized discounts or promotions to encourage repeat purchases.\n",
        "\n",
        "\n",
        "\n",
        "**Can't Loose**\n",
        "* Mean Recency:140.62 (79 Customers)\n",
        "* Mean Frequency: 182.61 (14,426 Purchases)\n",
        "* Mean Monetary Value: 2359.03(Sum: 186,363.10)\n",
        "\n",
        "**Recommendations:**\n",
        "* Reaching out to them to know why they have not returned for long time.\n",
        "* Discount sales.\n",
        "\n",
        "\n",
        "\n",
        "**Champions**\n",
        "* Mean Recency:5 (602 Customers)\n",
        "* Mean Frequency: 287.36 (172,992 Purchases)\n",
        "* Mean Monetary Value: 6903.41(Sum: 4,155,851.59)\n",
        "\n",
        "**Recommendations:**\n",
        "* There should be incentives for them quarterly or annualy.\n",
        "* There should be a little bit of discount on all their purchases.\n",
        "\n",
        "\n",
        "\n",
        "\n",
        "**Hibernating**\n",
        "* Mean Recency: 212.13 (1,066 Customers)\n",
        "* Mean Frequency: 13.33 (14,212 Purchases)\n",
        "* Mean Monetary Value: 368.25(Sum: 392,551.25)\n",
        "\n",
        "**Recommendations:**\n",
        "* Reach out with personalized win-back offers or discounts to encourage them to return.\n",
        "* Conduct surveys or feedback sessions to understand why they stopped purchasing and address any concerns.\n",
        "\n",
        "\n",
        "\n",
        "**Loyal Customers**\n",
        "* Mean Recency: 32.28 (842 Customers)\n",
        "* Mean Frequency: 159.73 (134,494 Purchases)\n",
        "* Mean Monetary Value: 2575.195(Sum: 2,168,314.43)\n",
        "\n",
        "**Recommendations:**\n",
        "* These are the customers that bring more customers, so there should be incentives for them for their referrals.\n",
        "\n",
        "\n",
        "\n",
        "\n",
        "**Need Attention**\n",
        "* Mean Recency: 51.214 (201 Customers)\n",
        "* Mean Frequency: 41,08 (8,257 Purchases)\n",
        "* Mean Monetary Value: 799.00(Sum: 160,599.80)\n",
        "\n",
        "\n",
        "\n",
        "**New Customers**\n",
        "* Mean Recency:6.69 (58 Customers)\n",
        "* Mean Frequency: 7.52 (436 Purchases)\n",
        "* Mean Monetary Value: 675.13(Sum: 39,157.72)\n",
        "\n",
        "**Recommendations:**\n",
        "* Welcome them with a special discount or promotion for their next purchase to encourage repeat business.\n",
        "* Implement an onboarding email series to introduce them to your products/services.\n",
        "\n",
        "\n",
        "\n",
        "**Potential Loyalists**\n",
        "* Mean Recency:15.49 (515 Customers)\n",
        "* Mean Frequency: 34.34 (17,685 Purchases)\n",
        "* Mean Monetary Value: 858.93(Sum: 442,346.72)\n",
        "\n",
        "**Recommendations:**\n",
        "* Offer incentives for increasing their frequency of purchases, such as referral bonuses or points-based rewards.\n",
        "* Provide personalized product recommendations based on their past purchases to enhance their shopping experience.\n",
        "\n",
        "\n",
        "\n",
        "**Promising**\n",
        "* Mean Recency: 22.71 (98 Customers)\n",
        "* Mean Frequency: 7.12 (698 Purchases)\n",
        "* Mean Monetary Value: 418.56(Sum: 41,019.05)"
      ],
      "metadata": {
        "id": "jd-nMQfgPV8l"
      }
    }
  ]
}