{
  "nbformat": 4,
  "nbformat_minor": 0,
  "metadata": {
    "colab": {
      "provenance": [],
      "authorship_tag": "ABX9TyPkCAeH5n/sOnZ4G1IZMmCT",
      "include_colab_link": true
    },
    "kernelspec": {
      "name": "python3",
      "display_name": "Python 3"
    },
    "language_info": {
      "name": "python"
    }
  },
  "cells": [
    {
      "cell_type": "markdown",
      "metadata": {
        "id": "view-in-github",
        "colab_type": "text"
      },
      "source": [
        "<a href=\"https://colab.research.google.com/github/Sifatkhan-1915020/deeplearning-/blob/main/Global_Pooling_using_Keras.ipynb\" target=\"_parent\"><img src=\"https://colab.research.google.com/assets/colab-badge.svg\" alt=\"Open In Colab\"/></a>"
      ]
    },
    {
      "cell_type": "code",
      "source": [
        "import numpy as np\n",
        "from keras.models import Sequential\n",
        "from keras.layers import GlobalMaxPooling2D\n",
        "from keras.layers import GlobalAveragePooling2D"
      ],
      "metadata": {
        "id": "55Y-4Q5GJ4ds"
      },
      "execution_count": 15,
      "outputs": []
    },
    {
      "cell_type": "code",
      "source": [
        "image = np.array([[2, 2, 7, 3],\n",
        "                  [9, 4, 6, 1],\n",
        "                  [8, 5, 2, 4],\n",
        "                  [3, 1, 2, 6]])\n",
        "image = image.reshape(1, 4, 4, 1)"
      ],
      "metadata": {
        "id": "ByzvsmGYLNmS"
      },
      "execution_count": 16,
      "outputs": []
    },
    {
      "cell_type": "code",
      "source": [
        "gm_model = Sequential(\n",
        "    [GlobalMaxPooling2D()])\n",
        ""
      ],
      "metadata": {
        "id": "uTqBrlxDLPKK"
      },
      "execution_count": 17,
      "outputs": []
    },
    {
      "cell_type": "code",
      "source": [
        "ga_model = Sequential(\n",
        "    [GlobalAveragePooling2D()])"
      ],
      "metadata": {
        "id": "jLzzWLQJLUXB"
      },
      "execution_count": 18,
      "outputs": []
    },
    {
      "cell_type": "code",
      "source": [
        "gm_output = gm_model.predict(image)\n",
        "ga_output = ga_model.predict(image)"
      ],
      "metadata": {
        "id": "fScvjke3Lhvp",
        "outputId": "fd5155a7-00e8-4f88-f88a-3c8f5fae08e6",
        "colab": {
          "base_uri": "https://localhost:8080/"
        }
      },
      "execution_count": 19,
      "outputs": [
        {
          "output_type": "stream",
          "name": "stdout",
          "text": [
            "1/1 [==============================] - 0s 44ms/step\n",
            "1/1 [==============================] - 0s 44ms/step\n"
          ]
        }
      ]
    },
    {
      "cell_type": "code",
      "source": [
        "gm_output = np.squeeze(gm_output)\n",
        "ga_output = np.squeeze(ga_output)\n",
        "print(\"gm_output: \", gm_output)\n",
        "print(\"ga_output: \", ga_output)"
      ],
      "metadata": {
        "id": "Km_VPetwMY7B",
        "outputId": "3c9e97b3-6409-4868-a690-eaa0361f4690",
        "colab": {
          "base_uri": "https://localhost:8080/"
        }
      },
      "execution_count": 20,
      "outputs": [
        {
          "output_type": "stream",
          "name": "stdout",
          "text": [
            "gm_output:  9\n",
            "ga_output:  4\n"
          ]
        }
      ]
    }
  ]
}